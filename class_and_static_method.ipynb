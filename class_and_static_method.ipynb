{
  "nbformat": 4,
  "nbformat_minor": 0,
  "metadata": {
    "colab": {
      "provenance": [],
      "authorship_tag": "ABX9TyPKdtgN2eacwmvwWYKh8xbo",
      "include_colab_link": true
    },
    "kernelspec": {
      "name": "python3",
      "display_name": "Python 3"
    },
    "language_info": {
      "name": "python"
    }
  },
  "cells": [
    {
      "cell_type": "markdown",
      "metadata": {
        "id": "view-in-github",
        "colab_type": "text"
      },
      "source": [
        "<a href=\"https://colab.research.google.com/github/Shivauppe/Data_science_python/blob/main/class_and_static_method.ipynb\" target=\"_parent\"><img src=\"https://colab.research.google.com/assets/colab-badge.svg\" alt=\"Open In Colab\"/></a>"
      ]
    },
    {
      "cell_type": "code",
      "execution_count": null,
      "metadata": {
        "id": "6h1cB8tn_-Dv"
      },
      "outputs": [],
      "source": [
        "# class method is bound to the class (and not to the perticuler instance of the class ) access or modify methods and attributes associated to the class across\n",
        "# all instances to the lass\n",
        "\n",
        "# defined using @classmethod decorator\n",
        "#  instead of self, use cls\n"
      ]
    },
    {
      "cell_type": "code",
      "source": [
        "class Student():\n",
        "  # constructor\n",
        "  def __init__(self,name):\n",
        "    self.name = name\n",
        ""
      ],
      "metadata": {
        "id": "bK6grf2FCkJs"
      },
      "execution_count": 2,
      "outputs": []
    },
    {
      "cell_type": "code",
      "source": [
        "obj1 = Student(\"ravi\")"
      ],
      "metadata": {
        "id": "5hv-WXoXTu4e"
      },
      "execution_count": 3,
      "outputs": []
    },
    {
      "cell_type": "code",
      "source": [
        "obj1.name"
      ],
      "metadata": {
        "colab": {
          "base_uri": "https://localhost:8080/",
          "height": 35
        },
        "id": "ta5MvK_cT2U3",
        "outputId": "166e205a-85ed-482f-c8a9-84e6d06a76fd"
      },
      "execution_count": 4,
      "outputs": [
        {
          "output_type": "execute_result",
          "data": {
            "text/plain": [
              "'ravi'"
            ],
            "application/vnd.google.colaboratory.intrinsic+json": {
              "type": "string"
            }
          },
          "metadata": {},
          "execution_count": 4
        }
      ]
    },
    {
      "cell_type": "code",
      "source": [
        "class Student_1():\n",
        "  # constructor\n",
        "  def __init__(self,name):\n",
        "    self.name = name\n",
        "  @classmethod\n",
        "  def student_details(cls,name):\n",
        "    return cls(name)"
      ],
      "metadata": {
        "id": "ZybK7f0DT9dD"
      },
      "execution_count": 29,
      "outputs": []
    },
    {
      "cell_type": "code",
      "source": [
        "obj1 = Student_1(\"ravi\")"
      ],
      "metadata": {
        "id": "MBTKuJNSUExw"
      },
      "execution_count": 30,
      "outputs": []
    },
    {
      "cell_type": "code",
      "source": [
        "obj1.name"
      ],
      "metadata": {
        "colab": {
          "base_uri": "https://localhost:8080/",
          "height": 35
        },
        "id": "2r7h3bZ-UOeV",
        "outputId": "bd85ebf4-c866-4582-ab0d-164b241a99d4"
      },
      "execution_count": 31,
      "outputs": [
        {
          "output_type": "execute_result",
          "data": {
            "text/plain": [
              "'ravi'"
            ],
            "application/vnd.google.colaboratory.intrinsic+json": {
              "type": "string"
            }
          },
          "metadata": {},
          "execution_count": 31
        }
      ]
    },
    {
      "cell_type": "code",
      "source": [
        "#what is the meaning that is refering the class?\n",
        "#earlier to access any method /attributes >> first make instance of the class\n",
        "#but if its a class then you can directly access it\n",
        "\n",
        "obj2 = Student_1.student_details(\"Shivanand\") #-- since students_detail directly binds to the class"
      ],
      "metadata": {
        "id": "IwDTB4U8WrLt"
      },
      "execution_count": 37,
      "outputs": []
    },
    {
      "cell_type": "code",
      "source": [
        "obj2.name"
      ],
      "metadata": {
        "colab": {
          "base_uri": "https://localhost:8080/",
          "height": 35
        },
        "id": "dyVI9KC7Wyc9",
        "outputId": "7dbc420e-17fc-43c9-db95-42ae1d9bec61"
      },
      "execution_count": 38,
      "outputs": [
        {
          "output_type": "execute_result",
          "data": {
            "text/plain": [
              "'Shivanand'"
            ],
            "application/vnd.google.colaboratory.intrinsic+json": {
              "type": "string"
            }
          },
          "metadata": {},
          "execution_count": 38
        }
      ]
    },
    {
      "cell_type": "code",
      "source": [
        "#how class method is overloading the init method\n",
        "class Student_2:\n",
        "  # constructor\n",
        "  def __init__(self,name):\n",
        "    self.name = name\n",
        "  @classmethod\n",
        "  def student_details(cls,name1):\n",
        "    return cls(name1)"
      ],
      "metadata": {
        "id": "iAEQ65swYgVH"
      },
      "execution_count": 49,
      "outputs": []
    },
    {
      "cell_type": "code",
      "source": [
        "obj3 = Student_2.student_details(\"Shyam\")"
      ],
      "metadata": {
        "id": "hwcTpTh8Y0cs"
      },
      "execution_count": 50,
      "outputs": []
    },
    {
      "cell_type": "code",
      "source": [
        "obj3.name"
      ],
      "metadata": {
        "colab": {
          "base_uri": "https://localhost:8080/",
          "height": 35
        },
        "id": "s0d7o3DOY-zG",
        "outputId": "f1086b40-d081-4826-a174-0e9e0b433c9f"
      },
      "execution_count": 51,
      "outputs": [
        {
          "output_type": "execute_result",
          "data": {
            "text/plain": [
              "'Shyam'"
            ],
            "application/vnd.google.colaboratory.intrinsic+json": {
              "type": "string"
            }
          },
          "metadata": {},
          "execution_count": 51
        }
      ]
    },
    {
      "cell_type": "code",
      "source": [
        "# you will get Shyam inspite of the variable name1\n",
        "#becz it is overloading the init method >>alternative of init\n",
        ""
      ],
      "metadata": {
        "id": "-vcKP42FZwLV"
      },
      "execution_count": null,
      "outputs": []
    },
    {
      "cell_type": "code",
      "source": [
        "#class method can modify class state applicable to all the instances of the class.\n",
        "class Student_3:\n",
        "  total_students = 0\n",
        "  # constructor\n",
        "  def __init__(self,name):\n",
        "    self.name = name\n",
        "    Student_3.total_students += 1\n",
        "  @classmethod\n",
        "  def get_total_students(cls):\n",
        "    return cls.total_students"
      ],
      "metadata": {
        "id": "Z1yj-GJ3aTTt"
      },
      "execution_count": 52,
      "outputs": []
    },
    {
      "cell_type": "code",
      "source": [
        "Student_3.get_total_students()"
      ],
      "metadata": {
        "colab": {
          "base_uri": "https://localhost:8080/"
        },
        "id": "efdUiD2GbOM4",
        "outputId": "41b4137a-9346-4132-fdda-3b656c4dbd9b"
      },
      "execution_count": 53,
      "outputs": [
        {
          "output_type": "execute_result",
          "data": {
            "text/plain": [
              "0"
            ]
          },
          "metadata": {},
          "execution_count": 53
        }
      ]
    },
    {
      "cell_type": "code",
      "source": [
        "obj4 = Student_3(\"Shivanand\")"
      ],
      "metadata": {
        "id": "xzFF2LTMbS_L"
      },
      "execution_count": 54,
      "outputs": []
    },
    {
      "cell_type": "code",
      "source": [
        "obj5 = Student_3(\"Shyam and Shivanand\")"
      ],
      "metadata": {
        "id": "5z8JQoSvbsqV"
      },
      "execution_count": 56,
      "outputs": []
    },
    {
      "cell_type": "code",
      "source": [
        "obj4.get_total_students()"
      ],
      "metadata": {
        "colab": {
          "base_uri": "https://localhost:8080/"
        },
        "id": "JplaoH1sbmcr",
        "outputId": "5f0e977b-2156-46dc-ad10-a8476c1a3ea9"
      },
      "execution_count": 57,
      "outputs": [
        {
          "output_type": "execute_result",
          "data": {
            "text/plain": [
              "2"
            ]
          },
          "metadata": {},
          "execution_count": 57
        }
      ]
    },
    {
      "cell_type": "code",
      "source": [
        "class Student_4:\n",
        "  total_students = 0\n",
        "  # constructor\n",
        "  def __init__(self,name):\n",
        "    self.name = name\n",
        "    Student_4.total_students += 1\n",
        "  @classmethod\n",
        "  def get_total_students(cls):\n",
        "    return cls.total_students"
      ],
      "metadata": {
        "id": "82bpid6EcZIJ"
      },
      "execution_count": 59,
      "outputs": []
    },
    {
      "cell_type": "code",
      "source": [
        "def course_details(cls,course_name):\n",
        "  print(\"course name is\",course_name)\n"
      ],
      "metadata": {
        "id": "YmnEtIarclxn"
      },
      "execution_count": 63,
      "outputs": []
    },
    {
      "cell_type": "code",
      "source": [
        "Student_4.course_details = classmethod(course_details) # adding external function to class\n",
        "\n"
      ],
      "metadata": {
        "id": "6H8UoKnecvKk"
      },
      "execution_count": 66,
      "outputs": []
    },
    {
      "cell_type": "code",
      "source": [
        "Student_4.course_details(\"Data Science\")"
      ],
      "metadata": {
        "colab": {
          "base_uri": "https://localhost:8080/"
        },
        "id": "FKyyUFakdLd4",
        "outputId": "8210bf5c-d892-4027-d549-289658e253b2"
      },
      "execution_count": 65,
      "outputs": [
        {
          "output_type": "stream",
          "name": "stdout",
          "text": [
            "course name is Data Science\n"
          ]
        }
      ]
    }
  ]
}