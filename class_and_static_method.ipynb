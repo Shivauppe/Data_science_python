{
  "nbformat": 4,
  "nbformat_minor": 0,
  "metadata": {
    "colab": {
      "provenance": [],
      "authorship_tag": "ABX9TyO36onW+8k8TPgrhvh6jPM+",
      "include_colab_link": true
    },
    "kernelspec": {
      "name": "python3",
      "display_name": "Python 3"
    },
    "language_info": {
      "name": "python"
    }
  },
  "cells": [
    {
      "cell_type": "markdown",
      "metadata": {
        "id": "view-in-github",
        "colab_type": "text"
      },
      "source": [
        "<a href=\"https://colab.research.google.com/github/Shivauppe/Data_science_python/blob/main/class_and_static_method.ipynb\" target=\"_parent\"><img src=\"https://colab.research.google.com/assets/colab-badge.svg\" alt=\"Open In Colab\"/></a>"
      ]
    },
    {
      "cell_type": "code",
      "execution_count": null,
      "metadata": {
        "id": "6h1cB8tn_-Dv"
      },
      "outputs": [],
      "source": [
        "# class method is bound to the class (and not to the perticuler instance of the class ) access or modify methods and attributes associated to the class across\n",
        "# all instances to the lass\n",
        "\n",
        "# defined using @classmethod decorator\n",
        "#  instead of self, use cls\n"
      ]
    },
    {
      "cell_type": "code",
      "source": [
        "class Student():\n",
        "  # constructor\n",
        "  def __init__(self,name):\n",
        "    self.name = name\n",
        ""
      ],
      "metadata": {
        "id": "bK6grf2FCkJs"
      },
      "execution_count": 2,
      "outputs": []
    },
    {
      "cell_type": "code",
      "source": [
        "obj1 = Student(\"ravi\")"
      ],
      "metadata": {
        "id": "5hv-WXoXTu4e"
      },
      "execution_count": 3,
      "outputs": []
    },
    {
      "cell_type": "code",
      "source": [
        "obj1.name"
      ],
      "metadata": {
        "colab": {
          "base_uri": "https://localhost:8080/",
          "height": 35
        },
        "id": "ta5MvK_cT2U3",
        "outputId": "166e205a-85ed-482f-c8a9-84e6d06a76fd"
      },
      "execution_count": 4,
      "outputs": [
        {
          "output_type": "execute_result",
          "data": {
            "text/plain": [
              "'ravi'"
            ],
            "application/vnd.google.colaboratory.intrinsic+json": {
              "type": "string"
            }
          },
          "metadata": {},
          "execution_count": 4
        }
      ]
    },
    {
      "cell_type": "code",
      "source": [
        "class Student_1():\n",
        "  # constructor\n",
        "  def __init__(self,name):\n",
        "    self.name = name\n",
        "  @classmethod\n",
        "  def student_details(cls,name):\n",
        "    return cls(name)"
      ],
      "metadata": {
        "id": "ZybK7f0DT9dD"
      },
      "execution_count": 29,
      "outputs": []
    },
    {
      "cell_type": "code",
      "source": [
        "obj1 = Student_1(\"ravi\")"
      ],
      "metadata": {
        "id": "MBTKuJNSUExw"
      },
      "execution_count": 30,
      "outputs": []
    },
    {
      "cell_type": "code",
      "source": [
        "obj1.name"
      ],
      "metadata": {
        "colab": {
          "base_uri": "https://localhost:8080/",
          "height": 35
        },
        "id": "2r7h3bZ-UOeV",
        "outputId": "bd85ebf4-c866-4582-ab0d-164b241a99d4"
      },
      "execution_count": 31,
      "outputs": [
        {
          "output_type": "execute_result",
          "data": {
            "text/plain": [
              "'ravi'"
            ],
            "application/vnd.google.colaboratory.intrinsic+json": {
              "type": "string"
            }
          },
          "metadata": {},
          "execution_count": 31
        }
      ]
    },
    {
      "cell_type": "code",
      "source": [
        "#what is the meaning that is refering the class?\n",
        "#earlier to access any method /attributes >> first make instance of the class\n",
        "#but if its a class then you can directly access it\n",
        "\n",
        "obj2 = Student_1.student_details(\"Shivanand\") #-- since students_detail directly binds to the class"
      ],
      "metadata": {
        "id": "IwDTB4U8WrLt"
      },
      "execution_count": 37,
      "outputs": []
    },
    {
      "cell_type": "code",
      "source": [
        "obj2.name"
      ],
      "metadata": {
        "colab": {
          "base_uri": "https://localhost:8080/",
          "height": 35
        },
        "id": "dyVI9KC7Wyc9",
        "outputId": "7dbc420e-17fc-43c9-db95-42ae1d9bec61"
      },
      "execution_count": 38,
      "outputs": [
        {
          "output_type": "execute_result",
          "data": {
            "text/plain": [
              "'Shivanand'"
            ],
            "application/vnd.google.colaboratory.intrinsic+json": {
              "type": "string"
            }
          },
          "metadata": {},
          "execution_count": 38
        }
      ]
    },
    {
      "cell_type": "code",
      "source": [
        "#how class method is overloading the init method\n",
        "class Student_2:\n",
        "  # constructor\n",
        "  def __init__(self,name):\n",
        "    self.name = name\n",
        "  @classmethod\n",
        "  def student_details(cls,name1):\n",
        "    return cls(name1)"
      ],
      "metadata": {
        "id": "iAEQ65swYgVH"
      },
      "execution_count": 49,
      "outputs": []
    },
    {
      "cell_type": "code",
      "source": [
        "obj3 = Student_2.student_details(\"Shyam\")"
      ],
      "metadata": {
        "id": "hwcTpTh8Y0cs"
      },
      "execution_count": 50,
      "outputs": []
    },
    {
      "cell_type": "code",
      "source": [
        "obj3.name"
      ],
      "metadata": {
        "colab": {
          "base_uri": "https://localhost:8080/",
          "height": 35
        },
        "id": "s0d7o3DOY-zG",
        "outputId": "f1086b40-d081-4826-a174-0e9e0b433c9f"
      },
      "execution_count": 51,
      "outputs": [
        {
          "output_type": "execute_result",
          "data": {
            "text/plain": [
              "'Shyam'"
            ],
            "application/vnd.google.colaboratory.intrinsic+json": {
              "type": "string"
            }
          },
          "metadata": {},
          "execution_count": 51
        }
      ]
    },
    {
      "cell_type": "code",
      "source": [
        "# you will get Shyam inspite of the variable name1\n",
        "#becz it is overloading the init method >>alternative of init\n",
        ""
      ],
      "metadata": {
        "id": "-vcKP42FZwLV"
      },
      "execution_count": null,
      "outputs": []
    },
    {
      "cell_type": "code",
      "source": [
        "#class method can modify class state applicable to all the instances of the class.\n",
        "class Student_3:\n",
        "  total_students = 0\n",
        "  # constructor\n",
        "  def __init__(self,name):\n",
        "    self.name = name\n",
        "    Student_3.total_students += 1\n",
        "  @classmethod\n",
        "  def get_total_students(cls):\n",
        "    return cls.total_students"
      ],
      "metadata": {
        "id": "Z1yj-GJ3aTTt"
      },
      "execution_count": 52,
      "outputs": []
    },
    {
      "cell_type": "code",
      "source": [
        "Student_3.get_total_students()"
      ],
      "metadata": {
        "colab": {
          "base_uri": "https://localhost:8080/"
        },
        "id": "efdUiD2GbOM4",
        "outputId": "41b4137a-9346-4132-fdda-3b656c4dbd9b"
      },
      "execution_count": 53,
      "outputs": [
        {
          "output_type": "execute_result",
          "data": {
            "text/plain": [
              "0"
            ]
          },
          "metadata": {},
          "execution_count": 53
        }
      ]
    },
    {
      "cell_type": "code",
      "source": [
        "obj4 = Student_3(\"Shivanand\")"
      ],
      "metadata": {
        "id": "xzFF2LTMbS_L"
      },
      "execution_count": 54,
      "outputs": []
    },
    {
      "cell_type": "code",
      "source": [
        "obj5 = Student_3(\"Shyam and Shivanand\")"
      ],
      "metadata": {
        "id": "5z8JQoSvbsqV"
      },
      "execution_count": 56,
      "outputs": []
    },
    {
      "cell_type": "code",
      "source": [
        "obj4.get_total_students()"
      ],
      "metadata": {
        "colab": {
          "base_uri": "https://localhost:8080/"
        },
        "id": "JplaoH1sbmcr",
        "outputId": "5f0e977b-2156-46dc-ad10-a8476c1a3ea9"
      },
      "execution_count": 57,
      "outputs": [
        {
          "output_type": "execute_result",
          "data": {
            "text/plain": [
              "2"
            ]
          },
          "metadata": {},
          "execution_count": 57
        }
      ]
    },
    {
      "cell_type": "code",
      "source": [
        "class Student_4:\n",
        "  total_students = 0\n",
        "  # constructor\n",
        "  def __init__(self,name):\n",
        "    self.name = name\n",
        "    Student_4.total_students += 1\n",
        "  @classmethod\n",
        "  def get_total_students(cls):\n",
        "    return cls.total_students"
      ],
      "metadata": {
        "id": "82bpid6EcZIJ"
      },
      "execution_count": 59,
      "outputs": []
    },
    {
      "cell_type": "code",
      "source": [
        "def course_details(cls,course_name):\n",
        "  print(\"course name is\",course_name)\n"
      ],
      "metadata": {
        "id": "YmnEtIarclxn"
      },
      "execution_count": 63,
      "outputs": []
    },
    {
      "cell_type": "code",
      "source": [
        "Student_4.course_details = classmethod(course_details) # adding external function to class\n",
        "\n"
      ],
      "metadata": {
        "id": "6H8UoKnecvKk"
      },
      "execution_count": 66,
      "outputs": []
    },
    {
      "cell_type": "code",
      "source": [
        "Student_4.course_details(\"Data Science\")"
      ],
      "metadata": {
        "colab": {
          "base_uri": "https://localhost:8080/"
        },
        "id": "FKyyUFakdLd4",
        "outputId": "8210bf5c-d892-4027-d549-289658e253b2"
      },
      "execution_count": 65,
      "outputs": [
        {
          "output_type": "stream",
          "name": "stdout",
          "text": [
            "course name is Data Science\n"
          ]
        }
      ]
    },
    {
      "cell_type": "code",
      "source": [
        "#delete any class method.\n",
        "\n",
        "del Student_4.course_details"
      ],
      "metadata": {
        "id": "tAyEGin5dX_h"
      },
      "execution_count": 67,
      "outputs": []
    },
    {
      "cell_type": "code",
      "source": [
        "Student_4.course_details(\"Data Science\") # throws an error as you have deleted the method.\n"
      ],
      "metadata": {
        "colab": {
          "base_uri": "https://localhost:8080/",
          "height": 141
        },
        "id": "iXt7H7yldf3F",
        "outputId": "6bc56e90-3459-4089-e21c-931f28bbf123"
      },
      "execution_count": 69,
      "outputs": [
        {
          "output_type": "error",
          "ename": "AttributeError",
          "evalue": "type object 'Student_4' has no attribute 'course_details'",
          "traceback": [
            "\u001b[0;31m---------------------------------------------------------------------------\u001b[0m",
            "\u001b[0;31mAttributeError\u001b[0m                            Traceback (most recent call last)",
            "\u001b[0;32m<ipython-input-69-d9370edc689a>\u001b[0m in \u001b[0;36m<cell line: 1>\u001b[0;34m()\u001b[0m\n\u001b[0;32m----> 1\u001b[0;31m \u001b[0mStudent_4\u001b[0m\u001b[0;34m.\u001b[0m\u001b[0mcourse_details\u001b[0m\u001b[0;34m(\u001b[0m\u001b[0;34m\"Data Science\"\u001b[0m\u001b[0;34m)\u001b[0m \u001b[0;31m# throws an error as you have deleted the method.\u001b[0m\u001b[0;34m\u001b[0m\u001b[0;34m\u001b[0m\u001b[0m\n\u001b[0m",
            "\u001b[0;31mAttributeError\u001b[0m: type object 'Student_4' has no attribute 'course_details'"
          ]
        }
      ]
    },
    {
      "cell_type": "code",
      "source": [
        "Student_4.get_total_students()"
      ],
      "metadata": {
        "colab": {
          "base_uri": "https://localhost:8080/"
        },
        "id": "E71dU4Nmd2D7",
        "outputId": "f32c881e-3cf7-4be3-e083-202307687532"
      },
      "execution_count": 70,
      "outputs": [
        {
          "output_type": "execute_result",
          "data": {
            "text/plain": [
              "0"
            ]
          },
          "metadata": {},
          "execution_count": 70
        }
      ]
    },
    {
      "cell_type": "code",
      "source": [
        "#another way to delete\n",
        "delattr(Student_4,\"get_total_students\")"
      ],
      "metadata": {
        "id": "e-o1x9_md5WV"
      },
      "execution_count": 71,
      "outputs": []
    },
    {
      "cell_type": "code",
      "source": [
        "#deleted the get_total_students method\n",
        "Student_4.get_total_students()\n"
      ],
      "metadata": {
        "colab": {
          "base_uri": "https://localhost:8080/",
          "height": 158
        },
        "id": "biEVrpBvd-G1",
        "outputId": "cc0db4df-79c1-483e-a79a-3e1bfeb3f108"
      },
      "execution_count": 72,
      "outputs": [
        {
          "output_type": "error",
          "ename": "AttributeError",
          "evalue": "type object 'Student_4' has no attribute 'get_total_students'",
          "traceback": [
            "\u001b[0;31m---------------------------------------------------------------------------\u001b[0m",
            "\u001b[0;31mAttributeError\u001b[0m                            Traceback (most recent call last)",
            "\u001b[0;32m<ipython-input-72-041d24712cfc>\u001b[0m in \u001b[0;36m<cell line: 2>\u001b[0;34m()\u001b[0m\n\u001b[1;32m      1\u001b[0m \u001b[0;31m#deleted the get_total_students method\u001b[0m\u001b[0;34m\u001b[0m\u001b[0;34m\u001b[0m\u001b[0m\n\u001b[0;32m----> 2\u001b[0;31m \u001b[0mStudent_4\u001b[0m\u001b[0;34m.\u001b[0m\u001b[0mget_total_students\u001b[0m\u001b[0;34m(\u001b[0m\u001b[0;34m)\u001b[0m\u001b[0;34m\u001b[0m\u001b[0;34m\u001b[0m\u001b[0m\n\u001b[0m",
            "\u001b[0;31mAttributeError\u001b[0m: type object 'Student_4' has no attribute 'get_total_students'"
          ]
        }
      ]
    },
    {
      "cell_type": "code",
      "source": [
        "#What is Static method.\n",
        "\n",
        "#DOES NOT modify the class levels.\n",
        "# it behaves like a plane function , but that belongs to class it doesnt take params eigther self or cls.\n",
        "#doesnt access instance or class instance"
      ],
      "metadata": {
        "id": "nTzLf9nmeN-6"
      },
      "execution_count": null,
      "outputs": []
    },
    {
      "cell_type": "code",
      "source": [
        "class calculator:\n",
        "  @staticmethod\n",
        "  def add(a,b):\n",
        "    print(a+b)"
      ],
      "metadata": {
        "id": "YQT22Bu1er3_"
      },
      "execution_count": 73,
      "outputs": []
    },
    {
      "cell_type": "code",
      "source": [
        "obj1 = calculator()"
      ],
      "metadata": {
        "id": "iqnT-bUiexcs"
      },
      "execution_count": 74,
      "outputs": []
    },
    {
      "cell_type": "code",
      "source": [
        "obj1.add(2,3)"
      ],
      "metadata": {
        "colab": {
          "base_uri": "https://localhost:8080/"
        },
        "id": "FIpDCUYTe2OK",
        "outputId": "29628801-0579-4479-eb79-e530d5d84821"
      },
      "execution_count": 75,
      "outputs": [
        {
          "output_type": "stream",
          "name": "stdout",
          "text": [
            "5\n"
          ]
        }
      ]
    },
    {
      "cell_type": "code",
      "source": [
        "class calculator:\n",
        "  @staticmethod\n",
        "  def add(a,b):\n",
        "    return a+b\n",
        "  @staticmethod\n",
        "  def sub(a,b):\n",
        "    return a-b\n",
        "  @staticmethod\n",
        "  def mul(a,b):\n",
        "    return a*b\n",
        "  @staticmethod\n",
        "  def div(a,b):\n",
        "    return a/b\n",
        ""
      ],
      "metadata": {
        "id": "dOAeACZie_9X"
      },
      "execution_count": 76,
      "outputs": []
    },
    {
      "cell_type": "code",
      "source": [
        "calculator.add(12,3)\n"
      ],
      "metadata": {
        "colab": {
          "base_uri": "https://localhost:8080/"
        },
        "id": "dS4FDM8ffMkX",
        "outputId": "5c4c094a-a1b0-4516-aa4c-474a2f42b343"
      },
      "execution_count": 81,
      "outputs": [
        {
          "output_type": "execute_result",
          "data": {
            "text/plain": [
              "15"
            ]
          },
          "metadata": {},
          "execution_count": 81
        }
      ]
    },
    {
      "cell_type": "code",
      "source": [
        "calculator.sub(12,3)"
      ],
      "metadata": {
        "colab": {
          "base_uri": "https://localhost:8080/"
        },
        "id": "MFiHuBLufXij",
        "outputId": "854e2108-cfb5-43b9-9e9b-88400ba48cb8"
      },
      "execution_count": 82,
      "outputs": [
        {
          "output_type": "execute_result",
          "data": {
            "text/plain": [
              "9"
            ]
          },
          "metadata": {},
          "execution_count": 82
        }
      ]
    },
    {
      "cell_type": "code",
      "source": [
        "calculator.mul(12,3)"
      ],
      "metadata": {
        "colab": {
          "base_uri": "https://localhost:8080/"
        },
        "id": "qIy2Yd5Rfat1",
        "outputId": "2c2b5252-c314-4387-87b7-413d108f280b"
      },
      "execution_count": 83,
      "outputs": [
        {
          "output_type": "execute_result",
          "data": {
            "text/plain": [
              "36"
            ]
          },
          "metadata": {},
          "execution_count": 83
        }
      ]
    },
    {
      "cell_type": "code",
      "source": [
        "calculator.div(12,3)"
      ],
      "metadata": {
        "colab": {
          "base_uri": "https://localhost:8080/"
        },
        "id": "YxCT_hDifdEn",
        "outputId": "94c2b86d-20fa-4911-cd26-220ca60daa82"
      },
      "execution_count": 84,
      "outputs": [
        {
          "output_type": "execute_result",
          "data": {
            "text/plain": [
              "4.0"
            ]
          },
          "metadata": {},
          "execution_count": 84
        }
      ]
    }
  ]
}