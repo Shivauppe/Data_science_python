{
  "nbformat": 4,
  "nbformat_minor": 0,
  "metadata": {
    "colab": {
      "provenance": [],
      "authorship_tag": "ABX9TyPXAzA2Yo52mjwxh42Kysu6",
      "include_colab_link": true
    },
    "kernelspec": {
      "name": "python3",
      "display_name": "Python 3"
    },
    "language_info": {
      "name": "python"
    }
  },
  "cells": [
    {
      "cell_type": "markdown",
      "metadata": {
        "id": "view-in-github",
        "colab_type": "text"
      },
      "source": [
        "<a href=\"https://colab.research.google.com/github/Shivauppe/Data_science_python/blob/main/Inheritance_%26%26_Abstraction.ipynb\" target=\"_parent\"><img src=\"https://colab.research.google.com/assets/colab-badge.svg\" alt=\"Open In Colab\"/></a>"
      ]
    },
    {
      "cell_type": "code",
      "execution_count": null,
      "metadata": {
        "id": "S4zQKdRaTt0o"
      },
      "outputs": [],
      "source": [
        "#Inheritance - deriving the properties of Parent to child is called inheritance.\n"
      ]
    },
    {
      "cell_type": "code",
      "source": [
        "#Single inheritance - when derived class has single class\n",
        "\n",
        "class father():\n",
        "  def father_property(self):\n",
        "    print(\"Father properties\")\n",
        "\n",
        "class son(father):\n",
        "  def son_property(self):\n",
        "    print(\"Son properties\")\n",
        "\n"
      ],
      "metadata": {
        "id": "G_9kzNpnUPZo"
      },
      "execution_count": 6,
      "outputs": []
    },
    {
      "cell_type": "code",
      "source": [
        "son().father_property()"
      ],
      "metadata": {
        "colab": {
          "base_uri": "https://localhost:8080/"
        },
        "id": "2KvpetfpUr8B",
        "outputId": "92377127-5a8e-48fb-ea68-70324a782b87"
      },
      "execution_count": 7,
      "outputs": [
        {
          "output_type": "stream",
          "name": "stdout",
          "text": [
            "Father properties\n"
          ]
        }
      ]
    },
    {
      "cell_type": "code",
      "source": [
        "son().son_property()"
      ],
      "metadata": {
        "colab": {
          "base_uri": "https://localhost:8080/"
        },
        "id": "9Mrxmw__XmwL",
        "outputId": "57ecb65f-782b-471b-e188-c99799629559"
      },
      "execution_count": 8,
      "outputs": [
        {
          "output_type": "stream",
          "name": "stdout",
          "text": [
            "Son properties\n"
          ]
        }
      ]
    },
    {
      "cell_type": "code",
      "source": [
        "father().father_property() # father will have only his property\n"
      ],
      "metadata": {
        "colab": {
          "base_uri": "https://localhost:8080/"
        },
        "id": "iJ_wR7VHXv4U",
        "outputId": "bcdb00cd-44d3-4157-cfe1-e56dec681213"
      },
      "execution_count": 9,
      "outputs": [
        {
          "output_type": "stream",
          "name": "stdout",
          "text": [
            "Father properties\n"
          ]
        }
      ]
    },
    {
      "cell_type": "code",
      "source": [
        "## One more example;\n",
        "\n",
        "class fruit():\n",
        "  def fruit_inf(self):\n",
        "    print(\"inside the parent class\")\n",
        "\n",
        "class mango(fruit):\n",
        "  def mango_inf():\n",
        "    print(\"inside the child class\")\n"
      ],
      "metadata": {
        "id": "4iRRN2uMYFWt"
      },
      "execution_count": 12,
      "outputs": []
    },
    {
      "cell_type": "code",
      "source": [
        "fruit().fruit_inf()"
      ],
      "metadata": {
        "colab": {
          "base_uri": "https://localhost:8080/"
        },
        "id": "e8xMps8tYWWu",
        "outputId": "14526f65-3770-45ee-c163-2d5e6809f962"
      },
      "execution_count": 13,
      "outputs": [
        {
          "output_type": "stream",
          "name": "stdout",
          "text": [
            "inside the parent class\n"
          ]
        }
      ]
    },
    {
      "cell_type": "code",
      "source": [
        "mango().fruit_inf()"
      ],
      "metadata": {
        "colab": {
          "base_uri": "https://localhost:8080/"
        },
        "id": "ZYOlDxKKYh5T",
        "outputId": "94ecfa3b-a31b-468d-fc41-e7be035a3700"
      },
      "execution_count": 14,
      "outputs": [
        {
          "output_type": "stream",
          "name": "stdout",
          "text": [
            "inside the parent class\n"
          ]
        }
      ]
    }
  ]
}