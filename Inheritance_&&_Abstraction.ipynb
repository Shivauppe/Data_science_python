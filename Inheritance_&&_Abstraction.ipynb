{
  "nbformat": 4,
  "nbformat_minor": 0,
  "metadata": {
    "colab": {
      "provenance": [],
      "authorship_tag": "ABX9TyNGVow56qb2kBhJ31OEDEsr",
      "include_colab_link": true
    },
    "kernelspec": {
      "name": "python3",
      "display_name": "Python 3"
    },
    "language_info": {
      "name": "python"
    }
  },
  "cells": [
    {
      "cell_type": "markdown",
      "metadata": {
        "id": "view-in-github",
        "colab_type": "text"
      },
      "source": [
        "<a href=\"https://colab.research.google.com/github/Shivauppe/Data_science_python/blob/main/Inheritance_%26%26_Abstraction.ipynb\" target=\"_parent\"><img src=\"https://colab.research.google.com/assets/colab-badge.svg\" alt=\"Open In Colab\"/></a>"
      ]
    },
    {
      "cell_type": "code",
      "execution_count": null,
      "metadata": {
        "id": "S4zQKdRaTt0o"
      },
      "outputs": [],
      "source": [
        "#Inheritance - deriving the properties of Parent to child is called inheritance.\n"
      ]
    },
    {
      "cell_type": "code",
      "source": [
        "#Single inheritance - when derived class has single class\n",
        "\n",
        "class father():\n",
        "  def father_property(self):\n",
        "    print(\"Father properties\")\n",
        "\n",
        "class son(father):\n",
        "  def son_property(self):\n",
        "    print(\"Son properties\")\n",
        "\n"
      ],
      "metadata": {
        "id": "G_9kzNpnUPZo"
      },
      "execution_count": 6,
      "outputs": []
    },
    {
      "cell_type": "code",
      "source": [
        "son().father_property()"
      ],
      "metadata": {
        "colab": {
          "base_uri": "https://localhost:8080/"
        },
        "id": "2KvpetfpUr8B",
        "outputId": "92377127-5a8e-48fb-ea68-70324a782b87"
      },
      "execution_count": 7,
      "outputs": [
        {
          "output_type": "stream",
          "name": "stdout",
          "text": [
            "Father properties\n"
          ]
        }
      ]
    },
    {
      "cell_type": "code",
      "source": [
        "son().son_property()"
      ],
      "metadata": {
        "colab": {
          "base_uri": "https://localhost:8080/"
        },
        "id": "9Mrxmw__XmwL",
        "outputId": "57ecb65f-782b-471b-e188-c99799629559"
      },
      "execution_count": 8,
      "outputs": [
        {
          "output_type": "stream",
          "name": "stdout",
          "text": [
            "Son properties\n"
          ]
        }
      ]
    },
    {
      "cell_type": "code",
      "source": [
        "father().father_property() # father will have only his property\n"
      ],
      "metadata": {
        "colab": {
          "base_uri": "https://localhost:8080/"
        },
        "id": "iJ_wR7VHXv4U",
        "outputId": "bcdb00cd-44d3-4157-cfe1-e56dec681213"
      },
      "execution_count": 9,
      "outputs": [
        {
          "output_type": "stream",
          "name": "stdout",
          "text": [
            "Father properties\n"
          ]
        }
      ]
    },
    {
      "cell_type": "code",
      "source": [
        "## One more example;\n",
        "\n",
        "class fruit():\n",
        "  def fruit_inf(self):\n",
        "    print(\"inside the parent class\")\n",
        "\n",
        "class mango(fruit):\n",
        "  def mango_inf(self):\n",
        "    print(\"inside the child class\")\n"
      ],
      "metadata": {
        "id": "4iRRN2uMYFWt"
      },
      "execution_count": 15,
      "outputs": []
    },
    {
      "cell_type": "code",
      "source": [
        "fruit().fruit_inf()"
      ],
      "metadata": {
        "colab": {
          "base_uri": "https://localhost:8080/"
        },
        "id": "e8xMps8tYWWu",
        "outputId": "32b74400-df70-47e5-c380-a17db5fc6aed"
      },
      "execution_count": 16,
      "outputs": [
        {
          "output_type": "stream",
          "name": "stdout",
          "text": [
            "inside the parent class\n"
          ]
        }
      ]
    },
    {
      "cell_type": "code",
      "source": [
        "mango().fruit_inf()"
      ],
      "metadata": {
        "colab": {
          "base_uri": "https://localhost:8080/"
        },
        "id": "ZYOlDxKKYh5T",
        "outputId": "9e4a0708-87b1-4954-d28f-e7d65916cd28"
      },
      "execution_count": 17,
      "outputs": [
        {
          "output_type": "stream",
          "name": "stdout",
          "text": [
            "inside the parent class\n"
          ]
        }
      ]
    },
    {
      "cell_type": "code",
      "source": [
        "#method override -- rewring/redefining methods of parent class in derived class\n",
        "class fruit():\n",
        "  def fruit_inf(self):\n",
        "    print(\"inside the parent class\")\n",
        "class Apple(fruit):\n",
        "  def fruit_inf(self):\n",
        "    print(\"inside the child class fruit info\")\n",
        "  def Apple_inf1(self):\n",
        "    print(\"inside the child class1\")\n"
      ],
      "metadata": {
        "id": "qjJmdmMTaaEj"
      },
      "execution_count": 26,
      "outputs": []
    },
    {
      "cell_type": "code",
      "source": [
        "obj1 = Apple()\n",
        "obj1.fruit_inf() ## method overrides from the parent class i.e meaning the method will alter in the child class\n",
        "obj1.Apple_inf1()"
      ],
      "metadata": {
        "colab": {
          "base_uri": "https://localhost:8080/"
        },
        "id": "4SOjKiOGas1J",
        "outputId": "0d5e5831-6b28-4114-8317-b41d02dc6175"
      },
      "execution_count": 29,
      "outputs": [
        {
          "output_type": "stream",
          "name": "stdout",
          "text": [
            "inside the child class fruit info\n",
            "inside the child class1\n"
          ]
        }
      ]
    },
    {
      "cell_type": "code",
      "source": [
        "#multi level inheritance\n",
        "\n",
        "class grand_father():\n",
        "  def grand_father_inf(self):\n",
        "    print(\"I am your Grand father and its my property\")\n",
        "\n",
        "class father(grand_father):\n",
        "  def father_inf(self):\n",
        "    print(\"I am your father and its mine and your grand father property \")\n",
        "\n",
        "class son(father):\n",
        "  def son_inf(self):\n",
        "    print(\"I am the king of Mirzapur\")\n"
      ],
      "metadata": {
        "id": "fti41AxjdaVZ"
      },
      "execution_count": 41,
      "outputs": []
    },
    {
      "cell_type": "code",
      "source": [
        "child1 = son()\n",
        "child1.grand_father_inf()\n",
        "child1.father_inf()\n",
        "child1.son_inf()"
      ],
      "metadata": {
        "colab": {
          "base_uri": "https://localhost:8080/"
        },
        "id": "YqvrL7R1dvHl",
        "outputId": "37eeba0e-82e1-4477-97d5-2ebe63ce30ac"
      },
      "execution_count": 43,
      "outputs": [
        {
          "output_type": "stream",
          "name": "stdout",
          "text": [
            "I am your Grand father and its my property\n",
            "I am your father and its mine and your grand father property \n",
            "I am the king of Mirzapur\n"
          ]
        }
      ]
    },
    {
      "cell_type": "code",
      "source": [
        "#use case:\n",
        "class vehile():\n",
        "  def vehile_inf(self):\n",
        "    print(\"Inside the vehile class\")\n",
        "\n",
        "class car(vehile):\n",
        "  def car_inf(self):\n",
        "    print(\"Inside the car class\")\n",
        "\n",
        "class sports_car(car):\n",
        "  def sports_car_inf(self):\n",
        "    print(\"Inside the sports car class\")\n"
      ],
      "metadata": {
        "id": "NKBpxOxHlpzp"
      },
      "execution_count": 46,
      "outputs": []
    },
    {
      "cell_type": "code",
      "source": [
        "punch = sports_car()\n"
      ],
      "metadata": {
        "id": "hDYGlavKl8x_"
      },
      "execution_count": 48,
      "outputs": []
    },
    {
      "cell_type": "code",
      "source": [
        "punch.vehile_inf()\n"
      ],
      "metadata": {
        "colab": {
          "base_uri": "https://localhost:8080/"
        },
        "id": "pkaZOffvmQU4",
        "outputId": "057eb5cf-e8af-43ae-9b27-a06e0e0c77ee"
      },
      "execution_count": 49,
      "outputs": [
        {
          "output_type": "stream",
          "name": "stdout",
          "text": [
            "Inside the vehile class\n"
          ]
        }
      ]
    },
    {
      "cell_type": "code",
      "source": [
        "punch.car_inf()\n"
      ],
      "metadata": {
        "colab": {
          "base_uri": "https://localhost:8080/"
        },
        "id": "FDxNBYm3mTAm",
        "outputId": "7ade407a-4120-480b-af43-d1005d5432b0"
      },
      "execution_count": 50,
      "outputs": [
        {
          "output_type": "stream",
          "name": "stdout",
          "text": [
            "Inside the car class\n"
          ]
        }
      ]
    },
    {
      "cell_type": "code",
      "source": [
        "punch.sports_car_inf()"
      ],
      "metadata": {
        "colab": {
          "base_uri": "https://localhost:8080/"
        },
        "id": "NayqlL-mmU-W",
        "outputId": "87e06e4b-ee5e-4202-81ab-2c969c8255ab"
      },
      "execution_count": 51,
      "outputs": [
        {
          "output_type": "stream",
          "name": "stdout",
          "text": [
            "Inside the sports car class\n"
          ]
        }
      ]
    },
    {
      "cell_type": "code",
      "source": [
        "#another example for overriding\n",
        "class vahicle():\n",
        "  def vehile_inf(self):\n",
        "    print(\"Inside the vehile class\")\n",
        "\n",
        "class car():\n",
        "  def car_inf(self):\n",
        "    print(\"Inside the car class\")\n",
        "\n",
        "class sports_car(car):\n",
        "  def vehile_inf(self):\n",
        "    print(\"Inside the sports car class\")"
      ],
      "metadata": {
        "id": "fSPLSn43mksz"
      },
      "execution_count": 52,
      "outputs": []
    },
    {
      "cell_type": "code",
      "source": [
        "Nexon = sports_car()"
      ],
      "metadata": {
        "id": "0EVN8_RznAPk"
      },
      "execution_count": 53,
      "outputs": []
    },
    {
      "cell_type": "code",
      "source": [
        "Nexon.vehile_inf()"
      ],
      "metadata": {
        "colab": {
          "base_uri": "https://localhost:8080/"
        },
        "id": "9AVAZoM1nEtS",
        "outputId": "66527758-4a73-406b-c515-4ba038b981ec"
      },
      "execution_count": 54,
      "outputs": [
        {
          "output_type": "stream",
          "name": "stdout",
          "text": [
            "Inside the sports car class\n"
          ]
        }
      ]
    }
  ]
}