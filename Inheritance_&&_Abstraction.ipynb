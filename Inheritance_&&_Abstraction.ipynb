{
  "nbformat": 4,
  "nbformat_minor": 0,
  "metadata": {
    "colab": {
      "provenance": [],
      "authorship_tag": "ABX9TyOIGzaOo4vL+SMgBQnhKgwV",
      "include_colab_link": true
    },
    "kernelspec": {
      "name": "python3",
      "display_name": "Python 3"
    },
    "language_info": {
      "name": "python"
    }
  },
  "cells": [
    {
      "cell_type": "markdown",
      "metadata": {
        "id": "view-in-github",
        "colab_type": "text"
      },
      "source": [
        "<a href=\"https://colab.research.google.com/github/Shivauppe/Data_science_python/blob/main/Inheritance_%26%26_Abstraction.ipynb\" target=\"_parent\"><img src=\"https://colab.research.google.com/assets/colab-badge.svg\" alt=\"Open In Colab\"/></a>"
      ]
    },
    {
      "cell_type": "code",
      "execution_count": null,
      "metadata": {
        "id": "S4zQKdRaTt0o"
      },
      "outputs": [],
      "source": [
        "#Inheritance - deriving the properties of Parent to child is called inheritance.\n"
      ]
    },
    {
      "cell_type": "code",
      "source": [
        "#Single inheritance - when derived class has single class\n",
        "\n",
        "class father():\n",
        "  def father_property(self):\n",
        "    print(\"Father properties\")\n",
        "\n",
        "class son(father):\n",
        "  def son_property(self):\n",
        "    print(\"Son properties\")\n",
        "\n"
      ],
      "metadata": {
        "id": "G_9kzNpnUPZo"
      },
      "execution_count": 6,
      "outputs": []
    },
    {
      "cell_type": "code",
      "source": [
        "son().father_property()"
      ],
      "metadata": {
        "colab": {
          "base_uri": "https://localhost:8080/"
        },
        "id": "2KvpetfpUr8B",
        "outputId": "92377127-5a8e-48fb-ea68-70324a782b87"
      },
      "execution_count": 7,
      "outputs": [
        {
          "output_type": "stream",
          "name": "stdout",
          "text": [
            "Father properties\n"
          ]
        }
      ]
    },
    {
      "cell_type": "code",
      "source": [
        "son().son_property()"
      ],
      "metadata": {
        "colab": {
          "base_uri": "https://localhost:8080/"
        },
        "id": "9Mrxmw__XmwL",
        "outputId": "57ecb65f-782b-471b-e188-c99799629559"
      },
      "execution_count": 8,
      "outputs": [
        {
          "output_type": "stream",
          "name": "stdout",
          "text": [
            "Son properties\n"
          ]
        }
      ]
    },
    {
      "cell_type": "code",
      "source": [
        "father().father_property() # father will have only his property\n"
      ],
      "metadata": {
        "colab": {
          "base_uri": "https://localhost:8080/"
        },
        "id": "iJ_wR7VHXv4U",
        "outputId": "bcdb00cd-44d3-4157-cfe1-e56dec681213"
      },
      "execution_count": 9,
      "outputs": [
        {
          "output_type": "stream",
          "name": "stdout",
          "text": [
            "Father properties\n"
          ]
        }
      ]
    },
    {
      "cell_type": "code",
      "source": [
        "## One more example;\n",
        "\n",
        "class fruit():\n",
        "  def fruit_inf(self):\n",
        "    print(\"inside the parent class\")\n",
        "\n",
        "class mango(fruit):\n",
        "  def mango_inf(self):\n",
        "    print(\"inside the child class\")\n"
      ],
      "metadata": {
        "id": "4iRRN2uMYFWt"
      },
      "execution_count": 15,
      "outputs": []
    },
    {
      "cell_type": "code",
      "source": [
        "fruit().fruit_inf()"
      ],
      "metadata": {
        "colab": {
          "base_uri": "https://localhost:8080/"
        },
        "id": "e8xMps8tYWWu",
        "outputId": "32b74400-df70-47e5-c380-a17db5fc6aed"
      },
      "execution_count": 16,
      "outputs": [
        {
          "output_type": "stream",
          "name": "stdout",
          "text": [
            "inside the parent class\n"
          ]
        }
      ]
    },
    {
      "cell_type": "code",
      "source": [
        "mango().fruit_inf()"
      ],
      "metadata": {
        "colab": {
          "base_uri": "https://localhost:8080/"
        },
        "id": "ZYOlDxKKYh5T",
        "outputId": "9e4a0708-87b1-4954-d28f-e7d65916cd28"
      },
      "execution_count": 17,
      "outputs": [
        {
          "output_type": "stream",
          "name": "stdout",
          "text": [
            "inside the parent class\n"
          ]
        }
      ]
    },
    {
      "cell_type": "code",
      "source": [
        "#method override -- rewring/redefining methods of parent class in derived class\n",
        "class fruit():\n",
        "  def fruit_inf(self):\n",
        "    print(\"inside the parent class\")\n",
        "class Apple(fruit):\n",
        "  def fruit_inf(self):\n",
        "    print(\"inside the child class fruit info\")\n",
        "  def Apple_inf1(self):\n",
        "    print(\"inside the child class1\")\n"
      ],
      "metadata": {
        "id": "qjJmdmMTaaEj"
      },
      "execution_count": 26,
      "outputs": []
    },
    {
      "cell_type": "code",
      "source": [
        "obj1 = Apple()\n",
        "obj1.fruit_inf() ## method overrides from the parent class i.e meaning the method will alter in the child class\n",
        "obj1.Apple_inf1()"
      ],
      "metadata": {
        "colab": {
          "base_uri": "https://localhost:8080/"
        },
        "id": "4SOjKiOGas1J",
        "outputId": "0d5e5831-6b28-4114-8317-b41d02dc6175"
      },
      "execution_count": 29,
      "outputs": [
        {
          "output_type": "stream",
          "name": "stdout",
          "text": [
            "inside the child class fruit info\n",
            "inside the child class1\n"
          ]
        }
      ]
    },
    {
      "cell_type": "code",
      "source": [
        "#multi level inheritance\n",
        "\n",
        "class grand_father():\n",
        "  def grand_father_inf(self):\n",
        "    print(\"I am your Grand father and its my property\")\n",
        "\n",
        "class father(grand_father):\n",
        "  def father_inf(self):\n",
        "    print(\"I am your father and its mine and your grand father property \")\n",
        "\n",
        "class son(father):\n",
        "  def son_inf(self):\n",
        "    print(\"I am the king of Mirzapur\")\n"
      ],
      "metadata": {
        "id": "fti41AxjdaVZ"
      },
      "execution_count": 41,
      "outputs": []
    },
    {
      "cell_type": "code",
      "source": [
        "child1 = son()\n",
        "child1.grand_father_inf()\n",
        "child1.father_inf()\n",
        "child1.son_inf()"
      ],
      "metadata": {
        "colab": {
          "base_uri": "https://localhost:8080/"
        },
        "id": "YqvrL7R1dvHl",
        "outputId": "37eeba0e-82e1-4477-97d5-2ebe63ce30ac"
      },
      "execution_count": 43,
      "outputs": [
        {
          "output_type": "stream",
          "name": "stdout",
          "text": [
            "I am your Grand father and its my property\n",
            "I am your father and its mine and your grand father property \n",
            "I am the king of Mirzapur\n"
          ]
        }
      ]
    },
    {
      "cell_type": "code",
      "source": [
        "#use case:\n",
        "class vehile():\n",
        "  def vehile_inf(self):\n",
        "    print(\"Inside the vehile class\")\n",
        "\n",
        "class car(vehile):\n",
        "  def car_inf(self):\n",
        "    print(\"Inside the car class\")\n",
        "\n",
        "class sports_car(car):\n",
        "  def sports_car_inf(self):\n",
        "    print(\"Inside the sports car class\")\n"
      ],
      "metadata": {
        "id": "NKBpxOxHlpzp"
      },
      "execution_count": 46,
      "outputs": []
    },
    {
      "cell_type": "code",
      "source": [
        "punch = sports_car()\n"
      ],
      "metadata": {
        "id": "hDYGlavKl8x_"
      },
      "execution_count": 48,
      "outputs": []
    },
    {
      "cell_type": "code",
      "source": [
        "punch.vehile_inf()\n"
      ],
      "metadata": {
        "colab": {
          "base_uri": "https://localhost:8080/"
        },
        "id": "pkaZOffvmQU4",
        "outputId": "057eb5cf-e8af-43ae-9b27-a06e0e0c77ee"
      },
      "execution_count": 49,
      "outputs": [
        {
          "output_type": "stream",
          "name": "stdout",
          "text": [
            "Inside the vehile class\n"
          ]
        }
      ]
    },
    {
      "cell_type": "code",
      "source": [
        "punch.car_inf()\n"
      ],
      "metadata": {
        "colab": {
          "base_uri": "https://localhost:8080/"
        },
        "id": "FDxNBYm3mTAm",
        "outputId": "7ade407a-4120-480b-af43-d1005d5432b0"
      },
      "execution_count": 50,
      "outputs": [
        {
          "output_type": "stream",
          "name": "stdout",
          "text": [
            "Inside the car class\n"
          ]
        }
      ]
    },
    {
      "cell_type": "code",
      "source": [
        "punch.sports_car_inf()"
      ],
      "metadata": {
        "colab": {
          "base_uri": "https://localhost:8080/"
        },
        "id": "NayqlL-mmU-W",
        "outputId": "87e06e4b-ee5e-4202-81ab-2c969c8255ab"
      },
      "execution_count": 51,
      "outputs": [
        {
          "output_type": "stream",
          "name": "stdout",
          "text": [
            "Inside the sports car class\n"
          ]
        }
      ]
    },
    {
      "cell_type": "code",
      "source": [
        "#another example for overriding\n",
        "class vahicle():\n",
        "  def vehile_inf(self):\n",
        "    print(\"Inside the vehile class\")\n",
        "\n",
        "class car():\n",
        "  def car_inf(self):\n",
        "    print(\"Inside the car class\")\n",
        "\n",
        "class sports_car(car):\n",
        "  def vehile_inf(self):\n",
        "    print(\"Inside the sports car class\")"
      ],
      "metadata": {
        "id": "fSPLSn43mksz"
      },
      "execution_count": 52,
      "outputs": []
    },
    {
      "cell_type": "code",
      "source": [
        "Nexon = sports_car()"
      ],
      "metadata": {
        "id": "0EVN8_RznAPk"
      },
      "execution_count": 53,
      "outputs": []
    },
    {
      "cell_type": "code",
      "source": [
        "Nexon.vehile_inf()"
      ],
      "metadata": {
        "colab": {
          "base_uri": "https://localhost:8080/"
        },
        "id": "9AVAZoM1nEtS",
        "outputId": "66527758-4a73-406b-c515-4ba038b981ec"
      },
      "execution_count": 54,
      "outputs": [
        {
          "output_type": "stream",
          "name": "stdout",
          "text": [
            "Inside the sports car class\n"
          ]
        }
      ]
    },
    {
      "cell_type": "code",
      "source": [
        "#Multiple inheritance - one child class may inherit the properties of multiple parent class\n",
        "\n",
        "class parent1():\n",
        "  def parent1_inf(self):\n",
        "    print(\"Inside the parent1 class\")\n",
        "\n",
        "class parent2():\n",
        "  def parent2_inf(self):\n",
        "    print(\"Inside the parent2 class\")\n",
        "\n",
        "class child (parent1,parent2):\n",
        "  def child_inf(self):\n",
        "    print(\"Inside the child class\")\n"
      ],
      "metadata": {
        "id": "nXfYM0S9no6o"
      },
      "execution_count": 55,
      "outputs": []
    },
    {
      "cell_type": "code",
      "source": [
        "child1 = child()"
      ],
      "metadata": {
        "id": "QIAhb6K2ob87"
      },
      "execution_count": 56,
      "outputs": []
    },
    {
      "cell_type": "code",
      "source": [
        "child1.parent1_inf()"
      ],
      "metadata": {
        "colab": {
          "base_uri": "https://localhost:8080/"
        },
        "id": "JWmXGLScog1o",
        "outputId": "2aae694d-b345-4e6f-8380-814dcd880735"
      },
      "execution_count": 57,
      "outputs": [
        {
          "output_type": "stream",
          "name": "stdout",
          "text": [
            "Inside the parent1 class\n"
          ]
        }
      ]
    },
    {
      "cell_type": "code",
      "source": [
        "child1.parent2_inf()"
      ],
      "metadata": {
        "colab": {
          "base_uri": "https://localhost:8080/"
        },
        "id": "ce3wQCFjooB2",
        "outputId": "0e06dcff-36c6-4c87-984f-0a7599aadb73"
      },
      "execution_count": 58,
      "outputs": [
        {
          "output_type": "stream",
          "name": "stdout",
          "text": [
            "Inside the parent2 class\n"
          ]
        }
      ]
    },
    {
      "cell_type": "code",
      "source": [
        "class ParentClass1:\n",
        "  def method_par(self):\n",
        "    print(\"Method 1 is parent of class 1\")\n",
        "\n",
        "class ParentClass2:\n",
        "  def method_par(self):\n",
        "    print(\"Method 2 is parent class 2\")\n",
        "\n",
        "class ChildClass(ParentClass1, ParentClass2):\n",
        "  def method(self):\n",
        "    print(\"Method is child class\")\n"
      ],
      "metadata": {
        "id": "c7vrM5H2piMl"
      },
      "execution_count": 63,
      "outputs": []
    },
    {
      "cell_type": "code",
      "source": [
        "obj1 = ChildClass()"
      ],
      "metadata": {
        "id": "9_9gJyE8qfI6"
      },
      "execution_count": 64,
      "outputs": []
    },
    {
      "cell_type": "code",
      "source": [
        "obj1.method_par()\n",
        "## this is called diamond problem - it occures when a class inherits from 2 or more than 2 class , will lead to ambiguity in execution of methods.\n",
        "\n",
        "# to mitigate diamond problem python uses method resolution order(MRO)algorithm called c3 linearization\n",
        "\n",
        "#meaning - the class that is inherited first in the derived class , that method will be called."
      ],
      "metadata": {
        "colab": {
          "base_uri": "https://localhost:8080/"
        },
        "id": "SPhBq9sWrRN9",
        "outputId": "ea55b7c6-055f-4028-f99b-ce085b27f2df"
      },
      "execution_count": 69,
      "outputs": [
        {
          "output_type": "stream",
          "name": "stdout",
          "text": [
            "Method 1 is parent of class 1\n"
          ]
        }
      ]
    },
    {
      "cell_type": "code",
      "source": [
        "#usuage :\n",
        "\n",
        "class A:\n",
        "  def method(self):\n",
        "    print(\"Inside the class A\")\n",
        "\n",
        "class B(A):\n",
        "  def method(self):\n",
        "    print(\"Inside the class B\")\n",
        "\n",
        "class C(A):\n",
        "  def method(self):\n",
        "    print(\"Inside the class C\")\n",
        "\n",
        "class D(C,B):\n",
        "  pass"
      ],
      "metadata": {
        "id": "PmAm3ocKtq8e"
      },
      "execution_count": 72,
      "outputs": []
    },
    {
      "cell_type": "code",
      "source": [
        "d = D()\n",
        "d.method()"
      ],
      "metadata": {
        "colab": {
          "base_uri": "https://localhost:8080/"
        },
        "id": "s02knNkBt_3w",
        "outputId": "ef64931a-e1c8-4999-f634-30a3eddc5c7e"
      },
      "execution_count": 73,
      "outputs": [
        {
          "output_type": "stream",
          "name": "stdout",
          "text": [
            "Inside the class C\n"
          ]
        }
      ]
    }
  ]
}