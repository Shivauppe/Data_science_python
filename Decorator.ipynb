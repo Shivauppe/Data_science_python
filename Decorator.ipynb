{
  "nbformat": 4,
  "nbformat_minor": 0,
  "metadata": {
    "colab": {
      "provenance": [],
      "authorship_tag": "ABX9TyNoWrrvrStt+Vvyg5PPbUlp",
      "include_colab_link": true
    },
    "kernelspec": {
      "name": "python3",
      "display_name": "Python 3"
    },
    "language_info": {
      "name": "python"
    }
  },
  "cells": [
    {
      "cell_type": "markdown",
      "metadata": {
        "id": "view-in-github",
        "colab_type": "text"
      },
      "source": [
        "<a href=\"https://colab.research.google.com/github/Shivauppe/Data_science_python/blob/main/Decorator.ipynb\" target=\"_parent\"><img src=\"https://colab.research.google.com/assets/colab-badge.svg\" alt=\"Open In Colab\"/></a>"
      ]
    },
    {
      "cell_type": "code",
      "execution_count": 2,
      "metadata": {
        "id": "Bli2lV7GzZVj"
      },
      "outputs": [],
      "source": [
        "#decorators -\n",
        "# decorators are used to modify the behaviour of function or class. In Decorators, functions are taken as the argument into another function and then called inside the wrapper function."
      ]
    },
    {
      "cell_type": "code",
      "source": [
        "def my_decorator_fun():\n",
        "    print(\"Print before computation\")\n",
        "    print(11*120)\n",
        "    print(\"print after computation\")"
      ],
      "metadata": {
        "id": "NvEV1ybf-8YN"
      },
      "execution_count": 3,
      "outputs": []
    },
    {
      "cell_type": "code",
      "source": [
        "my_decorator_fun()"
      ],
      "metadata": {
        "colab": {
          "base_uri": "https://localhost:8080/"
        },
        "id": "bRi4nFBx_CC-",
        "outputId": "3ac15729-427b-4cd0-9694-6c88782cf038"
      },
      "execution_count": 4,
      "outputs": [
        {
          "output_type": "stream",
          "name": "stdout",
          "text": [
            "Print before computation\n",
            "1320\n",
            "print after computation\n"
          ]
        }
      ]
    },
    {
      "cell_type": "code",
      "source": [
        "#to understand the use case>>say you want to use the line before computation and after computation after each time you create each time you can create a function  or a call function. so it will take a lot of time to type seperately\n",
        "#  and thats why concept of decoratora are introduced."
      ],
      "metadata": {
        "id": "eKYec-ye_E8u"
      },
      "execution_count": null,
      "outputs": []
    },
    {
      "cell_type": "code",
      "source": [
        "def my_decorator_fun(func):\n",
        "    def inner_function():\n",
        "        print(\"Print before computation\")\n",
        "        func()\n",
        "        print(\"print after computation\")\n",
        "    return inner_function"
      ],
      "metadata": {
        "id": "xtHWTnnKAzNa"
      },
      "execution_count": 10,
      "outputs": []
    },
    {
      "cell_type": "code",
      "source": [
        "def say_hello():\n",
        "    print(\"hello\")"
      ],
      "metadata": {
        "id": "VApOVSaWA72j"
      },
      "execution_count": 11,
      "outputs": []
    },
    {
      "cell_type": "code",
      "source": [
        "say_hello() #this function has ntg relation with my_decorator_fun"
      ],
      "metadata": {
        "colab": {
          "base_uri": "https://localhost:8080/"
        },
        "id": "iubdHf7gBZbg",
        "outputId": "c9057073-29a3-4c01-e39a-bf45e3ce65d8"
      },
      "execution_count": 13,
      "outputs": [
        {
          "output_type": "stream",
          "name": "stdout",
          "text": [
            "hello\n"
          ]
        }
      ]
    },
    {
      "cell_type": "code",
      "source": [
        "@my_decorator_fun\n",
        "def say_hello():\n",
        "    print(\"hello\")"
      ],
      "metadata": {
        "id": "W2B-3TseBtju"
      },
      "execution_count": 15,
      "outputs": []
    },
    {
      "cell_type": "code",
      "source": [
        "say_hello()"
      ],
      "metadata": {
        "colab": {
          "base_uri": "https://localhost:8080/"
        },
        "id": "GqFzvm0ZBxkd",
        "outputId": "ed37a200-f25d-438c-8858-d4c4d9efc6c6"
      },
      "execution_count": 17,
      "outputs": [
        {
          "output_type": "stream",
          "name": "stdout",
          "text": [
            "Print before computation\n",
            "hello\n",
            "print after computation\n"
          ]
        }
      ]
    },
    {
      "cell_type": "code",
      "source": [
        "#use case:\n",
        "# runtime execution of a code.\n",
        "\n",
        "import time\n",
        "def timer_decorator(func):\n",
        "  def timer():\n",
        "    start = time.time()\n",
        "    func()\n",
        "    end = time.time()\n",
        "    print(f\"time taken is {end-start}\")\n",
        "  return timer"
      ],
      "metadata": {
        "id": "TF6KWd3CEnJl"
      },
      "execution_count": 18,
      "outputs": []
    },
    {
      "cell_type": "code",
      "source": [
        "@timer_decorator\n",
        "def func_test():\n",
        "  print(1234*7896%23+23)"
      ],
      "metadata": {
        "id": "g6xzafOuFVxm"
      },
      "execution_count": 24,
      "outputs": []
    },
    {
      "cell_type": "code",
      "source": [
        "func_test()"
      ],
      "metadata": {
        "colab": {
          "base_uri": "https://localhost:8080/"
        },
        "id": "Yunpy3RhFnfn",
        "outputId": "d716533c-555b-429f-e04c-e35bd31b8ce5"
      },
      "execution_count": 25,
      "outputs": [
        {
          "output_type": "stream",
          "name": "stdout",
          "text": [
            "36\n",
            "time taken is 0.0008854866027832031\n"
          ]
        }
      ]
    },
    {
      "cell_type": "code",
      "source": [
        "@timer_decorator\n",
        "def func_test1():\n",
        "  print(12+65)"
      ],
      "metadata": {
        "id": "jQVaIgjOGDNT"
      },
      "execution_count": 27,
      "outputs": []
    },
    {
      "cell_type": "code",
      "source": [
        "func_test1()"
      ],
      "metadata": {
        "colab": {
          "base_uri": "https://localhost:8080/"
        },
        "id": "ymL3FG42GK2n",
        "outputId": "a8ae2c54-c3df-4caf-f576-c8db433c4968"
      },
      "execution_count": 28,
      "outputs": [
        {
          "output_type": "stream",
          "name": "stdout",
          "text": [
            "77\n",
            "time taken is 0.0008373260498046875\n"
          ]
        }
      ]
    }
  ]
}