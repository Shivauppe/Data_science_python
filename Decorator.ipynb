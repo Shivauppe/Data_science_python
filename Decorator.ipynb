{
  "nbformat": 4,
  "nbformat_minor": 0,
  "metadata": {
    "colab": {
      "provenance": [],
      "authorship_tag": "ABX9TyOnnpBz0D7b8WJpGIQaxHxM",
      "include_colab_link": true
    },
    "kernelspec": {
      "name": "python3",
      "display_name": "Python 3"
    },
    "language_info": {
      "name": "python"
    }
  },
  "cells": [
    {
      "cell_type": "markdown",
      "metadata": {
        "id": "view-in-github",
        "colab_type": "text"
      },
      "source": [
        "<a href=\"https://colab.research.google.com/github/Shivauppe/Data_science_python/blob/main/Decorator.ipynb\" target=\"_parent\"><img src=\"https://colab.research.google.com/assets/colab-badge.svg\" alt=\"Open In Colab\"/></a>"
      ]
    },
    {
      "cell_type": "code",
      "execution_count": 2,
      "metadata": {
        "id": "Bli2lV7GzZVj"
      },
      "outputs": [],
      "source": [
        "#decorators -\n",
        "# decorators are used to modify the behaviour of function or class. In Decorators, functions are taken as the argument into another function and then called inside the wrapper function."
      ]
    },
    {
      "cell_type": "code",
      "source": [
        "def my_decorator_fun():\n",
        "    print(\"Print before computation\")\n",
        "    print(11*120)\n",
        "    print(\"print after computation\")"
      ],
      "metadata": {
        "id": "NvEV1ybf-8YN"
      },
      "execution_count": 3,
      "outputs": []
    },
    {
      "cell_type": "code",
      "source": [
        "my_decorator_fun()"
      ],
      "metadata": {
        "colab": {
          "base_uri": "https://localhost:8080/"
        },
        "id": "bRi4nFBx_CC-",
        "outputId": "3ac15729-427b-4cd0-9694-6c88782cf038"
      },
      "execution_count": 4,
      "outputs": [
        {
          "output_type": "stream",
          "name": "stdout",
          "text": [
            "Print before computation\n",
            "1320\n",
            "print after computation\n"
          ]
        }
      ]
    },
    {
      "cell_type": "code",
      "source": [
        "#to understand the use case>>say you want to use the line before computation and after computation after each time you create each time you can create a function  or a call function. so it will take a lot of time to type seperately\n",
        "#  and thats why concept of decoratora are introduced."
      ],
      "metadata": {
        "id": "eKYec-ye_E8u"
      },
      "execution_count": null,
      "outputs": []
    },
    {
      "cell_type": "code",
      "source": [
        "def my_decorator_fun(func):\n",
        "    def inner_function():\n",
        "        print(\"Print before computation\")\n",
        "        func()\n",
        "        print(\"print after computation\")\n",
        "    return inner_function"
      ],
      "metadata": {
        "id": "xtHWTnnKAzNa"
      },
      "execution_count": 10,
      "outputs": []
    },
    {
      "cell_type": "code",
      "source": [
        "def say_hello():\n",
        "    print(\"hello\")"
      ],
      "metadata": {
        "id": "VApOVSaWA72j"
      },
      "execution_count": 11,
      "outputs": []
    },
    {
      "cell_type": "code",
      "source": [
        "say_hello() #this function has ntg relation with my_decorator_fun"
      ],
      "metadata": {
        "colab": {
          "base_uri": "https://localhost:8080/"
        },
        "id": "iubdHf7gBZbg",
        "outputId": "c9057073-29a3-4c01-e39a-bf45e3ce65d8"
      },
      "execution_count": 13,
      "outputs": [
        {
          "output_type": "stream",
          "name": "stdout",
          "text": [
            "hello\n"
          ]
        }
      ]
    },
    {
      "cell_type": "code",
      "source": [
        "@my_decorator_fun\n",
        "def say_hello():\n",
        "    print(\"hello\")"
      ],
      "metadata": {
        "id": "W2B-3TseBtju"
      },
      "execution_count": 15,
      "outputs": []
    },
    {
      "cell_type": "code",
      "source": [
        "say_hello()"
      ],
      "metadata": {
        "colab": {
          "base_uri": "https://localhost:8080/"
        },
        "id": "GqFzvm0ZBxkd",
        "outputId": "ed37a200-f25d-438c-8858-d4c4d9efc6c6"
      },
      "execution_count": 17,
      "outputs": [
        {
          "output_type": "stream",
          "name": "stdout",
          "text": [
            "Print before computation\n",
            "hello\n",
            "print after computation\n"
          ]
        }
      ]
    },
    {
      "cell_type": "code",
      "source": [
        "#use case:\n",
        "# runtime execution of a code.\n",
        "\n",
        "import time\n",
        "def timer_decorator(func):\n",
        "  def timer():\n",
        "    start = time.time()\n",
        "    func()\n",
        "    end = time.time()\n",
        "    print(f\"time taken is {end-start}\")\n",
        "  return timer"
      ],
      "metadata": {
        "id": "TF6KWd3CEnJl"
      },
      "execution_count": 18,
      "outputs": []
    },
    {
      "cell_type": "code",
      "source": [
        "@timer_decorator\n",
        "def func_test():\n",
        "  print(1234*7896%23+23)"
      ],
      "metadata": {
        "id": "g6xzafOuFVxm"
      },
      "execution_count": 24,
      "outputs": []
    },
    {
      "cell_type": "code",
      "source": [
        "func_test()"
      ],
      "metadata": {
        "colab": {
          "base_uri": "https://localhost:8080/"
        },
        "id": "Yunpy3RhFnfn",
        "outputId": "d716533c-555b-429f-e04c-e35bd31b8ce5"
      },
      "execution_count": 25,
      "outputs": [
        {
          "output_type": "stream",
          "name": "stdout",
          "text": [
            "36\n",
            "time taken is 0.0008854866027832031\n"
          ]
        }
      ]
    },
    {
      "cell_type": "code",
      "source": [
        "@timer_decorator\n",
        "def func_test1():\n",
        "  print(12+65)"
      ],
      "metadata": {
        "id": "jQVaIgjOGDNT"
      },
      "execution_count": 27,
      "outputs": []
    },
    {
      "cell_type": "code",
      "source": [
        "func_test1()"
      ],
      "metadata": {
        "colab": {
          "base_uri": "https://localhost:8080/"
        },
        "id": "ymL3FG42GK2n",
        "outputId": "a8ae2c54-c3df-4caf-f576-c8db433c4968"
      },
      "execution_count": 28,
      "outputs": [
        {
          "output_type": "stream",
          "name": "stdout",
          "text": [
            "77\n",
            "time taken is 0.0008373260498046875\n"
          ]
        }
      ]
    },
    {
      "cell_type": "code",
      "source": [
        "#why do we need decorator - reusuability of code, and without rewriting the function it can be altered.\n",
        "\n",
        "#use cases - execution of code, validation,logging, caching\n"
      ],
      "metadata": {
        "id": "X9nkLIFBGf8e"
      },
      "execution_count": 30,
      "outputs": []
    },
    {
      "cell_type": "code",
      "source": [
        "#class decorator.\n",
        "class my_decorator_class:\n",
        "  def __init__(self,func):\n",
        "    self.func = func\n",
        "  def __call__(self):\n",
        "    print(\"Print before computation\")\n",
        "    self.func()\n",
        "    print(\"print after computation\")"
      ],
      "metadata": {
        "id": "z8DzVixcGz6s"
      },
      "execution_count": 31,
      "outputs": []
    },
    {
      "cell_type": "code",
      "source": [
        "@my_decorator_class\n",
        "def say_hello():\n",
        "  print(\"hello\")"
      ],
      "metadata": {
        "id": "rQGmnKrXHrhi"
      },
      "execution_count": 34,
      "outputs": []
    },
    {
      "cell_type": "code",
      "source": [
        "say_hello()"
      ],
      "metadata": {
        "colab": {
          "base_uri": "https://localhost:8080/"
        },
        "id": "xVmvNVdNH8oT",
        "outputId": "5430a920-62fb-4251-ba2a-eb5729de4ec1"
      },
      "execution_count": 35,
      "outputs": [
        {
          "output_type": "stream",
          "name": "stdout",
          "text": [
            "Print before computation\n",
            "hello\n",
            "print after computation\n"
          ]
        }
      ]
    },
    {
      "cell_type": "code",
      "source": [
        "#some inbuilt decorators ,(classmethod) the method that takes the class itself as the first arguments.\n",
        "\n",
        "class Math:\n",
        "  @classmethod #takes reference to the class itself to modify and access level attributes\n",
        "  def add(cls,a,b):\n",
        "    return cls.__name__,a+b"
      ],
      "metadata": {
        "id": "fHv74HKTJeGl"
      },
      "execution_count": 44,
      "outputs": []
    },
    {
      "cell_type": "code",
      "source": [
        "Math.add(1,2)"
      ],
      "metadata": {
        "colab": {
          "base_uri": "https://localhost:8080/"
        },
        "id": "k6Mhqx59KCrp",
        "outputId": "48cb701b-c68a-41f5-9986-c09f155e79d2"
      },
      "execution_count": 45,
      "outputs": [
        {
          "output_type": "execute_result",
          "data": {
            "text/plain": [
              "('Math', 3)"
            ]
          },
          "metadata": {},
          "execution_count": 45
        }
      ]
    },
    {
      "cell_type": "code",
      "source": [
        "#static decorator\n",
        "class math:\n",
        "  @staticmethod\n",
        "  def add(a,b):\n",
        "    return a+b"
      ],
      "metadata": {
        "id": "K88CnSBUMHAX"
      },
      "execution_count": 46,
      "outputs": []
    },
    {
      "cell_type": "code",
      "source": [
        "#no first argument in static method.\n"
      ],
      "metadata": {
        "id": "zQGjZHNuMR8G"
      },
      "execution_count": null,
      "outputs": []
    },
    {
      "cell_type": "code",
      "source": [
        "#class method to be used when you want to modify class level data.\n",
        "#static method - when you dont want to interact with class level data."
      ],
      "metadata": {
        "id": "P0HLao90MtQ0"
      },
      "execution_count": 48,
      "outputs": []
    },
    {
      "cell_type": "markdown",
      "source": [
        "### **Property Decorator**"
      ],
      "metadata": {
        "id": "lLoXv-L6NK9k"
      }
    },
    {
      "cell_type": "code",
      "source": [
        "#Property decorator - it allows method to be accessed as a attribute\n",
        "\n",
        "class circle():\n",
        "  def __init__(self,radius):\n",
        "    self.radius = radius"
      ],
      "metadata": {
        "id": "VIJf_7L-NSvN"
      },
      "execution_count": 66,
      "outputs": []
    },
    {
      "cell_type": "code",
      "source": [
        "obj = circle(5)"
      ],
      "metadata": {
        "id": "bGsz99nLOuwA"
      },
      "execution_count": 67,
      "outputs": []
    },
    {
      "cell_type": "code",
      "source": [
        "obj.radius #accessing the data"
      ],
      "metadata": {
        "colab": {
          "base_uri": "https://localhost:8080/"
        },
        "id": "yk2PjoqyOxtU",
        "outputId": "ff7180ce-79b6-4378-98a8-6793bb662df8"
      },
      "execution_count": 68,
      "outputs": [
        {
          "output_type": "execute_result",
          "data": {
            "text/plain": [
              "5"
            ]
          },
          "metadata": {},
          "execution_count": 68
        }
      ]
    },
    {
      "cell_type": "code",
      "source": [
        "class circle():\n",
        "  def __init__(self,radius):\n",
        "    self.radius = radius\n",
        "  def area(self):\n",
        "    radius = self.radius\n",
        "    return 3.14 * radius * radius\n",
        ""
      ],
      "metadata": {
        "id": "GpFpYZyHO8sN"
      },
      "execution_count": 69,
      "outputs": []
    },
    {
      "cell_type": "code",
      "source": [
        "obj = circle(5)"
      ],
      "metadata": {
        "id": "FED4G_XzPuIK"
      },
      "execution_count": 70,
      "outputs": []
    },
    {
      "cell_type": "code",
      "source": [
        "obj.radius"
      ],
      "metadata": {
        "colab": {
          "base_uri": "https://localhost:8080/"
        },
        "id": "iWgePOoAPwK4",
        "outputId": "1bc2383f-5116-4c78-de1a-22aded67d58f"
      },
      "execution_count": 71,
      "outputs": [
        {
          "output_type": "execute_result",
          "data": {
            "text/plain": [
              "5"
            ]
          },
          "metadata": {},
          "execution_count": 71
        }
      ]
    },
    {
      "cell_type": "code",
      "source": [
        "obj.area()"
      ],
      "metadata": {
        "colab": {
          "base_uri": "https://localhost:8080/"
        },
        "id": "9j492vhqPyaX",
        "outputId": "c1d99621-9de4-49a7-b589-113df18a5cf2"
      },
      "execution_count": 72,
      "outputs": [
        {
          "output_type": "execute_result",
          "data": {
            "text/plain": [
              "78.5"
            ]
          },
          "metadata": {},
          "execution_count": 72
        }
      ]
    },
    {
      "cell_type": "code",
      "source": [
        "#using proprty decorator;\n",
        "class circle():\n",
        "  def __init__(self,radius):\n",
        "    self.radius = radius\n",
        "  @property\n",
        "  def area(self):\n",
        "    radius = self.radius\n",
        "    return 3.14 * radius * radius"
      ],
      "metadata": {
        "id": "CXQcVqu0QFsR"
      },
      "execution_count": 73,
      "outputs": []
    },
    {
      "cell_type": "code",
      "source": [
        "obj1 = circle(15)"
      ],
      "metadata": {
        "id": "WRZSTyHJQRVA"
      },
      "execution_count": 74,
      "outputs": []
    },
    {
      "cell_type": "code",
      "source": [
        "obj1.area ## no need of paranthesis"
      ],
      "metadata": {
        "colab": {
          "base_uri": "https://localhost:8080/"
        },
        "id": "eTMt4tHEQU3p",
        "outputId": "80f5350f-1cc2-4bdb-f10a-6da2ffa2eff8"
      },
      "execution_count": 75,
      "outputs": [
        {
          "output_type": "execute_result",
          "data": {
            "text/plain": [
              "706.5"
            ]
          },
          "metadata": {},
          "execution_count": 75
        }
      ]
    }
  ]
}