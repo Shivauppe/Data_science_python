{
  "cells": [
    {
      "cell_type": "markdown",
      "metadata": {
        "id": "view-in-github",
        "colab_type": "text"
      },
      "source": [
        "<a href=\"https://colab.research.google.com/github/Shivauppe/Data_science_python/blob/main/Functions_%26_Oops.ipynb\" target=\"_parent\"><img src=\"https://colab.research.google.com/assets/colab-badge.svg\" alt=\"Open In Colab\"/></a>"
      ]
    },
    {
      "cell_type": "code",
      "execution_count": null,
      "metadata": {
        "colab": {
          "base_uri": "https://localhost:8080/"
        },
        "id": "8ssbhI-YM0R6",
        "outputId": "f05261ec-9226-4e7d-b72c-c925f7d431ba"
      },
      "outputs": [
        {
          "data": {
            "text/plain": [
              "10"
            ]
          },
          "execution_count": 1,
          "metadata": {},
          "output_type": "execute_result"
        }
      ],
      "source": [
        "import math\n",
        "math.ceil(9.09)\n"
      ]
    },
    {
      "cell_type": "code",
      "execution_count": null,
      "metadata": {
        "colab": {
          "base_uri": "https://localhost:8080/"
        },
        "id": "MVxXOSRlNMZc",
        "outputId": "d54aac52-fff3-41e1-effe-954255b167ab"
      },
      "outputs": [
        {
          "data": {
            "text/plain": [
              "9"
            ]
          },
          "execution_count": 2,
          "metadata": {},
          "output_type": "execute_result"
        }
      ],
      "source": [
        "math.floor(9.09)"
      ]
    },
    {
      "cell_type": "code",
      "execution_count": null,
      "metadata": {
        "colab": {
          "base_uri": "https://localhost:8080/"
        },
        "id": "58i6O5p-NRhH",
        "outputId": "fe345649-7352-42b9-8d9b-a648bceeb709"
      },
      "outputs": [
        {
          "data": {
            "text/plain": [
              "30"
            ]
          },
          "execution_count": 6,
          "metadata": {},
          "output_type": "execute_result"
        }
      ],
      "source": [
        "#functions -\n",
        "# Block of code which performs some specif task. , can be reused # inbuilt functions && user defined functions\n",
        "#sample function to demonstrate in python\n",
        "def add(a,b):\n",
        "    return a+b\n",
        "\n",
        "add(10,20)\n"
      ]
    },
    {
      "cell_type": "code",
      "execution_count": null,
      "metadata": {
        "colab": {
          "base_uri": "https://localhost:8080/"
        },
        "id": "Td00nN6aP4cW",
        "outputId": "8f3416b3-7332-452c-8068-19c845b5117d"
      },
      "outputs": [
        {
          "name": "stdout",
          "output_type": "stream",
          "text": [
            "Welcome to Data Science\n"
          ]
        }
      ],
      "source": [
        "#function for greetings\n",
        "\n",
        "def greetings():\n",
        "    print(\"Welcome to Data Science\")\n",
        "\n",
        "greetings()"
      ]
    },
    {
      "cell_type": "code",
      "execution_count": null,
      "metadata": {
        "colab": {
          "base_uri": "https://localhost:8080/"
        },
        "id": "UHvNzxcDP-qn",
        "outputId": "88a2457b-8db8-4f5a-e9ce-74a68fe2e06c"
      },
      "outputs": [
        {
          "name": "stdout",
          "output_type": "stream",
          "text": [
            "Welcome to Data Science Shivanand\n"
          ]
        }
      ],
      "source": [
        "def greetings(name):\n",
        "    print(\"Welcome to Data Science\",name)\n",
        "\n",
        "greetings(\"Shivanand\")"
      ]
    },
    {
      "cell_type": "code",
      "execution_count": null,
      "metadata": {
        "colab": {
          "base_uri": "https://localhost:8080/"
        },
        "id": "YLYHi4lnRaTt",
        "outputId": "231db95c-a642-4f57-f32b-e4f50a566b1d"
      },
      "outputs": [
        {
          "data": {
            "text/plain": [
              "('Hello', 1, 2.5, True)"
            ]
          },
          "execution_count": 13,
          "metadata": {},
          "output_type": "execute_result"
        }
      ],
      "source": [
        "def fun():\n",
        "    return \"Hello\",1,2.5,True\n",
        "\n",
        "fun()"
      ]
    },
    {
      "cell_type": "code",
      "execution_count": null,
      "metadata": {
        "id": "T6t6tP-rUIY6"
      },
      "outputs": [],
      "source": [
        "a,b,c,d = fun()"
      ]
    },
    {
      "cell_type": "code",
      "execution_count": null,
      "metadata": {
        "colab": {
          "base_uri": "https://localhost:8080/",
          "height": 36
        },
        "id": "fvRhcyR6SH39",
        "outputId": "aeb78bde-e2cd-48dd-83ea-5d248862109f"
      },
      "outputs": [
        {
          "data": {
            "application/vnd.google.colaboratory.intrinsic+json": {
              "type": "string"
            },
            "text/plain": [
              "'Hello'"
            ]
          },
          "execution_count": 16,
          "metadata": {},
          "output_type": "execute_result"
        }
      ],
      "source": [
        "a"
      ]
    },
    {
      "cell_type": "code",
      "execution_count": null,
      "metadata": {
        "colab": {
          "base_uri": "https://localhost:8080/"
        },
        "id": "fFqDtRd-UUcr",
        "outputId": "8427623a-5ba6-4974-b745-f218b9fb6eee"
      },
      "outputs": [
        {
          "data": {
            "text/plain": [
              "1"
            ]
          },
          "execution_count": 17,
          "metadata": {},
          "output_type": "execute_result"
        }
      ],
      "source": [
        "b"
      ]
    },
    {
      "cell_type": "code",
      "execution_count": null,
      "metadata": {
        "colab": {
          "base_uri": "https://localhost:8080/"
        },
        "id": "GE_-TM0XUVvx",
        "outputId": "0c7fb2d7-a9b7-400d-a5b4-a6e0eeb2e533"
      },
      "outputs": [
        {
          "data": {
            "text/plain": [
              "2.5"
            ]
          },
          "execution_count": 18,
          "metadata": {},
          "output_type": "execute_result"
        }
      ],
      "source": [
        "c"
      ]
    },
    {
      "cell_type": "code",
      "execution_count": null,
      "metadata": {
        "colab": {
          "base_uri": "https://localhost:8080/"
        },
        "id": "ZCCfBSTOUWuB",
        "outputId": "32421f09-b798-4aad-9296-88a7d3427e0b"
      },
      "outputs": [
        {
          "data": {
            "text/plain": [
              "True"
            ]
          },
          "execution_count": 19,
          "metadata": {},
          "output_type": "execute_result"
        }
      ],
      "source": [
        "d"
      ]
    },
    {
      "cell_type": "code",
      "execution_count": null,
      "metadata": {
        "colab": {
          "base_uri": "https://localhost:8080/"
        },
        "id": "C9UZYf6FVuno",
        "outputId": "497ff5d3-362d-4583-c533-59d6dae230cd"
      },
      "outputs": [
        {
          "data": {
            "text/plain": [
              "25"
            ]
          },
          "execution_count": 20,
          "metadata": {},
          "output_type": "execute_result"
        }
      ],
      "source": [
        "def square_no(a):\n",
        "    return a**2\n",
        "\n",
        "square_no(5)"
      ]
    },
    {
      "cell_type": "code",
      "execution_count": null,
      "metadata": {
        "colab": {
          "base_uri": "https://localhost:8080/"
        },
        "id": "c01UP4dNV6hy",
        "outputId": "171174d1-c284-4420-c820-95de2aab8713"
      },
      "outputs": [
        {
          "data": {
            "text/plain": [
              "361"
            ]
          },
          "execution_count": 21,
          "metadata": {},
          "output_type": "execute_result"
        }
      ],
      "source": [
        "square_no(19)"
      ]
    },
    {
      "cell_type": "code",
      "execution_count": null,
      "metadata": {
        "colab": {
          "base_uri": "https://localhost:8080/"
        },
        "id": "Do4U9sf0V97q",
        "outputId": "06538647-b3cd-4d29-8d41-53a5ea0ba4cb"
      },
      "outputs": [
        {
          "data": {
            "text/plain": [
              "40"
            ]
          },
          "execution_count": 31,
          "metadata": {},
          "output_type": "execute_result"
        }
      ],
      "source": [
        "def addition(a,b):\n",
        "  return a+b\n",
        "  # print(\"Addition of 2nos is : \" ,addition())\n",
        "addition(10,30)"
      ]
    },
    {
      "cell_type": "code",
      "execution_count": null,
      "metadata": {
        "colab": {
          "base_uri": "https://localhost:8080/",
          "height": 36
        },
        "id": "ncbglUr_Xoww",
        "outputId": "56ad8ac4-dac3-4e86-95fe-b85801ad64d7"
      },
      "outputs": [
        {
          "data": {
            "application/vnd.google.colaboratory.intrinsic+json": {
              "type": "string"
            },
            "text/plain": [
              "'1030'"
            ]
          },
          "execution_count": 32,
          "metadata": {},
          "output_type": "execute_result"
        }
      ],
      "source": [
        "addition(\"10\",\"30\") ## string concatenate"
      ]
    },
    {
      "cell_type": "code",
      "execution_count": null,
      "metadata": {
        "colab": {
          "base_uri": "https://localhost:8080/"
        },
        "id": "E_hWSDVrXugo",
        "outputId": "8acf767c-e3a6-4931-abcd-f975cf1a58e8"
      },
      "outputs": [
        {
          "data": {
            "text/plain": [
              "[1, 2, 3, 4, 5, 6]"
            ]
          },
          "execution_count": 35,
          "metadata": {},
          "output_type": "execute_result"
        }
      ],
      "source": [
        "addition([1,2,3],[4,5,6]) ##union for sets"
      ]
    },
    {
      "cell_type": "code",
      "execution_count": null,
      "metadata": {
        "colab": {
          "base_uri": "https://localhost:8080/"
        },
        "id": "eeBlJdDuYZXN",
        "outputId": "13ca3a0e-18c9-493b-a30f-70fc0d676858"
      },
      "outputs": [
        {
          "data": {
            "text/plain": [
              "40"
            ]
          },
          "execution_count": 38,
          "metadata": {},
          "output_type": "execute_result"
        }
      ],
      "source": [
        "#params switching\n",
        "def addition(a,b):\n",
        "  return a+b\n",
        "  # print(\"Addition of 2nos is : \" ,addition())\n",
        "addition(b=10,a=30)"
      ]
    },
    {
      "cell_type": "code",
      "execution_count": null,
      "metadata": {
        "colab": {
          "base_uri": "https://localhost:8080/",
          "height": 36
        },
        "id": "L05WWEFxYllG",
        "outputId": "f371071e-2992-4c2b-9cf6-037ca9dc6707"
      },
      "outputs": [
        {
          "data": {
            "application/vnd.google.colaboratory.intrinsic+json": {
              "type": "string"
            },
            "text/plain": [
              "'Shivauppe'"
            ]
          },
          "execution_count": 46,
          "metadata": {},
          "output_type": "execute_result"
        }
      ],
      "source": [
        "def addition1(x1,x2):\n",
        "  return x2+x1\n",
        "\n",
        "addition1('uppe','Shiva')"
      ]
    },
    {
      "cell_type": "code",
      "execution_count": null,
      "metadata": {
        "colab": {
          "base_uri": "https://localhost:8080/"
        },
        "id": "8wAhZrQJinvP",
        "outputId": "11408264-8106-4af0-ef6e-2931d87306b0"
      },
      "outputs": [
        {
          "data": {
            "text/plain": [
              "30"
            ]
          },
          "execution_count": 47,
          "metadata": {},
          "output_type": "execute_result"
        }
      ],
      "source": [
        "#defualt arguments\n",
        "def addition(a=10,b=20):\n",
        "  return a+b\n",
        "addition()"
      ]
    },
    {
      "cell_type": "code",
      "execution_count": null,
      "metadata": {
        "colab": {
          "base_uri": "https://localhost:8080/"
        },
        "id": "NYIUkgmukCt1",
        "outputId": "4ec57cd3-71fa-498e-ff92-5f1c9eb9895a"
      },
      "outputs": [
        {
          "data": {
            "text/plain": [
              "11"
            ]
          },
          "execution_count": 52,
          "metadata": {},
          "output_type": "execute_result"
        }
      ],
      "source": [
        "# defualt param will be at the last arguments\n",
        "\n",
        "def addition_1(b,a=0):\n",
        "  return a+b\n",
        "\n",
        "addition_1(11)"
      ]
    },
    {
      "cell_type": "code",
      "execution_count": null,
      "metadata": {
        "colab": {
          "base_uri": "https://localhost:8080/"
        },
        "id": "RjMZQ-zWlUg3",
        "outputId": "6733fd70-2bb4-4624-e3cd-526b81081c97"
      },
      "outputs": [
        {
          "data": {
            "text/plain": [
              "35"
            ]
          },
          "execution_count": 58,
          "metadata": {},
          "output_type": "execute_result"
        }
      ],
      "source": [
        "def sum(a=5, b=0, c=0):\n",
        "  return a+b+c\n",
        "\n",
        "sum(b = 10, c = 20)\n"
      ]
    },
    {
      "cell_type": "code",
      "execution_count": null,
      "metadata": {
        "colab": {
          "base_uri": "https://localhost:8080/"
        },
        "id": "Yk-jG6CWmNdc",
        "outputId": "734a3adc-0e5d-4c84-ebd9-e7175bafa58c"
      },
      "outputs": [
        {
          "name": "stdout",
          "output_type": "stream",
          "text": [
            "Enter 1st no : 12\n",
            "Enter 2nd no : 2\n"
          ]
        },
        {
          "data": {
            "text/plain": [
              "14"
            ]
          },
          "execution_count": 59,
          "metadata": {},
          "output_type": "execute_result"
        }
      ],
      "source": [
        "#user defined inputs\n",
        "\n",
        "def sum2():\n",
        "  a = int(input(\"Enter 1st no : \"))\n",
        "  b = int(input(\"Enter 2nd no : \"))\n",
        "  return a+b\n",
        "\n",
        "sum2()"
      ]
    },
    {
      "cell_type": "code",
      "execution_count": null,
      "metadata": {
        "colab": {
          "base_uri": "https://localhost:8080/"
        },
        "id": "q5FDkO57mbq6",
        "outputId": "a05af29c-80d5-48ea-9ce9-84962a9052ef"
      },
      "outputs": [
        {
          "data": {
            "text/plain": [
              "[1, 2.2, 1.0908]"
            ]
          },
          "execution_count": 66,
          "metadata": {},
          "output_type": "execute_result"
        }
      ],
      "source": [
        "#write a function that takes list as input and return all numeric values\n",
        "def list_num(a):\n",
        "  n = []\n",
        "  for i in a:\n",
        "    if type(i) == int or type(i) == float:\n",
        "      n.append(i)\n",
        "  return n\n",
        "\n",
        "list_num([1,2.2,'Shivanand',1.0908])\n"
      ]
    },
    {
      "cell_type": "code",
      "execution_count": null,
      "metadata": {
        "colab": {
          "base_uri": "https://localhost:8080/"
        },
        "id": "0KjIg1H8pTof",
        "outputId": "15fc0add-8644-40fa-ebbc-c17949dedfcc"
      },
      "outputs": [
        {
          "data": {
            "text/plain": [
              "[0, 2, 9.0, 3, 4, 9.0, 5, 6]"
            ]
          },
          "execution_count": 81,
          "metadata": {},
          "output_type": "execute_result"
        }
      ],
      "source": [
        "#write a function that takes nested list as input and should returns only numeric\n",
        "\n",
        "def only_numeric(a):\n",
        "  n = []\n",
        "  for i in a:\n",
        "    if type(i) == list:\n",
        "      for j in i:\n",
        "        if type(j) == int or type(j) == float:\n",
        "          n.append(j)\n",
        "    else:\n",
        "      if type(i) == int or type(i) == float:\n",
        "        n.append(i)\n",
        "  return n;\n",
        "\n",
        "only_numeric([0,2,'Shiva',9.0,True,3,[4,'Uppe',9.0,False,5,6]])"
      ]
    },
    {
      "cell_type": "code",
      "execution_count": null,
      "metadata": {
        "colab": {
          "base_uri": "https://localhost:8080/"
        },
        "id": "mPfgdSs_t7dc",
        "outputId": "b3d0c6dc-aa44-458b-a29e-2238a32d46ae"
      },
      "outputs": [
        {
          "data": {
            "text/plain": [
              "{'a': 10, 'b': 20, 'c': 30}"
            ]
          },
          "execution_count": 82,
          "metadata": {},
          "output_type": "execute_result"
        }
      ],
      "source": [
        "#variable length arguments\n",
        "def fun(**args):\n",
        "  return args\n",
        "\n",
        "fun(a=10,b=20,c=30)"
      ]
    },
    {
      "cell_type": "code",
      "execution_count": null,
      "metadata": {
        "colab": {
          "base_uri": "https://localhost:8080/"
        },
        "id": "7GI8ytnYuIrM",
        "outputId": "e1e64140-4345-44e2-cae5-3af3aae99f08"
      },
      "outputs": [
        {
          "data": {
            "text/plain": [
              "45"
            ]
          },
          "execution_count": 88,
          "metadata": {},
          "output_type": "execute_result"
        }
      ],
      "source": [
        "def sum_agumements(*args):\n",
        "  s = 0\n",
        "  for i in args:\n",
        "    s = s+i\n",
        "  return s\n",
        "\n",
        "sum_agumements(1,2,3,4,5,6,7,8,9)"
      ]
    },
    {
      "cell_type": "code",
      "execution_count": null,
      "metadata": {
        "colab": {
          "base_uri": "https://localhost:8080/"
        },
        "id": "UgOsUGi30rG0",
        "outputId": "85c0bb54-8631-467e-961a-81d79cd5381e"
      },
      "outputs": [
        {
          "data": {
            "text/plain": [
              "((1, 2, 3, 4, 5), 10)"
            ]
          },
          "execution_count": 89,
          "metadata": {},
          "output_type": "execute_result"
        }
      ],
      "source": [
        "#defualt arguments with variable lenth args\n",
        "def fun_test(*args,a):\n",
        "  return args,a\n",
        "\n",
        "fun_test(1,2,3,4,5,a=10)"
      ]
    },
    {
      "cell_type": "code",
      "execution_count": null,
      "metadata": {
        "colab": {
          "base_uri": "https://localhost:8080/"
        },
        "id": "NQt6Cb391-mT",
        "outputId": "8b1b674e-4629-4bf0-d6fc-9f53fd5deafa"
      },
      "outputs": [
        {
          "data": {
            "text/plain": [
              "((), 10)"
            ]
          },
          "execution_count": 93,
          "metadata": {},
          "output_type": "execute_result"
        }
      ],
      "source": [
        "#variable arguments - takes any no.of arguments\n",
        "#positional arguments - fixed arguments\n",
        "\n",
        "def demo(*args,b):\n",
        "  return args,b\n",
        "\n",
        "demo(b=10)"
      ]
    },
    {
      "cell_type": "code",
      "execution_count": null,
      "metadata": {
        "colab": {
          "background_save": true,
          "base_uri": "https://localhost:8080/"
        },
        "id": "yj7XX_jx2eZv",
        "outputId": "ff96fd84-8e24-4a6d-b168-a8089b3dbe25"
      },
      "outputs": [
        {
          "data": {
            "text/plain": [
              "[1, 2.3, True, 0.9, 'Shivanand']"
            ]
          },
          "execution_count": 95,
          "metadata": {},
          "output_type": "execute_result"
        }
      ],
      "source": [
        "#write a function can take any no.of values and returns the list\n",
        "def return_list(*args):\n",
        "  l = []\n",
        "  for i in args:\n",
        "    l.append(i)\n",
        "  return l\n",
        "\n",
        "return_list(1,2,3,4,5,6,7,8,9)"
      ]
    },
    {
      "cell_type": "code",
      "source": [
        "#python namespace\n",
        "def greet():\n",
        "  message = \"Hello welcome to python!:) \" ##message var is local variable and outside the function cant be accessed, scope is within the function only.\n",
        "  print(message)\n",
        "\n",
        "greet()"
      ],
      "metadata": {
        "colab": {
          "base_uri": "https://localhost:8080/"
        },
        "id": "Kl51Uzol_7_j",
        "outputId": "63958ddd-a1e9-42d9-9e1a-96a7b955bb93"
      },
      "execution_count": 104,
      "outputs": [
        {
          "output_type": "stream",
          "name": "stdout",
          "text": [
            "Hello welcome to python!:) \n"
          ]
        }
      ]
    },
    {
      "cell_type": "code",
      "source": [
        "print(message)"
      ],
      "metadata": {
        "colab": {
          "base_uri": "https://localhost:8080/",
          "height": 146
        },
        "id": "5LJqSP2NAYWc",
        "outputId": "fdc5957a-3b7e-4dec-8464-bdbab5eede8f"
      },
      "execution_count": 105,
      "outputs": [
        {
          "output_type": "error",
          "ename": "NameError",
          "evalue": "name 'message' is not defined",
          "traceback": [
            "\u001b[0;31m---------------------------------------------------------------------------\u001b[0m",
            "\u001b[0;31mNameError\u001b[0m                                 Traceback (most recent call last)",
            "\u001b[0;32m<ipython-input-105-83cfdf559502>\u001b[0m in \u001b[0;36m<cell line: 1>\u001b[0;34m()\u001b[0m\n\u001b[0;32m----> 1\u001b[0;31m \u001b[0mprint\u001b[0m\u001b[0;34m(\u001b[0m\u001b[0mmessage\u001b[0m\u001b[0;34m)\u001b[0m\u001b[0;34m\u001b[0m\u001b[0;34m\u001b[0m\u001b[0m\n\u001b[0m",
            "\u001b[0;31mNameError\u001b[0m: name 'message' is not defined"
          ]
        }
      ]
    },
    {
      "cell_type": "code",
      "source": [
        "# variable is defined outside the function so can be accessed outside the function.\n",
        "\n",
        "subpart = \"Generative AI !\"\n",
        "def greet():\n",
        "  message = \"Hello welcome to python \" + subpart\n",
        "  print(message)\n",
        "\n",
        "greet()"
      ],
      "metadata": {
        "colab": {
          "base_uri": "https://localhost:8080/"
        },
        "id": "IyMHWarUAu_s",
        "outputId": "d7506b82-fb7c-4138-e44a-188ef7475771"
      },
      "execution_count": 112,
      "outputs": [
        {
          "output_type": "stream",
          "name": "stdout",
          "text": [
            "Hello welcome to python Generative AI !\n"
          ]
        }
      ]
    },
    {
      "cell_type": "code",
      "source": [
        "print(subpart)"
      ],
      "metadata": {
        "colab": {
          "base_uri": "https://localhost:8080/"
        },
        "id": "n5UEMKtSBTb4",
        "outputId": "8b02451b-4939-427d-eb12-138ec654be60"
      },
      "execution_count": 111,
      "outputs": [
        {
          "output_type": "stream",
          "name": "stdout",
          "text": [
            "Generative AI !\n"
          ]
        }
      ]
    },
    {
      "cell_type": "code",
      "source": [
        "#namespace - scope of variable\n",
        "#local variable - a function is defined inside a function should be accessed in the function\n",
        "#global variable - accessed any where"
      ],
      "metadata": {
        "id": "yUlQ-i05B_8R"
      },
      "execution_count": null,
      "outputs": []
    }
  ],
  "metadata": {
    "colab": {
      "provenance": [],
      "authorship_tag": "ABX9TyPZGKF1cyCc2JHXeQodwN5o",
      "include_colab_link": true
    },
    "kernelspec": {
      "display_name": "Python 3",
      "name": "python3"
    },
    "language_info": {
      "name": "python"
    }
  },
  "nbformat": 4,
  "nbformat_minor": 0
}