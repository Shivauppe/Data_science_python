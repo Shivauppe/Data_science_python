{
  "nbformat": 4,
  "nbformat_minor": 0,
  "metadata": {
    "colab": {
      "provenance": [],
      "authorship_tag": "ABX9TyPecR8t2bfVfp2vu+XxnaJF",
      "include_colab_link": true
    },
    "kernelspec": {
      "name": "python3",
      "display_name": "Python 3"
    },
    "language_info": {
      "name": "python"
    }
  },
  "cells": [
    {
      "cell_type": "markdown",
      "metadata": {
        "id": "view-in-github",
        "colab_type": "text"
      },
      "source": [
        "<a href=\"https://colab.research.google.com/github/Shivauppe/Data_science_python/blob/main/Polymorphism_and_encapsulation.ipynb\" target=\"_parent\"><img src=\"https://colab.research.google.com/assets/colab-badge.svg\" alt=\"Open In Colab\"/></a>"
      ]
    },
    {
      "cell_type": "code",
      "execution_count": null,
      "metadata": {
        "id": "E2kk2cNIIb83"
      },
      "outputs": [],
      "source": [
        "# The word polymorphism means having many forms. In programming, polymorphism means the same function name (but different signatures) being used for different types. The key difference is the data types and number of arguments used in function."
      ]
    },
    {
      "cell_type": "code",
      "source": [
        "# len() being used for a string\n",
        "print(len(\"Pwskills\"))\n",
        "\n",
        "# len() being used for a list\n",
        "print(len([10, 20, 30]))"
      ],
      "metadata": {
        "colab": {
          "base_uri": "https://localhost:8080/"
        },
        "id": "eyZYIvXpIvWC",
        "outputId": "ac9abbfd-59d9-4f89-cc8e-b7b689bb2d0d"
      },
      "execution_count": null,
      "outputs": [
        {
          "output_type": "stream",
          "name": "stdout",
          "text": [
            "5\n",
            "3\n"
          ]
        }
      ]
    },
    {
      "cell_type": "code",
      "source": [
        "def add(x, y, z = 0):\n",
        "    return x + y + z\n",
        "\n",
        "# Driver code\n",
        "print(add(2, 3))\n",
        "print(add(2, 3, 4))"
      ],
      "metadata": {
        "colab": {
          "base_uri": "https://localhost:8080/"
        },
        "id": "nDysPfNPJ2Zf",
        "outputId": "f4549135-aa9f-4338-fe62-df5eeead4987"
      },
      "execution_count": null,
      "outputs": [
        {
          "output_type": "stream",
          "name": "stdout",
          "text": [
            "5\n",
            "9\n"
          ]
        }
      ]
    },
    {
      "cell_type": "code",
      "source": [
        "class teacher_lecture:\n",
        "  def lec_info(self):\n",
        "    print(\"This is lecture info with perspective on teacher\")\n",
        "class student_lecture:\n",
        "  def lec_info(self):\n",
        "    print(\"This is student info with perspective on teacher\")\n",
        "\n",
        "obj1 = teacher_lecture()\n",
        "obj2 = student_lecture()\n",
        "\n",
        "class_obj = [obj1, obj2]"
      ],
      "metadata": {
        "id": "Cj0iy3kOJ_Tn"
      },
      "execution_count": null,
      "outputs": []
    },
    {
      "cell_type": "code",
      "source": [
        "def parser (class_obj):\n",
        "    for i in class_obj:\n",
        "      i.lec_info()\n"
      ],
      "metadata": {
        "id": "yoAFIMOEZu65"
      },
      "execution_count": null,
      "outputs": []
    },
    {
      "cell_type": "code",
      "source": [
        "parser(class_obj)"
      ],
      "metadata": {
        "colab": {
          "base_uri": "https://localhost:8080/"
        },
        "id": "xso1xMhoaTvJ",
        "outputId": "4c316589-b3b4-4712-ddfc-da976cd1f5b4"
      },
      "execution_count": null,
      "outputs": [
        {
          "output_type": "stream",
          "name": "stdout",
          "text": [
            "This is lecture info with perspective on teacher\n",
            "This is student info with perspective on teacher\n"
          ]
        }
      ]
    },
    {
      "cell_type": "code",
      "source": [
        "#method overloading!\n",
        "\n",
        "class StudentClass:\n",
        "  def student(self):\n",
        "    print(\"Welcome to PWSkills\")\n",
        "  def student(self, name = ''):\n",
        "    print(\"Welcome to PWSkills\", name)\n",
        "  def student(self, name = '', age = ''):\n",
        "    print(\"Welcome to PWSkills\", name , age)\n",
        "\n"
      ],
      "metadata": {
        "id": "_q_88iufb9HA"
      },
      "execution_count": 2,
      "outputs": []
    },
    {
      "cell_type": "code",
      "source": [
        "StudentClass().student()"
      ],
      "metadata": {
        "colab": {
          "base_uri": "https://localhost:8080/"
        },
        "id": "KbZLyreUckT1",
        "outputId": "12bab9f3-1726-4902-efc3-43a83de5bb4c"
      },
      "execution_count": 3,
      "outputs": [
        {
          "output_type": "stream",
          "name": "stdout",
          "text": [
            "Welcome to PWSkills  \n"
          ]
        }
      ]
    },
    {
      "cell_type": "code",
      "source": [
        "StudentClass().student(\"Shivanand\")"
      ],
      "metadata": {
        "colab": {
          "base_uri": "https://localhost:8080/"
        },
        "id": "DcikOYYCgj-4",
        "outputId": "2d5bb226-babf-4b6a-85a1-7cd10d307037"
      },
      "execution_count": 4,
      "outputs": [
        {
          "output_type": "stream",
          "name": "stdout",
          "text": [
            "Welcome to PWSkills Shivanand \n"
          ]
        }
      ]
    },
    {
      "cell_type": "code",
      "source": [
        "StudentClass().student(\"Shivanand\",28)"
      ],
      "metadata": {
        "colab": {
          "base_uri": "https://localhost:8080/"
        },
        "id": "R3GAWarggsBy",
        "outputId": "7c085c47-bd16-4022-bf68-c7933d35b4d0"
      },
      "execution_count": null,
      "outputs": [
        {
          "output_type": "stream",
          "name": "stdout",
          "text": [
            "Welcome to PWSkills Shivanand 28\n"
          ]
        }
      ]
    },
    {
      "cell_type": "markdown",
      "source": [
        "### ** Method overriding**"
      ],
      "metadata": {
        "id": "Zi1UUPJGR625"
      }
    },
    {
      "cell_type": "code",
      "source": [
        "# method in parent class and child class with same signature , the child class will be executed\n",
        "\n",
        "class Animal:\n",
        "  def sound(self):\n",
        "    print(\"This is animal sound\")\n",
        "class Cat(Animal):\n",
        "  def sound(self):\n",
        "    print(\"This is Cat sound --- mew mew mew mew\")\n"
      ],
      "metadata": {
        "id": "c7t5V_meSGu0"
      },
      "execution_count": 6,
      "outputs": []
    },
    {
      "cell_type": "code",
      "source": [
        "anm = Animal() # object for animal class is created\n",
        "anm.sound()"
      ],
      "metadata": {
        "colab": {
          "base_uri": "https://localhost:8080/"
        },
        "id": "z1PoFd7BWw5L",
        "outputId": "03f5e49e-a693-4844-c70c-224f15af6a10"
      },
      "execution_count": 8,
      "outputs": [
        {
          "output_type": "stream",
          "name": "stdout",
          "text": [
            "This is animal sound\n"
          ]
        }
      ]
    },
    {
      "cell_type": "code",
      "source": [
        "cat1 = Cat() # object for cat class is created\n",
        "cat1.sound()"
      ],
      "metadata": {
        "colab": {
          "base_uri": "https://localhost:8080/"
        },
        "id": "k0HJVFIKW8u7",
        "outputId": "0310db59-9aa0-49e8-9274-7a839f9d5880"
      },
      "execution_count": 9,
      "outputs": [
        {
          "output_type": "stream",
          "name": "stdout",
          "text": [
            "This is Cat sound --- mew mew mew mew\n"
          ]
        }
      ]
    },
    {
      "cell_type": "markdown",
      "source": [
        "# Encapsulation. -- means hiding something(Hiding the implimentation\n",
        "# <!-- bundling of method and class -->\n",
        "### Access modifier - Private/public and protected"
      ],
      "metadata": {
        "id": "wuAb2xcVXTtB"
      }
    },
    {
      "cell_type": "code",
      "source": [
        "class Student():\n",
        "  def __init__(self, name, age):\n",
        "    self.name = name\n",
        "    self.age = age"
      ],
      "metadata": {
        "id": "N0CSa-91ZHnh"
      },
      "execution_count": 11,
      "outputs": []
    },
    {
      "cell_type": "code",
      "source": [
        "stud = Student(\"Ram\",25)"
      ],
      "metadata": {
        "id": "lUImCC6yZSwi"
      },
      "execution_count": 14,
      "outputs": []
    },
    {
      "cell_type": "code",
      "source": [
        "stud.name"
      ],
      "metadata": {
        "colab": {
          "base_uri": "https://localhost:8080/",
          "height": 35
        },
        "id": "s_oTvrl0ZqnO",
        "outputId": "7ddc1943-f986-4cfa-cd95-d5af07d011ba"
      },
      "execution_count": 15,
      "outputs": [
        {
          "output_type": "execute_result",
          "data": {
            "text/plain": [
              "'Ram'"
            ],
            "application/vnd.google.colaboratory.intrinsic+json": {
              "type": "string"
            }
          },
          "metadata": {},
          "execution_count": 15
        }
      ]
    },
    {
      "cell_type": "code",
      "source": [
        "stud.age"
      ],
      "metadata": {
        "colab": {
          "base_uri": "https://localhost:8080/"
        },
        "id": "9lz8r0EgZt7n",
        "outputId": "b1ff3f3a-a859-4207-bb51-c285f7ce1a7f"
      },
      "execution_count": 16,
      "outputs": [
        {
          "output_type": "execute_result",
          "data": {
            "text/plain": [
              "25"
            ]
          },
          "metadata": {},
          "execution_count": 16
        }
      ]
    },
    {
      "cell_type": "code",
      "source": [
        "stud2 = Student(\"Shivanand\",25)"
      ],
      "metadata": {
        "id": "So7S0yeJZ-sy"
      },
      "execution_count": 17,
      "outputs": []
    },
    {
      "cell_type": "code",
      "source": [
        "stud2.name"
      ],
      "metadata": {
        "colab": {
          "base_uri": "https://localhost:8080/",
          "height": 35
        },
        "id": "wWikdZfWaDeR",
        "outputId": "a14a342e-d625-420d-9347-0858c1fbbbd3"
      },
      "execution_count": 18,
      "outputs": [
        {
          "output_type": "execute_result",
          "data": {
            "text/plain": [
              "'Shivanand'"
            ],
            "application/vnd.google.colaboratory.intrinsic+json": {
              "type": "string"
            }
          },
          "metadata": {},
          "execution_count": 18
        }
      ]
    }
  ]
}