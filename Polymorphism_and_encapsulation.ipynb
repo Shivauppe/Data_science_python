{
  "nbformat": 4,
  "nbformat_minor": 0,
  "metadata": {
    "colab": {
      "provenance": [],
      "authorship_tag": "ABX9TyPU+m6a3briHh6M060aeiiu",
      "include_colab_link": true
    },
    "kernelspec": {
      "name": "python3",
      "display_name": "Python 3"
    },
    "language_info": {
      "name": "python"
    }
  },
  "cells": [
    {
      "cell_type": "markdown",
      "metadata": {
        "id": "view-in-github",
        "colab_type": "text"
      },
      "source": [
        "<a href=\"https://colab.research.google.com/github/Shivauppe/Data_science_python/blob/main/Polymorphism_and_encapsulation.ipynb\" target=\"_parent\"><img src=\"https://colab.research.google.com/assets/colab-badge.svg\" alt=\"Open In Colab\"/></a>"
      ]
    },
    {
      "cell_type": "code",
      "execution_count": null,
      "metadata": {
        "id": "E2kk2cNIIb83"
      },
      "outputs": [],
      "source": [
        "# The word polymorphism means having many forms. In programming, polymorphism means the same function name (but different signatures) being used for different types. The key difference is the data types and number of arguments used in function."
      ]
    },
    {
      "cell_type": "code",
      "source": [
        "# len() being used for a string\n",
        "print(len(\"Pwskills\"))\n",
        "\n",
        "# len() being used for a list\n",
        "print(len([10, 20, 30]))"
      ],
      "metadata": {
        "colab": {
          "base_uri": "https://localhost:8080/"
        },
        "id": "eyZYIvXpIvWC",
        "outputId": "ac9abbfd-59d9-4f89-cc8e-b7b689bb2d0d"
      },
      "execution_count": null,
      "outputs": [
        {
          "output_type": "stream",
          "name": "stdout",
          "text": [
            "5\n",
            "3\n"
          ]
        }
      ]
    },
    {
      "cell_type": "code",
      "source": [
        "def add(x, y, z = 0):\n",
        "    return x + y + z\n",
        "\n",
        "# Driver code\n",
        "print(add(2, 3))\n",
        "print(add(2, 3, 4))"
      ],
      "metadata": {
        "colab": {
          "base_uri": "https://localhost:8080/"
        },
        "id": "nDysPfNPJ2Zf",
        "outputId": "f4549135-aa9f-4338-fe62-df5eeead4987"
      },
      "execution_count": null,
      "outputs": [
        {
          "output_type": "stream",
          "name": "stdout",
          "text": [
            "5\n",
            "9\n"
          ]
        }
      ]
    },
    {
      "cell_type": "code",
      "source": [
        "class teacher_lecture:\n",
        "  def lec_info(self):\n",
        "    print(\"This is lecture info with perspective on teacher\")\n",
        "class student_lecture:\n",
        "  def lec_info(self):\n",
        "    print(\"This is student info with perspective on teacher\")\n",
        "\n",
        "obj1 = teacher_lecture()\n",
        "obj2 = student_lecture()\n",
        "\n",
        "class_obj = [obj1, obj2]"
      ],
      "metadata": {
        "id": "Cj0iy3kOJ_Tn"
      },
      "execution_count": null,
      "outputs": []
    },
    {
      "cell_type": "code",
      "source": [
        "def parser (class_obj):\n",
        "    for i in class_obj:\n",
        "      i.lec_info()\n"
      ],
      "metadata": {
        "id": "yoAFIMOEZu65"
      },
      "execution_count": null,
      "outputs": []
    },
    {
      "cell_type": "code",
      "source": [
        "parser(class_obj)"
      ],
      "metadata": {
        "colab": {
          "base_uri": "https://localhost:8080/"
        },
        "id": "xso1xMhoaTvJ",
        "outputId": "4c316589-b3b4-4712-ddfc-da976cd1f5b4"
      },
      "execution_count": null,
      "outputs": [
        {
          "output_type": "stream",
          "name": "stdout",
          "text": [
            "This is lecture info with perspective on teacher\n",
            "This is student info with perspective on teacher\n"
          ]
        }
      ]
    },
    {
      "cell_type": "code",
      "source": [
        "#method overloading!\n",
        "\n",
        "class StudentClass:\n",
        "  def student(self):\n",
        "    print(\"Welcome to PWSkills\")\n",
        "  def student(self, name = ''):\n",
        "    print(\"Welcome to PWSkills\", name)\n",
        "  def student(self, name = '', age = ''):\n",
        "    print(\"Welcome to PWSkills\", name , age)\n",
        "\n"
      ],
      "metadata": {
        "id": "_q_88iufb9HA"
      },
      "execution_count": 2,
      "outputs": []
    },
    {
      "cell_type": "code",
      "source": [
        "StudentClass().student()"
      ],
      "metadata": {
        "colab": {
          "base_uri": "https://localhost:8080/"
        },
        "id": "KbZLyreUckT1",
        "outputId": "12bab9f3-1726-4902-efc3-43a83de5bb4c"
      },
      "execution_count": 3,
      "outputs": [
        {
          "output_type": "stream",
          "name": "stdout",
          "text": [
            "Welcome to PWSkills  \n"
          ]
        }
      ]
    },
    {
      "cell_type": "code",
      "source": [
        "StudentClass().student(\"Shivanand\")"
      ],
      "metadata": {
        "colab": {
          "base_uri": "https://localhost:8080/"
        },
        "id": "DcikOYYCgj-4",
        "outputId": "2d5bb226-babf-4b6a-85a1-7cd10d307037"
      },
      "execution_count": 4,
      "outputs": [
        {
          "output_type": "stream",
          "name": "stdout",
          "text": [
            "Welcome to PWSkills Shivanand \n"
          ]
        }
      ]
    },
    {
      "cell_type": "code",
      "source": [
        "StudentClass().student(\"Shivanand\",28)"
      ],
      "metadata": {
        "colab": {
          "base_uri": "https://localhost:8080/"
        },
        "id": "R3GAWarggsBy",
        "outputId": "7c085c47-bd16-4022-bf68-c7933d35b4d0"
      },
      "execution_count": null,
      "outputs": [
        {
          "output_type": "stream",
          "name": "stdout",
          "text": [
            "Welcome to PWSkills Shivanand 28\n"
          ]
        }
      ]
    },
    {
      "cell_type": "markdown",
      "source": [
        "### ** Method overriding**"
      ],
      "metadata": {
        "id": "Zi1UUPJGR625"
      }
    },
    {
      "cell_type": "code",
      "source": [
        "# method in parent class and child class with same signature , the child class will be executed\n",
        "\n",
        "class Animal:\n",
        "  def sound(self):\n",
        "    print(\"This is animal sound\")\n",
        "class Cat(Animal):\n",
        "  def sound(self):\n",
        "    print(\"This is Cat sound --- mew mew mew mew\")\n"
      ],
      "metadata": {
        "id": "c7t5V_meSGu0"
      },
      "execution_count": 6,
      "outputs": []
    },
    {
      "cell_type": "code",
      "source": [
        "anm = Animal() # object for animal class is created\n",
        "anm.sound()"
      ],
      "metadata": {
        "colab": {
          "base_uri": "https://localhost:8080/"
        },
        "id": "z1PoFd7BWw5L",
        "outputId": "03f5e49e-a693-4844-c70c-224f15af6a10"
      },
      "execution_count": 8,
      "outputs": [
        {
          "output_type": "stream",
          "name": "stdout",
          "text": [
            "This is animal sound\n"
          ]
        }
      ]
    },
    {
      "cell_type": "code",
      "source": [
        "cat1 = Cat() # object for cat class is created\n",
        "cat1.sound()"
      ],
      "metadata": {
        "colab": {
          "base_uri": "https://localhost:8080/"
        },
        "id": "k0HJVFIKW8u7",
        "outputId": "0310db59-9aa0-49e8-9274-7a839f9d5880"
      },
      "execution_count": 9,
      "outputs": [
        {
          "output_type": "stream",
          "name": "stdout",
          "text": [
            "This is Cat sound --- mew mew mew mew\n"
          ]
        }
      ]
    },
    {
      "cell_type": "markdown",
      "source": [
        "# Encapsulation. -- means hiding something(Hiding the implimentation)\n",
        "# <!-- bundling of method and class -->\n",
        "### Access modifier - Private/public and protected"
      ],
      "metadata": {
        "id": "wuAb2xcVXTtB"
      }
    },
    {
      "cell_type": "code",
      "source": [
        "# #public - accessible from anywhere , outside or inside the class"
      ],
      "metadata": {
        "id": "ylHHHvwIb1Dq"
      },
      "execution_count": null,
      "outputs": []
    },
    {
      "cell_type": "code",
      "source": [
        "class Student():\n",
        "  def __init__(self, name, age):\n",
        "    self.name = name\n",
        "    self.age = age"
      ],
      "metadata": {
        "id": "N0CSa-91ZHnh"
      },
      "execution_count": 11,
      "outputs": []
    },
    {
      "cell_type": "code",
      "source": [
        "stud = Student(\"Ram\",25)"
      ],
      "metadata": {
        "id": "lUImCC6yZSwi"
      },
      "execution_count": 14,
      "outputs": []
    },
    {
      "cell_type": "code",
      "source": [
        "stud.name"
      ],
      "metadata": {
        "colab": {
          "base_uri": "https://localhost:8080/",
          "height": 35
        },
        "id": "s_oTvrl0ZqnO",
        "outputId": "7ddc1943-f986-4cfa-cd95-d5af07d011ba"
      },
      "execution_count": 15,
      "outputs": [
        {
          "output_type": "execute_result",
          "data": {
            "text/plain": [
              "'Ram'"
            ],
            "application/vnd.google.colaboratory.intrinsic+json": {
              "type": "string"
            }
          },
          "metadata": {},
          "execution_count": 15
        }
      ]
    },
    {
      "cell_type": "code",
      "source": [
        "stud.age"
      ],
      "metadata": {
        "colab": {
          "base_uri": "https://localhost:8080/"
        },
        "id": "9lz8r0EgZt7n",
        "outputId": "b1ff3f3a-a859-4207-bb51-c285f7ce1a7f"
      },
      "execution_count": 16,
      "outputs": [
        {
          "output_type": "execute_result",
          "data": {
            "text/plain": [
              "25"
            ]
          },
          "metadata": {},
          "execution_count": 16
        }
      ]
    },
    {
      "cell_type": "code",
      "source": [
        "stud2 = Student(\"Shivanand\",25)"
      ],
      "metadata": {
        "id": "So7S0yeJZ-sy"
      },
      "execution_count": 17,
      "outputs": []
    },
    {
      "cell_type": "code",
      "source": [
        "stud2.name"
      ],
      "metadata": {
        "colab": {
          "base_uri": "https://localhost:8080/",
          "height": 35
        },
        "id": "wWikdZfWaDeR",
        "outputId": "a14a342e-d625-420d-9347-0858c1fbbbd3"
      },
      "execution_count": 18,
      "outputs": [
        {
          "output_type": "execute_result",
          "data": {
            "text/plain": [
              "'Shivanand'"
            ],
            "application/vnd.google.colaboratory.intrinsic+json": {
              "type": "string"
            }
          },
          "metadata": {},
          "execution_count": 18
        }
      ]
    },
    {
      "cell_type": "code",
      "source": [
        "stud2.age"
      ],
      "metadata": {
        "colab": {
          "base_uri": "https://localhost:8080/"
        },
        "id": "0ULSLsy3bTSU",
        "outputId": "29e6a8de-ad13-4d70-a371-1dbdc9260e0c"
      },
      "execution_count": 19,
      "outputs": [
        {
          "output_type": "execute_result",
          "data": {
            "text/plain": [
              "25"
            ]
          },
          "metadata": {},
          "execution_count": 19
        }
      ]
    },
    {
      "cell_type": "code",
      "source": [
        "stud2.name = \"Ramesh\" ##trying to change the name i.e accessed outside the class\n",
        "\n",
        "stud2.name"
      ],
      "metadata": {
        "colab": {
          "base_uri": "https://localhost:8080/",
          "height": 35
        },
        "id": "-etNyF0jbWRx",
        "outputId": "85fd51b9-8ca1-4ff9-a167-5bf42d7302f3"
      },
      "execution_count": 21,
      "outputs": [
        {
          "output_type": "execute_result",
          "data": {
            "text/plain": [
              "'Ramesh'"
            ],
            "application/vnd.google.colaboratory.intrinsic+json": {
              "type": "string"
            }
          },
          "metadata": {},
          "execution_count": 21
        }
      ]
    },
    {
      "cell_type": "code",
      "source": [
        "# accessing the public data member inside the diff method within the same class\n",
        "\n",
        "class Student1():\n",
        "  def __init__(self, name, age):\n",
        "    self.name = name\n",
        "    self.age = age\n",
        "  def show(self):\n",
        "    print(\"Name:\", self.name, \"Age:\", self.age)"
      ],
      "metadata": {
        "id": "ZLQHX6ODd_Nq"
      },
      "execution_count": 28,
      "outputs": []
    },
    {
      "cell_type": "code",
      "source": [
        "Anusha = Student1(\"Anusha\",25)\n",
        "Anusha.show()"
      ],
      "metadata": {
        "colab": {
          "base_uri": "https://localhost:8080/"
        },
        "id": "EKeSucyPeiNw",
        "outputId": "1bf54f55-aab5-4177-dc12-32ff5c672f33"
      },
      "execution_count": 30,
      "outputs": [
        {
          "output_type": "stream",
          "name": "stdout",
          "text": [
            "Name: Anusha Age: 25\n"
          ]
        }
      ]
    },
    {
      "cell_type": "code",
      "source": [
        "# private - data and method is only accessible within its class\n",
        "# use __ to make private\n",
        "\n",
        "class Student1():\n",
        "  def __init__(self, name, age):\n",
        "    self.name = name\n",
        "    self.__age = age\n",
        "  def show(self):\n",
        "    print(\"Name:\", self.name, \"Age:\", self.__age)"
      ],
      "metadata": {
        "id": "KIwzeMD0bjx2"
      },
      "execution_count": 31,
      "outputs": []
    },
    {
      "cell_type": "code",
      "source": [
        "s = Student1(\"Shivanand\",25)"
      ],
      "metadata": {
        "id": "uC5u7cWSc1-v"
      },
      "execution_count": 32,
      "outputs": []
    },
    {
      "cell_type": "code",
      "source": [
        "s.name"
      ],
      "metadata": {
        "colab": {
          "base_uri": "https://localhost:8080/",
          "height": 35
        },
        "id": "EqpdxFRjf_wJ",
        "outputId": "acf874fe-0107-480c-b416-0591edb75d4e"
      },
      "execution_count": 33,
      "outputs": [
        {
          "output_type": "execute_result",
          "data": {
            "text/plain": [
              "'Shivanand'"
            ],
            "application/vnd.google.colaboratory.intrinsic+json": {
              "type": "string"
            }
          },
          "metadata": {},
          "execution_count": 33
        }
      ]
    },
    {
      "cell_type": "code",
      "source": [
        "s.show()"
      ],
      "metadata": {
        "colab": {
          "base_uri": "https://localhost:8080/"
        },
        "id": "esC7LIIqgDp9",
        "outputId": "d9bb0ef6-49d9-45d1-cd4a-81eab49e605e"
      },
      "execution_count": 35,
      "outputs": [
        {
          "output_type": "stream",
          "name": "stdout",
          "text": [
            "Name: Shivanand Age: 25\n"
          ]
        }
      ]
    },
    {
      "cell_type": "code",
      "source": [
        "#in the above example age is private variable so cant be accessed outside the class\n",
        "\n",
        "s1 = Student1(\"Shivanand\",25)\n",
        "s1.__age"
      ],
      "metadata": {
        "colab": {
          "base_uri": "https://localhost:8080/",
          "height": 180
        },
        "id": "qLwq3ZEvgIkN",
        "outputId": "460368a2-3506-44f4-9aad-569a1ee656cd"
      },
      "execution_count": 36,
      "outputs": [
        {
          "output_type": "error",
          "ename": "AttributeError",
          "evalue": "'Student1' object has no attribute '__age'",
          "traceback": [
            "\u001b[0;31m---------------------------------------------------------------------------\u001b[0m",
            "\u001b[0;31mAttributeError\u001b[0m                            Traceback (most recent call last)",
            "\u001b[0;32m<ipython-input-36-587e89131647>\u001b[0m in \u001b[0;36m<cell line: 4>\u001b[0;34m()\u001b[0m\n\u001b[1;32m      2\u001b[0m \u001b[0;34m\u001b[0m\u001b[0m\n\u001b[1;32m      3\u001b[0m \u001b[0ms1\u001b[0m \u001b[0;34m=\u001b[0m \u001b[0mStudent1\u001b[0m\u001b[0;34m(\u001b[0m\u001b[0;34m\"Shivanand\"\u001b[0m\u001b[0;34m,\u001b[0m\u001b[0;36m25\u001b[0m\u001b[0;34m)\u001b[0m\u001b[0;34m\u001b[0m\u001b[0;34m\u001b[0m\u001b[0m\n\u001b[0;32m----> 4\u001b[0;31m \u001b[0ms1\u001b[0m\u001b[0;34m.\u001b[0m\u001b[0m__age\u001b[0m\u001b[0;34m\u001b[0m\u001b[0;34m\u001b[0m\u001b[0m\n\u001b[0m",
            "\u001b[0;31mAttributeError\u001b[0m: 'Student1' object has no attribute '__age'"
          ]
        }
      ]
    },
    {
      "cell_type": "code",
      "source": [
        "# if we want to access use (underscore class name )\n",
        "s1._Student1__age"
      ],
      "metadata": {
        "colab": {
          "base_uri": "https://localhost:8080/"
        },
        "id": "HAEISObkhTJZ",
        "outputId": "35719dd6-7d52-4f67-a0dd-7c3c54671488"
      },
      "execution_count": 37,
      "outputs": [
        {
          "output_type": "execute_result",
          "data": {
            "text/plain": [
              "25"
            ]
          },
          "metadata": {},
          "execution_count": 37
        }
      ]
    },
    {
      "cell_type": "code",
      "source": [
        "# a method private\n",
        "class Student1():\n",
        "  def __init__(self, name, age):\n",
        "    self.name = name\n",
        "    self.age = age\n",
        "  def show(self):\n",
        "    print(\"Name:\", self.name, \"Age:\", self.age)\n",
        "\n",
        "  # Define __show as a method of the class\n",
        "  def __show(self):\n",
        "    print(\"this is a private method\")\n",
        "\n",
        "# Create an instance of the class\n",
        "s2 = Student1(\"Shivanand\",25)\n",
        "\n",
        "# Call the private method using name mangling\n",
        "s2._Student1__show()"
      ],
      "metadata": {
        "colab": {
          "base_uri": "https://localhost:8080/"
        },
        "id": "wUb3sRFXiFAV",
        "outputId": "07feddfb-52ec-4185-8790-55b900c342d4"
      },
      "execution_count": 51,
      "outputs": [
        {
          "output_type": "stream",
          "name": "stdout",
          "text": [
            "this is a private method\n"
          ]
        }
      ]
    },
    {
      "cell_type": "code",
      "source": [
        "#use case\n",
        "class Car:\n",
        "    def __init__(self, make, model, year):\n",
        "        self.make = make\n",
        "        self.model = model\n",
        "        self.year = year\n",
        "        self.__speed = 100"
      ],
      "metadata": {
        "id": "BO6VL2qGufdt"
      },
      "execution_count": 67,
      "outputs": []
    },
    {
      "cell_type": "code",
      "source": [
        "Car1 = Car(\"Toyota\", \"Camry\", 2022)\n"
      ],
      "metadata": {
        "id": "2NvGwTB5un_l"
      },
      "execution_count": 68,
      "outputs": []
    },
    {
      "cell_type": "code",
      "source": [
        "Car1.__speed"
      ],
      "metadata": {
        "colab": {
          "base_uri": "https://localhost:8080/",
          "height": 144
        },
        "id": "fjixTF1hvHWI",
        "outputId": "a4f0b443-4acc-44ab-c746-1999e8fd4370"
      },
      "execution_count": 70,
      "outputs": [
        {
          "output_type": "error",
          "ename": "AttributeError",
          "evalue": "'Car' object has no attribute '__speed'",
          "traceback": [
            "\u001b[0;31m---------------------------------------------------------------------------\u001b[0m",
            "\u001b[0;31mAttributeError\u001b[0m                            Traceback (most recent call last)",
            "\u001b[0;32m<ipython-input-70-5c2a30788766>\u001b[0m in \u001b[0;36m<cell line: 1>\u001b[0;34m()\u001b[0m\n\u001b[0;32m----> 1\u001b[0;31m \u001b[0mCar1\u001b[0m\u001b[0;34m.\u001b[0m\u001b[0m__speed\u001b[0m\u001b[0;34m\u001b[0m\u001b[0;34m\u001b[0m\u001b[0m\n\u001b[0m",
            "\u001b[0;31mAttributeError\u001b[0m: 'Car' object has no attribute '__speed'"
          ]
        }
      ]
    },
    {
      "cell_type": "code",
      "source": [
        "Car1._Car__speed # can be accessed using class name"
      ],
      "metadata": {
        "colab": {
          "base_uri": "https://localhost:8080/"
        },
        "id": "2jP6zrDpuuCD",
        "outputId": "c4790feb-e4d6-4f3b-d27d-0a07d9e8a438"
      },
      "execution_count": 69,
      "outputs": [
        {
          "output_type": "execute_result",
          "data": {
            "text/plain": [
              "100"
            ]
          },
          "metadata": {},
          "execution_count": 69
        }
      ]
    },
    {
      "cell_type": "code",
      "source": [
        "#real usecase\n",
        "\n",
        "class Bank:\n",
        "    def __init__(self,balance):\n",
        "        self.__balance = balance\n",
        "\n",
        "    def deposit(self, amount):\n",
        "        self.__balance += amount\n",
        "\n",
        "    def withdraw(self, amount):\n",
        "        if amount <= self.__balance:\n",
        "            self.__balance -= amount\n",
        "        else:\n",
        "            print(\"Insufficient balance\")\n",
        "\n",
        "    def get_balance(self):\n",
        "        return self.__balance"
      ],
      "metadata": {
        "id": "bfVQWHK-8CDW"
      },
      "execution_count": 74,
      "outputs": []
    }
  ]
}