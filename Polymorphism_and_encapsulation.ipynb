{
  "cells": [
    {
      "cell_type": "markdown",
      "metadata": {
        "id": "view-in-github",
        "colab_type": "text"
      },
      "source": [
        "<a href=\"https://colab.research.google.com/github/Shivauppe/Data_science_python/blob/main/Polymorphism_and_encapsulation.ipynb\" target=\"_parent\"><img src=\"https://colab.research.google.com/assets/colab-badge.svg\" alt=\"Open In Colab\"/></a>"
      ]
    },
    {
      "cell_type": "code",
      "execution_count": null,
      "metadata": {
        "id": "E2kk2cNIIb83"
      },
      "outputs": [],
      "source": [
        "# The word polymorphism means having many forms. In programming, polymorphism means the same function name (but different signatures) being used for different types. The key difference is the data types and number of arguments used in function."
      ]
    },
    {
      "cell_type": "code",
      "execution_count": null,
      "metadata": {
        "colab": {
          "base_uri": "https://localhost:8080/"
        },
        "id": "eyZYIvXpIvWC",
        "outputId": "ac9abbfd-59d9-4f89-cc8e-b7b689bb2d0d"
      },
      "outputs": [
        {
          "name": "stdout",
          "output_type": "stream",
          "text": [
            "5\n",
            "3\n"
          ]
        }
      ],
      "source": [
        "# len() being used for a string\n",
        "print(len(\"Pwskills\"))\n",
        "\n",
        "# len() being used for a list\n",
        "print(len([10, 20, 30]))"
      ]
    },
    {
      "cell_type": "code",
      "execution_count": null,
      "metadata": {
        "colab": {
          "base_uri": "https://localhost:8080/"
        },
        "id": "nDysPfNPJ2Zf",
        "outputId": "f4549135-aa9f-4338-fe62-df5eeead4987"
      },
      "outputs": [
        {
          "name": "stdout",
          "output_type": "stream",
          "text": [
            "5\n",
            "9\n"
          ]
        }
      ],
      "source": [
        "def add(x, y, z = 0):\n",
        "    return x + y + z\n",
        "\n",
        "# Driver code\n",
        "print(add(2, 3))\n",
        "print(add(2, 3, 4))"
      ]
    },
    {
      "cell_type": "code",
      "execution_count": null,
      "metadata": {
        "id": "Cj0iy3kOJ_Tn"
      },
      "outputs": [],
      "source": [
        "class teacher_lecture:\n",
        "  def lec_info(self):\n",
        "    print(\"This is lecture info with perspective on teacher\")\n",
        "class student_lecture:\n",
        "  def lec_info(self):\n",
        "    print(\"This is student info with perspective on teacher\")\n",
        "\n",
        "obj1 = teacher_lecture()\n",
        "obj2 = student_lecture()\n",
        "\n",
        "class_obj = [obj1, obj2]"
      ]
    },
    {
      "cell_type": "code",
      "execution_count": null,
      "metadata": {
        "id": "yoAFIMOEZu65"
      },
      "outputs": [],
      "source": [
        "def parser (class_obj):\n",
        "    for i in class_obj:\n",
        "      i.lec_info()\n"
      ]
    },
    {
      "cell_type": "code",
      "execution_count": null,
      "metadata": {
        "colab": {
          "base_uri": "https://localhost:8080/"
        },
        "id": "xso1xMhoaTvJ",
        "outputId": "4c316589-b3b4-4712-ddfc-da976cd1f5b4"
      },
      "outputs": [
        {
          "name": "stdout",
          "output_type": "stream",
          "text": [
            "This is lecture info with perspective on teacher\n",
            "This is student info with perspective on teacher\n"
          ]
        }
      ],
      "source": [
        "parser(class_obj)"
      ]
    },
    {
      "cell_type": "code",
      "execution_count": null,
      "metadata": {
        "id": "_q_88iufb9HA"
      },
      "outputs": [],
      "source": [
        "#method overloading!\n",
        "\n",
        "class StudentClass:\n",
        "  def student(self):\n",
        "    print(\"Welcome to PWSkills\")\n",
        "  def student(self, name = ''):\n",
        "    print(\"Welcome to PWSkills\", name)\n",
        "  def student(self, name = '', age = ''):\n",
        "    print(\"Welcome to PWSkills\", name , age)\n",
        "\n"
      ]
    },
    {
      "cell_type": "code",
      "execution_count": null,
      "metadata": {
        "colab": {
          "base_uri": "https://localhost:8080/"
        },
        "id": "KbZLyreUckT1",
        "outputId": "12bab9f3-1726-4902-efc3-43a83de5bb4c"
      },
      "outputs": [
        {
          "name": "stdout",
          "output_type": "stream",
          "text": [
            "Welcome to PWSkills  \n"
          ]
        }
      ],
      "source": [
        "StudentClass().student()"
      ]
    },
    {
      "cell_type": "code",
      "execution_count": null,
      "metadata": {
        "colab": {
          "base_uri": "https://localhost:8080/"
        },
        "id": "DcikOYYCgj-4",
        "outputId": "2d5bb226-babf-4b6a-85a1-7cd10d307037"
      },
      "outputs": [
        {
          "name": "stdout",
          "output_type": "stream",
          "text": [
            "Welcome to PWSkills Shivanand \n"
          ]
        }
      ],
      "source": [
        "StudentClass().student(\"Shivanand\")"
      ]
    },
    {
      "cell_type": "code",
      "execution_count": null,
      "metadata": {
        "colab": {
          "base_uri": "https://localhost:8080/"
        },
        "id": "R3GAWarggsBy",
        "outputId": "7c085c47-bd16-4022-bf68-c7933d35b4d0"
      },
      "outputs": [
        {
          "name": "stdout",
          "output_type": "stream",
          "text": [
            "Welcome to PWSkills Shivanand 28\n"
          ]
        }
      ],
      "source": [
        "StudentClass().student(\"Shivanand\",28)"
      ]
    },
    {
      "cell_type": "markdown",
      "metadata": {
        "id": "Zi1UUPJGR625"
      },
      "source": [
        "### ** Method overriding**"
      ]
    },
    {
      "cell_type": "code",
      "execution_count": null,
      "metadata": {
        "id": "c7t5V_meSGu0"
      },
      "outputs": [],
      "source": [
        "# method in parent class and child class with same signature , the child class will be executed\n",
        "\n",
        "class Animal:\n",
        "  def sound(self):\n",
        "    print(\"This is animal sound\")\n",
        "class Cat(Animal):\n",
        "  def sound(self):\n",
        "    print(\"This is Cat sound --- mew mew mew mew\")\n"
      ]
    },
    {
      "cell_type": "code",
      "execution_count": null,
      "metadata": {
        "colab": {
          "base_uri": "https://localhost:8080/"
        },
        "id": "z1PoFd7BWw5L",
        "outputId": "03f5e49e-a693-4844-c70c-224f15af6a10"
      },
      "outputs": [
        {
          "name": "stdout",
          "output_type": "stream",
          "text": [
            "This is animal sound\n"
          ]
        }
      ],
      "source": [
        "anm = Animal() # object for animal class is created\n",
        "anm.sound()"
      ]
    },
    {
      "cell_type": "code",
      "execution_count": null,
      "metadata": {
        "colab": {
          "base_uri": "https://localhost:8080/"
        },
        "id": "k0HJVFIKW8u7",
        "outputId": "0310db59-9aa0-49e8-9274-7a839f9d5880"
      },
      "outputs": [
        {
          "name": "stdout",
          "output_type": "stream",
          "text": [
            "This is Cat sound --- mew mew mew mew\n"
          ]
        }
      ],
      "source": [
        "cat1 = Cat() # object for cat class is created\n",
        "cat1.sound()"
      ]
    },
    {
      "cell_type": "markdown",
      "metadata": {
        "id": "wuAb2xcVXTtB"
      },
      "source": [
        "# Encapsulation. -- means hiding something(Hiding the implimentation)\n",
        "# <!-- bundling of method and class -->\n",
        "### Access modifier - Private/public and protected"
      ]
    },
    {
      "cell_type": "code",
      "execution_count": null,
      "metadata": {
        "id": "ylHHHvwIb1Dq"
      },
      "outputs": [],
      "source": [
        "# #public - accessible from anywhere , outside or inside the class"
      ]
    },
    {
      "cell_type": "code",
      "execution_count": null,
      "metadata": {
        "id": "N0CSa-91ZHnh"
      },
      "outputs": [],
      "source": [
        "class Student():\n",
        "  def __init__(self, name, age):\n",
        "    self.name = name\n",
        "    self.age = age"
      ]
    },
    {
      "cell_type": "code",
      "execution_count": null,
      "metadata": {
        "id": "lUImCC6yZSwi"
      },
      "outputs": [],
      "source": [
        "stud = Student(\"Ram\",25)"
      ]
    },
    {
      "cell_type": "code",
      "execution_count": null,
      "metadata": {
        "colab": {
          "base_uri": "https://localhost:8080/",
          "height": 35
        },
        "id": "s_oTvrl0ZqnO",
        "outputId": "7ddc1943-f986-4cfa-cd95-d5af07d011ba"
      },
      "outputs": [
        {
          "data": {
            "application/vnd.google.colaboratory.intrinsic+json": {
              "type": "string"
            },
            "text/plain": [
              "'Ram'"
            ]
          },
          "execution_count": 15,
          "metadata": {},
          "output_type": "execute_result"
        }
      ],
      "source": [
        "stud.name"
      ]
    },
    {
      "cell_type": "code",
      "execution_count": null,
      "metadata": {
        "colab": {
          "base_uri": "https://localhost:8080/"
        },
        "id": "9lz8r0EgZt7n",
        "outputId": "b1ff3f3a-a859-4207-bb51-c285f7ce1a7f"
      },
      "outputs": [
        {
          "data": {
            "text/plain": [
              "25"
            ]
          },
          "execution_count": 16,
          "metadata": {},
          "output_type": "execute_result"
        }
      ],
      "source": [
        "stud.age"
      ]
    },
    {
      "cell_type": "code",
      "execution_count": null,
      "metadata": {
        "id": "So7S0yeJZ-sy"
      },
      "outputs": [],
      "source": [
        "stud2 = Student(\"Shivanand\",25)"
      ]
    },
    {
      "cell_type": "code",
      "execution_count": null,
      "metadata": {
        "colab": {
          "base_uri": "https://localhost:8080/",
          "height": 35
        },
        "id": "wWikdZfWaDeR",
        "outputId": "a14a342e-d625-420d-9347-0858c1fbbbd3"
      },
      "outputs": [
        {
          "data": {
            "application/vnd.google.colaboratory.intrinsic+json": {
              "type": "string"
            },
            "text/plain": [
              "'Shivanand'"
            ]
          },
          "execution_count": 18,
          "metadata": {},
          "output_type": "execute_result"
        }
      ],
      "source": [
        "stud2.name"
      ]
    },
    {
      "cell_type": "code",
      "execution_count": null,
      "metadata": {
        "colab": {
          "base_uri": "https://localhost:8080/"
        },
        "id": "0ULSLsy3bTSU",
        "outputId": "29e6a8de-ad13-4d70-a371-1dbdc9260e0c"
      },
      "outputs": [
        {
          "data": {
            "text/plain": [
              "25"
            ]
          },
          "execution_count": 19,
          "metadata": {},
          "output_type": "execute_result"
        }
      ],
      "source": [
        "stud2.age"
      ]
    },
    {
      "cell_type": "code",
      "execution_count": null,
      "metadata": {
        "colab": {
          "base_uri": "https://localhost:8080/",
          "height": 35
        },
        "id": "-etNyF0jbWRx",
        "outputId": "85fd51b9-8ca1-4ff9-a167-5bf42d7302f3"
      },
      "outputs": [
        {
          "data": {
            "application/vnd.google.colaboratory.intrinsic+json": {
              "type": "string"
            },
            "text/plain": [
              "'Ramesh'"
            ]
          },
          "execution_count": 21,
          "metadata": {},
          "output_type": "execute_result"
        }
      ],
      "source": [
        "stud2.name = \"Ramesh\" ##trying to change the name i.e accessed outside the class\n",
        "\n",
        "stud2.name"
      ]
    },
    {
      "cell_type": "code",
      "execution_count": null,
      "metadata": {
        "id": "ZLQHX6ODd_Nq"
      },
      "outputs": [],
      "source": [
        "# accessing the public data member inside the diff method within the same class\n",
        "\n",
        "class Student1():\n",
        "  def __init__(self, name, age):\n",
        "    self.name = name\n",
        "    self.age = age\n",
        "  def show(self):\n",
        "    print(\"Name:\", self.name, \"Age:\", self.age)"
      ]
    },
    {
      "cell_type": "code",
      "execution_count": null,
      "metadata": {
        "colab": {
          "base_uri": "https://localhost:8080/"
        },
        "id": "EKeSucyPeiNw",
        "outputId": "1bf54f55-aab5-4177-dc12-32ff5c672f33"
      },
      "outputs": [
        {
          "name": "stdout",
          "output_type": "stream",
          "text": [
            "Name: Anusha Age: 25\n"
          ]
        }
      ],
      "source": [
        "Anusha = Student1(\"Anusha\",25)\n",
        "Anusha.show()"
      ]
    },
    {
      "cell_type": "code",
      "execution_count": null,
      "metadata": {
        "id": "KIwzeMD0bjx2"
      },
      "outputs": [],
      "source": [
        "# private - data and method is only accessible within its class\n",
        "# use __ to make private\n",
        "\n",
        "class Student1():\n",
        "  def __init__(self, name, age):\n",
        "    self.name = name\n",
        "    self.__age = age\n",
        "  def show(self):\n",
        "    print(\"Name:\", self.name, \"Age:\", self.__age)"
      ]
    },
    {
      "cell_type": "code",
      "execution_count": null,
      "metadata": {
        "id": "uC5u7cWSc1-v"
      },
      "outputs": [],
      "source": [
        "s = Student1(\"Shivanand\",25)"
      ]
    },
    {
      "cell_type": "code",
      "execution_count": null,
      "metadata": {
        "colab": {
          "base_uri": "https://localhost:8080/",
          "height": 35
        },
        "id": "EqpdxFRjf_wJ",
        "outputId": "acf874fe-0107-480c-b416-0591edb75d4e"
      },
      "outputs": [
        {
          "data": {
            "application/vnd.google.colaboratory.intrinsic+json": {
              "type": "string"
            },
            "text/plain": [
              "'Shivanand'"
            ]
          },
          "execution_count": 33,
          "metadata": {},
          "output_type": "execute_result"
        }
      ],
      "source": [
        "s.name"
      ]
    },
    {
      "cell_type": "code",
      "execution_count": null,
      "metadata": {
        "colab": {
          "base_uri": "https://localhost:8080/"
        },
        "id": "esC7LIIqgDp9",
        "outputId": "d9bb0ef6-49d9-45d1-cd4a-81eab49e605e"
      },
      "outputs": [
        {
          "name": "stdout",
          "output_type": "stream",
          "text": [
            "Name: Shivanand Age: 25\n"
          ]
        }
      ],
      "source": [
        "s.show()"
      ]
    },
    {
      "cell_type": "code",
      "execution_count": null,
      "metadata": {
        "colab": {
          "base_uri": "https://localhost:8080/",
          "height": 180
        },
        "id": "qLwq3ZEvgIkN",
        "outputId": "460368a2-3506-44f4-9aad-569a1ee656cd"
      },
      "outputs": [
        {
          "ename": "AttributeError",
          "evalue": "'Student1' object has no attribute '__age'",
          "output_type": "error",
          "traceback": [
            "\u001b[0;31m---------------------------------------------------------------------------\u001b[0m",
            "\u001b[0;31mAttributeError\u001b[0m                            Traceback (most recent call last)",
            "\u001b[0;32m<ipython-input-36-587e89131647>\u001b[0m in \u001b[0;36m<cell line: 4>\u001b[0;34m()\u001b[0m\n\u001b[1;32m      2\u001b[0m \u001b[0;34m\u001b[0m\u001b[0m\n\u001b[1;32m      3\u001b[0m \u001b[0ms1\u001b[0m \u001b[0;34m=\u001b[0m \u001b[0mStudent1\u001b[0m\u001b[0;34m(\u001b[0m\u001b[0;34m\"Shivanand\"\u001b[0m\u001b[0;34m,\u001b[0m\u001b[0;36m25\u001b[0m\u001b[0;34m)\u001b[0m\u001b[0;34m\u001b[0m\u001b[0;34m\u001b[0m\u001b[0m\n\u001b[0;32m----> 4\u001b[0;31m \u001b[0ms1\u001b[0m\u001b[0;34m.\u001b[0m\u001b[0m__age\u001b[0m\u001b[0;34m\u001b[0m\u001b[0;34m\u001b[0m\u001b[0m\n\u001b[0m",
            "\u001b[0;31mAttributeError\u001b[0m: 'Student1' object has no attribute '__age'"
          ]
        }
      ],
      "source": [
        "#in the above example age is private variable so cant be accessed outside the class\n",
        "\n",
        "s1 = Student1(\"Shivanand\",25)\n",
        "s1.__age"
      ]
    },
    {
      "cell_type": "code",
      "execution_count": null,
      "metadata": {
        "colab": {
          "base_uri": "https://localhost:8080/"
        },
        "id": "HAEISObkhTJZ",
        "outputId": "35719dd6-7d52-4f67-a0dd-7c3c54671488"
      },
      "outputs": [
        {
          "data": {
            "text/plain": [
              "25"
            ]
          },
          "execution_count": 37,
          "metadata": {},
          "output_type": "execute_result"
        }
      ],
      "source": [
        "# if we want to access use (underscore class name )\n",
        "s1._Student1__age"
      ]
    },
    {
      "cell_type": "code",
      "execution_count": null,
      "metadata": {
        "colab": {
          "base_uri": "https://localhost:8080/"
        },
        "id": "wUb3sRFXiFAV",
        "outputId": "07feddfb-52ec-4185-8790-55b900c342d4"
      },
      "outputs": [
        {
          "name": "stdout",
          "output_type": "stream",
          "text": [
            "this is a private method\n"
          ]
        }
      ],
      "source": [
        "# a method private\n",
        "class Student1():\n",
        "  def __init__(self, name, age):\n",
        "    self.name = name\n",
        "    self.age = age\n",
        "  def show(self):\n",
        "    print(\"Name:\", self.name, \"Age:\", self.age)\n",
        "\n",
        "  # Define __show as a method of the class\n",
        "  def __show(self):\n",
        "    print(\"this is a private method\")\n",
        "\n",
        "# Create an instance of the class\n",
        "s2 = Student1(\"Shivanand\",25)\n",
        "\n",
        "# Call the private method using name mangling\n",
        "s2._Student1__show()"
      ]
    },
    {
      "cell_type": "code",
      "execution_count": null,
      "metadata": {
        "id": "BO6VL2qGufdt"
      },
      "outputs": [],
      "source": [
        "#use case\n",
        "class Car:\n",
        "    def __init__(self, make, model, year):\n",
        "        self.make = make\n",
        "        self.model = model\n",
        "        self.year = year\n",
        "        self.__speed = 100"
      ]
    },
    {
      "cell_type": "code",
      "execution_count": null,
      "metadata": {
        "id": "2NvGwTB5un_l"
      },
      "outputs": [],
      "source": [
        "Car1 = Car(\"Toyota\", \"Camry\", 2022)\n"
      ]
    },
    {
      "cell_type": "code",
      "execution_count": null,
      "metadata": {
        "colab": {
          "base_uri": "https://localhost:8080/",
          "height": 144
        },
        "id": "fjixTF1hvHWI",
        "outputId": "a4f0b443-4acc-44ab-c746-1999e8fd4370"
      },
      "outputs": [
        {
          "ename": "AttributeError",
          "evalue": "'Car' object has no attribute '__speed'",
          "output_type": "error",
          "traceback": [
            "\u001b[0;31m---------------------------------------------------------------------------\u001b[0m",
            "\u001b[0;31mAttributeError\u001b[0m                            Traceback (most recent call last)",
            "\u001b[0;32m<ipython-input-70-5c2a30788766>\u001b[0m in \u001b[0;36m<cell line: 1>\u001b[0;34m()\u001b[0m\n\u001b[0;32m----> 1\u001b[0;31m \u001b[0mCar1\u001b[0m\u001b[0;34m.\u001b[0m\u001b[0m__speed\u001b[0m\u001b[0;34m\u001b[0m\u001b[0;34m\u001b[0m\u001b[0m\n\u001b[0m",
            "\u001b[0;31mAttributeError\u001b[0m: 'Car' object has no attribute '__speed'"
          ]
        }
      ],
      "source": [
        "Car1.__speed"
      ]
    },
    {
      "cell_type": "code",
      "execution_count": null,
      "metadata": {
        "colab": {
          "base_uri": "https://localhost:8080/"
        },
        "id": "2jP6zrDpuuCD",
        "outputId": "c4790feb-e4d6-4f3b-d27d-0a07d9e8a438"
      },
      "outputs": [
        {
          "data": {
            "text/plain": [
              "100"
            ]
          },
          "execution_count": 69,
          "metadata": {},
          "output_type": "execute_result"
        }
      ],
      "source": [
        "Car1._Car__speed # can be accessed using class name"
      ]
    },
    {
      "cell_type": "code",
      "execution_count": 76,
      "metadata": {
        "id": "bfVQWHK-8CDW"
      },
      "outputs": [],
      "source": [
        "#real usecase\n",
        "\n",
        "class Bank:\n",
        "    def __init__(self,balance):\n",
        "        self.__balance = balance\n",
        "\n",
        "    def deposit(self, amount):\n",
        "        self.__balance += amount\n",
        "\n",
        "    def withdraw(self, amount):\n",
        "        if amount <= self.__balance:\n",
        "            self.__balance -= amount\n",
        "            print(\"Withdraw successful\")\n",
        "        else:\n",
        "            print(\"Insufficient balance\")\n",
        "\n",
        "    def get_balance(self):\n",
        "        return self.__balance\n",
        ""
      ]
    },
    {
      "cell_type": "code",
      "source": [
        "acc1 = Bank(1000)"
      ],
      "metadata": {
        "id": "vd638LAD9W5U"
      },
      "execution_count": 77,
      "outputs": []
    },
    {
      "cell_type": "code",
      "source": [
        "acc1.get_balance()"
      ],
      "metadata": {
        "colab": {
          "base_uri": "https://localhost:8080/"
        },
        "id": "qUsC0xcp9cSo",
        "outputId": "570bba27-6102-449e-c8e2-685ff824f31b"
      },
      "execution_count": 78,
      "outputs": [
        {
          "output_type": "execute_result",
          "data": {
            "text/plain": [
              "1000"
            ]
          },
          "metadata": {},
          "execution_count": 78
        }
      ]
    },
    {
      "cell_type": "code",
      "source": [
        "acc1.deposit(1000)"
      ],
      "metadata": {
        "id": "fLYd5oUB9e50"
      },
      "execution_count": 80,
      "outputs": []
    },
    {
      "cell_type": "code",
      "source": [
        "acc1.get_balance()"
      ],
      "metadata": {
        "colab": {
          "base_uri": "https://localhost:8080/"
        },
        "id": "YfZUYyMR9hnj",
        "outputId": "0757042b-d875-49bc-9dcc-d92c95c8f3e7"
      },
      "execution_count": 81,
      "outputs": [
        {
          "output_type": "execute_result",
          "data": {
            "text/plain": [
              "2000"
            ]
          },
          "metadata": {},
          "execution_count": 81
        }
      ]
    },
    {
      "cell_type": "code",
      "source": [
        "acc1.withdraw(500)"
      ],
      "metadata": {
        "id": "aQl8ghuu9oaA"
      },
      "execution_count": 83,
      "outputs": []
    },
    {
      "cell_type": "code",
      "source": [
        "acc1.get_balance()"
      ],
      "metadata": {
        "colab": {
          "base_uri": "https://localhost:8080/"
        },
        "id": "2yNf5n6a9rgm",
        "outputId": "07566df2-626f-4d42-cb09-c30004953e3b"
      },
      "execution_count": 85,
      "outputs": [
        {
          "output_type": "execute_result",
          "data": {
            "text/plain": [
              "1000"
            ]
          },
          "metadata": {},
          "execution_count": 85
        }
      ]
    },
    {
      "cell_type": "code",
      "source": [
        "acc1.withdraw(5000)"
      ],
      "metadata": {
        "colab": {
          "base_uri": "https://localhost:8080/"
        },
        "id": "thfTr_FZ92sg",
        "outputId": "12ce629c-623c-4522-fc71-c434eb9d5882"
      },
      "execution_count": 86,
      "outputs": [
        {
          "output_type": "stream",
          "name": "stdout",
          "text": [
            "Insufficient balance\n"
          ]
        }
      ]
    }
  ],
  "metadata": {
    "colab": {
      "provenance": [],
      "authorship_tag": "ABX9TyPq2UbZiS/b84tBg78AqQsq",
      "include_colab_link": true
    },
    "kernelspec": {
      "display_name": "Python 3",
      "name": "python3"
    },
    "language_info": {
      "name": "python"
    }
  },
  "nbformat": 4,
  "nbformat_minor": 0
}