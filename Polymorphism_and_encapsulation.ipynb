{
  "nbformat": 4,
  "nbformat_minor": 0,
  "metadata": {
    "colab": {
      "provenance": [],
      "authorship_tag": "ABX9TyNWP6uX8woCJ66JSf7rLeHU",
      "include_colab_link": true
    },
    "kernelspec": {
      "name": "python3",
      "display_name": "Python 3"
    },
    "language_info": {
      "name": "python"
    }
  },
  "cells": [
    {
      "cell_type": "markdown",
      "metadata": {
        "id": "view-in-github",
        "colab_type": "text"
      },
      "source": [
        "<a href=\"https://colab.research.google.com/github/Shivauppe/Data_science_python/blob/main/Polymorphism_and_encapsulation.ipynb\" target=\"_parent\"><img src=\"https://colab.research.google.com/assets/colab-badge.svg\" alt=\"Open In Colab\"/></a>"
      ]
    },
    {
      "cell_type": "code",
      "execution_count": 1,
      "metadata": {
        "id": "E2kk2cNIIb83"
      },
      "outputs": [],
      "source": [
        "# The word polymorphism means having many forms. In programming, polymorphism means the same function name (but different signatures) being used for different types. The key difference is the data types and number of arguments used in function."
      ]
    },
    {
      "cell_type": "code",
      "source": [
        "# len() being used for a string\n",
        "print(len(\"Pwskills\"))\n",
        "\n",
        "# len() being used for a list\n",
        "print(len([10, 20, 30]))"
      ],
      "metadata": {
        "colab": {
          "base_uri": "https://localhost:8080/"
        },
        "id": "eyZYIvXpIvWC",
        "outputId": "ac9abbfd-59d9-4f89-cc8e-b7b689bb2d0d"
      },
      "execution_count": 2,
      "outputs": [
        {
          "output_type": "stream",
          "name": "stdout",
          "text": [
            "5\n",
            "3\n"
          ]
        }
      ]
    },
    {
      "cell_type": "code",
      "source": [
        "def add(x, y, z = 0):\n",
        "    return x + y + z\n",
        "\n",
        "# Driver code\n",
        "print(add(2, 3))\n",
        "print(add(2, 3, 4))"
      ],
      "metadata": {
        "colab": {
          "base_uri": "https://localhost:8080/"
        },
        "id": "nDysPfNPJ2Zf",
        "outputId": "f4549135-aa9f-4338-fe62-df5eeead4987"
      },
      "execution_count": 3,
      "outputs": [
        {
          "output_type": "stream",
          "name": "stdout",
          "text": [
            "5\n",
            "9\n"
          ]
        }
      ]
    },
    {
      "cell_type": "code",
      "source": [
        "class teacher_lecture:\n",
        "  def lec_info(self):\n",
        "    print(\"This is lecture info with perspective on teacher\")\n",
        "class student_lecture:\n",
        "  def lec_info(self):\n",
        "    print(\"This is student info with perspective on teacher\")\n",
        "\n",
        "obj1 = teacher_lecture()\n",
        "obj2 = student_lecture()\n",
        "\n",
        "class_obj = [obj1, obj2]"
      ],
      "metadata": {
        "id": "Cj0iy3kOJ_Tn"
      },
      "execution_count": 17,
      "outputs": []
    },
    {
      "cell_type": "code",
      "source": [
        "def parser (class_obj):\n",
        "    for i in class_obj:\n",
        "      i.lec_info()\n"
      ],
      "metadata": {
        "id": "yoAFIMOEZu65"
      },
      "execution_count": 18,
      "outputs": []
    },
    {
      "cell_type": "code",
      "source": [
        "parser(class_obj)"
      ],
      "metadata": {
        "colab": {
          "base_uri": "https://localhost:8080/"
        },
        "id": "xso1xMhoaTvJ",
        "outputId": "4c316589-b3b4-4712-ddfc-da976cd1f5b4"
      },
      "execution_count": 19,
      "outputs": [
        {
          "output_type": "stream",
          "name": "stdout",
          "text": [
            "This is lecture info with perspective on teacher\n",
            "This is student info with perspective on teacher\n"
          ]
        }
      ]
    },
    {
      "cell_type": "code",
      "source": [
        "#method overloading!\n",
        "\n",
        "class StudentClass:\n",
        "  def student(self):\n",
        "    print(\"Welcome to PWSkills\")\n",
        "  def student(self, name = ''):\n",
        "    print(\"Welcome to PWSkills\", name)\n",
        "  def student(self, name = '', age = ''):\n",
        "    print(\"Welcome to PWSkills\", name , age)\n",
        "\n"
      ],
      "metadata": {
        "id": "_q_88iufb9HA"
      },
      "execution_count": 35,
      "outputs": []
    },
    {
      "cell_type": "code",
      "source": [
        "StudentClass().student()"
      ],
      "metadata": {
        "colab": {
          "base_uri": "https://localhost:8080/"
        },
        "id": "KbZLyreUckT1",
        "outputId": "dcb68c3b-2a3a-42f6-fd41-340201cae034"
      },
      "execution_count": 36,
      "outputs": [
        {
          "output_type": "stream",
          "name": "stdout",
          "text": [
            "Welcome to PWSkills  \n"
          ]
        }
      ]
    }
  ]
}