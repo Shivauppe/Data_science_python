{
  "nbformat": 4,
  "nbformat_minor": 0,
  "metadata": {
    "colab": {
      "provenance": []
    },
    "kernelspec": {
      "name": "python3",
      "display_name": "Python 3"
    },
    "language_info": {
      "name": "python"
    }
  },
  "cells": [
    {
      "cell_type": "code",
      "execution_count": null,
      "metadata": {
        "id": "2abbEkpe8KVJ"
      },
      "outputs": [],
      "source": []
    },
    {
      "cell_type": "markdown",
      "source": [
        "**Data Structure is a way of organising and storing the Data so that it can be accessed and manipulated effectively**"
      ],
      "metadata": {
        "id": "Ca1or8Qv8WHw"
      }
    },
    {
      "cell_type": "code",
      "source": [
        "a = \"Shivanand\"\n",
        "type(a)"
      ],
      "metadata": {
        "colab": {
          "base_uri": "https://localhost:8080/"
        },
        "id": "4_0HSldj8e3Y",
        "outputId": "6dadaa16-7ab6-4087-8b4a-b4e726e5c051"
      },
      "execution_count": 1,
      "outputs": [
        {
          "output_type": "execute_result",
          "data": {
            "text/plain": [
              "str"
            ]
          },
          "metadata": {},
          "execution_count": 1
        }
      ]
    }
  ]
}