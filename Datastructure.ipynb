{
  "nbformat": 4,
  "nbformat_minor": 0,
  "metadata": {
    "colab": {
      "provenance": [],
      "authorship_tag": "ABX9TyM/6TY2S6ZatHD6+YMNu6be",
      "include_colab_link": true
    },
    "kernelspec": {
      "name": "python3",
      "display_name": "Python 3"
    },
    "language_info": {
      "name": "python"
    }
  },
  "cells": [
    {
      "cell_type": "markdown",
      "metadata": {
        "id": "view-in-github",
        "colab_type": "text"
      },
      "source": [
        "<a href=\"https://colab.research.google.com/github/Shivauppe/Data_science_python/blob/main/Datastructure.ipynb\" target=\"_parent\"><img src=\"https://colab.research.google.com/assets/colab-badge.svg\" alt=\"Open In Colab\"/></a>"
      ]
    },
    {
      "cell_type": "code",
      "execution_count": null,
      "metadata": {
        "id": "2abbEkpe8KVJ"
      },
      "outputs": [],
      "source": []
    },
    {
      "cell_type": "markdown",
      "source": [
        "**Data Structure is a way of organising and storing the Data so that it can be accessed and manipulated effectively**"
      ],
      "metadata": {
        "id": "Ca1or8Qv8WHw"
      }
    },
    {
      "cell_type": "code",
      "source": [
        "a = \"Shivanand\"\n",
        "type(a)"
      ],
      "metadata": {
        "colab": {
          "base_uri": "https://localhost:8080/"
        },
        "id": "4_0HSldj8e3Y",
        "outputId": "6dadaa16-7ab6-4087-8b4a-b4e726e5c051"
      },
      "execution_count": null,
      "outputs": [
        {
          "output_type": "execute_result",
          "data": {
            "text/plain": [
              "str"
            ]
          },
          "metadata": {},
          "execution_count": 1
        }
      ]
    },
    {
      "cell_type": "markdown",
      "source": [
        "list, Dictionary,Set, tuples,Array\n"
      ],
      "metadata": {
        "id": "zxBo66ladQoi"
      }
    },
    {
      "cell_type": "code",
      "source": [
        "#List\n",
        "\n",
        "A = [1,2,3,-4,0,\"Shivanand\"]\n",
        "\n",
        "A[0]"
      ],
      "metadata": {
        "colab": {
          "base_uri": "https://localhost:8080/"
        },
        "id": "NbuDy9xGd0Qi",
        "outputId": "503a6294-3354-4a90-b8e0-2883d4b190f6"
      },
      "execution_count": null,
      "outputs": [
        {
          "output_type": "execute_result",
          "data": {
            "text/plain": [
              "1"
            ]
          },
          "metadata": {},
          "execution_count": 5
        }
      ]
    },
    {
      "cell_type": "code",
      "source": [
        "#List is mutable\n",
        "\n",
        "A[1] = 5\n",
        "A"
      ],
      "metadata": {
        "colab": {
          "base_uri": "https://localhost:8080/"
        },
        "id": "2HusoC-keIaZ",
        "outputId": "37a8f32a-1d0f-4edc-9e33-36ef682eee45"
      },
      "execution_count": null,
      "outputs": [
        {
          "output_type": "execute_result",
          "data": {
            "text/plain": [
              "[1, 5, 3, -4, 0, 'Shivanand']"
            ]
          },
          "metadata": {},
          "execution_count": 6
        }
      ]
    },
    {
      "cell_type": "code",
      "source": [
        "#Adding one more item to the list\n",
        "\n",
        "A.append(\"Shivanand\")\n",
        "# A.remove(\"Shivanand\")\n",
        "A"
      ],
      "metadata": {
        "colab": {
          "base_uri": "https://localhost:8080/"
        },
        "id": "lf9xpUb_xcXh",
        "outputId": "3676c1b1-3a41-46ca-9025-28962be79428"
      },
      "execution_count": null,
      "outputs": [
        {
          "output_type": "execute_result",
          "data": {
            "text/plain": [
              "[1, 5, 3, -4, 0, 'Shivanand']"
            ]
          },
          "metadata": {},
          "execution_count": 23
        }
      ]
    },
    {
      "cell_type": "code",
      "source": [
        "#remove item from list\n",
        "\n",
        "A.remove(\"Shivanand\")\n",
        "A"
      ],
      "metadata": {
        "colab": {
          "base_uri": "https://localhost:8080/"
        },
        "id": "OZme4EK1Hn4K",
        "outputId": "e67783ed-3617-4dc7-b6c4-5950c2bdb8a2"
      },
      "execution_count": null,
      "outputs": [
        {
          "output_type": "execute_result",
          "data": {
            "text/plain": [
              "[1, 5, 3, -4, 0]"
            ]
          },
          "metadata": {},
          "execution_count": 24
        }
      ]
    },
    {
      "cell_type": "code",
      "source": [
        "B = [(1,2,3),(4,5,6),(7,8,9),(10,11,12)]\n",
        "\n",
        "# B.append(12) #adds the item at the end of list\n",
        "# B.remove(12) # removes the specified item\n",
        "B.reverse() # reverses the order from last to first\n",
        "B\n"
      ],
      "metadata": {
        "colab": {
          "base_uri": "https://localhost:8080/"
        },
        "id": "QM3sP0YrHxFQ",
        "outputId": "3bf5bdbe-b3a6-403f-80ac-0c7ba019b344"
      },
      "execution_count": null,
      "outputs": [
        {
          "output_type": "execute_result",
          "data": {
            "text/plain": [
              "[(10, 11, 12), (7, 8, 9), (4, 5, 6), (1, 2, 3)]"
            ]
          },
          "metadata": {},
          "execution_count": 30
        }
      ]
    },
    {
      "cell_type": "code",
      "source": [
        "B[1:3] #Including 1st Index and excluding 3 Index"
      ],
      "metadata": {
        "colab": {
          "base_uri": "https://localhost:8080/"
        },
        "id": "vEznqZZfItRq",
        "outputId": "91aeab99-b028-4322-87e8-ec22d80a23c2"
      },
      "execution_count": null,
      "outputs": [
        {
          "output_type": "execute_result",
          "data": {
            "text/plain": [
              "[(7, 8, 9), (4, 5, 6)]"
            ]
          },
          "metadata": {},
          "execution_count": 35
        }
      ]
    },
    {
      "cell_type": "code",
      "source": [
        "B[0][2] #accesing the 2d array"
      ],
      "metadata": {
        "colab": {
          "base_uri": "https://localhost:8080/"
        },
        "id": "J-q04dbFJJUK",
        "outputId": "0bfc899f-c8db-4e2f-b247-4113040472a4"
      },
      "execution_count": null,
      "outputs": [
        {
          "output_type": "execute_result",
          "data": {
            "text/plain": [
              "12"
            ]
          },
          "metadata": {},
          "execution_count": 36
        }
      ]
    },
    {
      "cell_type": "code",
      "source": [
        "list_shopping = ['Apple','Samsung','Oppo','Oneplus']\n",
        "for item in list_shopping:\n",
        "  print(item, end = \" \")"
      ],
      "metadata": {
        "colab": {
          "base_uri": "https://localhost:8080/"
        },
        "id": "6fQFgC1NJnnI",
        "outputId": "1e51b8df-05f3-4f0d-c7a6-c5e2fcff8cac"
      },
      "execution_count": null,
      "outputs": [
        {
          "output_type": "stream",
          "name": "stdout",
          "text": [
            "Apple Samsung Oppo Oneplus "
          ]
        }
      ]
    },
    {
      "cell_type": "code",
      "source": [
        "##############################################################################\n",
        "#Tuple#\n",
        "##############################################################################\n",
        "\n",
        "point= (2,3)\n",
        "# point\n",
        "type(point)"
      ],
      "metadata": {
        "colab": {
          "base_uri": "https://localhost:8080/"
        },
        "id": "9xmGoaBnKFUO",
        "outputId": "b5f7caa9-46a6-4bf9-d06a-2d83e212ee8a"
      },
      "execution_count": null,
      "outputs": [
        {
          "output_type": "execute_result",
          "data": {
            "text/plain": [
              "tuple"
            ]
          },
          "metadata": {},
          "execution_count": 41
        }
      ]
    },
    {
      "cell_type": "code",
      "source": [
        "#tuple real time examples\n",
        "tup = (1,2,3,4,5)\n",
        "tup"
      ],
      "metadata": {
        "id": "Z_mx901JLEbC",
        "colab": {
          "base_uri": "https://localhost:8080/"
        },
        "outputId": "41603384-3db3-409f-938c-0b15b533f848"
      },
      "execution_count": null,
      "outputs": [
        {
          "output_type": "execute_result",
          "data": {
            "text/plain": [
              "(1, 2, 3, 4, 5)"
            ]
          },
          "metadata": {},
          "execution_count": 1
        }
      ]
    },
    {
      "cell_type": "code",
      "source": [
        "#Can store heterogeneous Data in Tuple\n",
        "\n",
        "a = ('shivanand',1+2j,2.3)\n",
        "a"
      ],
      "metadata": {
        "colab": {
          "base_uri": "https://localhost:8080/"
        },
        "id": "eJqVbelnq1mQ",
        "outputId": "7decd25c-1cab-442c-a0a1-f2197e265f0d"
      },
      "execution_count": null,
      "outputs": [
        {
          "output_type": "execute_result",
          "data": {
            "text/plain": [
              "('shivanand', (1+2j), 2.3)"
            ]
          },
          "metadata": {},
          "execution_count": 3
        }
      ]
    },
    {
      "cell_type": "code",
      "source": [
        "#tuple can be access but cant be altered.\n",
        "a[0]"
      ],
      "metadata": {
        "colab": {
          "base_uri": "https://localhost:8080/",
          "height": 35
        },
        "id": "vV_AKTXFrCSm",
        "outputId": "d1f06ed4-4683-4d13-f7bf-36631f634c0d"
      },
      "execution_count": null,
      "outputs": [
        {
          "output_type": "execute_result",
          "data": {
            "text/plain": [
              "'shivanand'"
            ],
            "application/vnd.google.colaboratory.intrinsic+json": {
              "type": "string"
            }
          },
          "metadata": {},
          "execution_count": 6
        }
      ]
    },
    {
      "cell_type": "code",
      "source": [
        "#type of a\n",
        "\n",
        "type(a)"
      ],
      "metadata": {
        "colab": {
          "base_uri": "https://localhost:8080/"
        },
        "id": "OCVhdxCbrcDp",
        "outputId": "202cedd2-65a7-48c5-ef35-21b3abbc263e"
      },
      "execution_count": null,
      "outputs": [
        {
          "output_type": "execute_result",
          "data": {
            "text/plain": [
              "tuple"
            ]
          },
          "metadata": {},
          "execution_count": 7
        }
      ]
    },
    {
      "cell_type": "code",
      "source": [
        "#tuples are immutable\n",
        "a[0] = 'Shivanand1'\n",
        "a"
      ],
      "metadata": {
        "colab": {
          "base_uri": "https://localhost:8080/",
          "height": 176
        },
        "id": "1HVPbeGAroNO",
        "outputId": "b1aaa6d6-ad16-4ce6-b7f4-cdd9eb5b72d3"
      },
      "execution_count": null,
      "outputs": [
        {
          "output_type": "error",
          "ename": "TypeError",
          "evalue": "'tuple' object does not support item assignment",
          "traceback": [
            "\u001b[0;31m---------------------------------------------------------------------------\u001b[0m",
            "\u001b[0;31mTypeError\u001b[0m                                 Traceback (most recent call last)",
            "\u001b[0;32m<ipython-input-8-8781961534a1>\u001b[0m in \u001b[0;36m<cell line: 2>\u001b[0;34m()\u001b[0m\n\u001b[1;32m      1\u001b[0m \u001b[0;31m#tuples are immutable\u001b[0m\u001b[0;34m\u001b[0m\u001b[0;34m\u001b[0m\u001b[0m\n\u001b[0;32m----> 2\u001b[0;31m \u001b[0ma\u001b[0m\u001b[0;34m[\u001b[0m\u001b[0;36m0\u001b[0m\u001b[0;34m]\u001b[0m \u001b[0;34m=\u001b[0m \u001b[0;34m'Shivanand1'\u001b[0m\u001b[0;34m\u001b[0m\u001b[0;34m\u001b[0m\u001b[0m\n\u001b[0m\u001b[1;32m      3\u001b[0m \u001b[0ma\u001b[0m\u001b[0;34m\u001b[0m\u001b[0;34m\u001b[0m\u001b[0m\n",
            "\u001b[0;31mTypeError\u001b[0m: 'tuple' object does not support item assignment"
          ]
        }
      ]
    },
    {
      "cell_type": "code",
      "source": [
        "#multiple tuples\n",
        "A = (9,10,11,12)\n",
        "B = (13,14,15,16)\n",
        "C = (A,B)\n",
        "# C\n",
        "# A + (B)\n",
        "\n",
        "for i1 in C:\n",
        "    print(i1,end = \" \")\n"
      ],
      "metadata": {
        "colab": {
          "base_uri": "https://localhost:8080/"
        },
        "id": "CRaNDuEjrxL2",
        "outputId": "c95332df-3738-479c-b7a2-43209992eb56"
      },
      "execution_count": null,
      "outputs": [
        {
          "output_type": "stream",
          "name": "stdout",
          "text": [
            "(9, 10, 11, 12) (13, 14, 15, 16) "
          ]
        }
      ]
    },
    {
      "cell_type": "markdown",
      "source": [
        "### **Set is unordered collection of unique elements**"
      ],
      "metadata": {
        "id": "KauGOq_PtSlI"
      }
    },
    {
      "cell_type": "code",
      "source": [
        "s = {1,2,'Shivanand',1.2,1+2j}\n",
        "# s\n",
        "type(s)"
      ],
      "metadata": {
        "colab": {
          "base_uri": "https://localhost:8080/"
        },
        "id": "Xl27TEqptcE3",
        "outputId": "14c28b00-9136-43b3-defb-0f8870fbc0ec"
      },
      "execution_count": null,
      "outputs": [
        {
          "output_type": "execute_result",
          "data": {
            "text/plain": [
              "set"
            ]
          },
          "metadata": {},
          "execution_count": 20
        }
      ]
    },
    {
      "cell_type": "code",
      "source": [
        "#Sets are non indexable\n",
        "\n",
        "S = {1,2,2,2,2,3,3,3,3,3,3,4,5,6}\n",
        "# S[0] -- throws error\n",
        "S\n"
      ],
      "metadata": {
        "colab": {
          "base_uri": "https://localhost:8080/"
        },
        "id": "aZA1hzUCuZjI",
        "outputId": "0833f413-636c-432a-c1cf-64a1830f7005"
      },
      "execution_count": null,
      "outputs": [
        {
          "output_type": "execute_result",
          "data": {
            "text/plain": [
              "{1, 2, 3, 4, 5, 6}"
            ]
          },
          "metadata": {},
          "execution_count": 21
        }
      ]
    },
    {
      "cell_type": "code",
      "source": [
        "#in SET Syou can add elements and remove elements - it makes Immutable\n",
        "\n",
        "#use case - get the unique elements\n",
        "\n",
        "# S.add(7)\n",
        "S.remove(7)\n",
        "S"
      ],
      "metadata": {
        "colab": {
          "base_uri": "https://localhost:8080/"
        },
        "id": "TPvwphh7u82o",
        "outputId": "b4868cd2-fa4b-44ff-d135-410bd1a46d7e"
      },
      "execution_count": null,
      "outputs": [
        {
          "output_type": "execute_result",
          "data": {
            "text/plain": [
              "{1, 2, 3, 4, 5, 6}"
            ]
          },
          "metadata": {},
          "execution_count": 23
        }
      ]
    },
    {
      "cell_type": "code",
      "source": [
        "#application of SETS\n",
        "\n",
        "groceries_list = {\"Banana\",\"Apple\",\"Orange\",\"Banana\"}\n",
        "groceries_list"
      ],
      "metadata": {
        "colab": {
          "base_uri": "https://localhost:8080/"
        },
        "id": "3Q9pSr0PvgrQ",
        "outputId": "87931f4d-3475-48fc-974c-3296a8375804"
      },
      "execution_count": null,
      "outputs": [
        {
          "output_type": "execute_result",
          "data": {
            "text/plain": [
              "{'Apple', 'Banana', 'Orange'}"
            ]
          },
          "metadata": {},
          "execution_count": 24
        }
      ]
    },
    {
      "cell_type": "markdown",
      "source": [
        "### **Dictionary - Data is stored in the form of key pair**\n"
      ],
      "metadata": {
        "id": "e2Cjgf8Iv7tA"
      }
    },
    {
      "cell_type": "code",
      "source": [
        "my_dict = {}\n",
        "my_dict"
      ],
      "metadata": {
        "colab": {
          "base_uri": "https://localhost:8080/"
        },
        "id": "6PndyCJNwRu4",
        "outputId": "f92a3ee8-f30c-4734-9a09-9999d31261d7"
      },
      "execution_count": null,
      "outputs": [
        {
          "output_type": "execute_result",
          "data": {
            "text/plain": [
              "{}"
            ]
          },
          "metadata": {},
          "execution_count": 25
        }
      ]
    },
    {
      "cell_type": "code",
      "source": [
        "my_dict = {'Coursname' : 'Python', 'Rating' : 4.9}\n",
        "my_dict"
      ],
      "metadata": {
        "colab": {
          "base_uri": "https://localhost:8080/"
        },
        "id": "g_p-K__LwVup",
        "outputId": "007e8170-1cfb-4489-bea5-782ff593c882"
      },
      "execution_count": null,
      "outputs": [
        {
          "output_type": "execute_result",
          "data": {
            "text/plain": [
              "{'Coursname': 'Python', 'Rating': 4.9}"
            ]
          },
          "metadata": {},
          "execution_count": 28
        }
      ]
    },
    {
      "cell_type": "code",
      "source": [
        "my_dict = {'College_name' : 'Dr.AIT','Location' : 'Bangalore','Stream' : 'Computer Science'}\n",
        "\n",
        "my_dict"
      ],
      "metadata": {
        "colab": {
          "base_uri": "https://localhost:8080/"
        },
        "id": "V4cfsjnrw1-B",
        "outputId": "cc4f9f9b-95c5-4ecd-a28a-2ee22dee07aa"
      },
      "execution_count": null,
      "outputs": [
        {
          "output_type": "execute_result",
          "data": {
            "text/plain": [
              "{'College_name': 'Dr.AIT',\n",
              " 'Location': 'Bangalore',\n",
              " 'Stream': 'Computer Science'}"
            ]
          },
          "metadata": {},
          "execution_count": 29
        }
      ]
    },
    {
      "cell_type": "code",
      "source": [
        "phone_book = {'Akash' : 9742429833,'Shivanand' : 9732232323}\n",
        "phone_book['Akash']"
      ],
      "metadata": {
        "colab": {
          "base_uri": "https://localhost:8080/"
        },
        "id": "OTF5w7v_x0mN",
        "outputId": "13f298d0-8c69-4661-840c-bf0eadf75d27"
      },
      "execution_count": null,
      "outputs": [
        {
          "output_type": "execute_result",
          "data": {
            "text/plain": [
              "9742429833"
            ]
          },
          "metadata": {},
          "execution_count": 31
        }
      ]
    },
    {
      "cell_type": "code",
      "source": [
        "phone_book.keys()"
      ],
      "metadata": {
        "colab": {
          "base_uri": "https://localhost:8080/"
        },
        "id": "MmPy0kdMzNDY",
        "outputId": "cde5d01f-31aa-4276-9027-819db1632fe6"
      },
      "execution_count": null,
      "outputs": [
        {
          "output_type": "execute_result",
          "data": {
            "text/plain": [
              "dict_keys(['Akash', 'Shivanand'])"
            ]
          },
          "metadata": {},
          "execution_count": 33
        }
      ]
    },
    {
      "cell_type": "code",
      "source": [
        "phone_book.values()"
      ],
      "metadata": {
        "colab": {
          "base_uri": "https://localhost:8080/"
        },
        "id": "XpJamu3vzUQ7",
        "outputId": "0e4d986a-30a2-41bd-a28e-83c1f46ba54f"
      },
      "execution_count": null,
      "outputs": [
        {
          "output_type": "execute_result",
          "data": {
            "text/plain": [
              "dict_values([9742429833, 9732232323])"
            ]
          },
          "metadata": {},
          "execution_count": 34
        }
      ]
    },
    {
      "cell_type": "code",
      "source": [
        "#ASCII\n",
        "\n",
        "Char = \"A\"\n",
        "ord(Char)"
      ],
      "metadata": {
        "colab": {
          "base_uri": "https://localhost:8080/"
        },
        "id": "n7XlCBAJJNzC",
        "outputId": "e3d998ef-b1d3-43d4-a5b9-15e628f6a86c"
      },
      "execution_count": null,
      "outputs": [
        {
          "output_type": "execute_result",
          "data": {
            "text/plain": [
              "65"
            ]
          },
          "metadata": {},
          "execution_count": 3
        }
      ]
    },
    {
      "cell_type": "code",
      "source": [
        "ord('a')"
      ],
      "metadata": {
        "colab": {
          "base_uri": "https://localhost:8080/"
        },
        "id": "XwMI7kzxJw5i",
        "outputId": "5a504d9b-4281-4d8a-be04-d1fc5fcdabbc"
      },
      "execution_count": null,
      "outputs": [
        {
          "output_type": "execute_result",
          "data": {
            "text/plain": [
              "97"
            ]
          },
          "metadata": {},
          "execution_count": 4
        }
      ]
    },
    {
      "cell_type": "code",
      "source": [
        "chr(65)"
      ],
      "metadata": {
        "colab": {
          "base_uri": "https://localhost:8080/",
          "height": 35
        },
        "id": "WxGY7PHJJ1mK",
        "outputId": "f660e099-f9f5-45f7-880b-91e4e1bfcc93"
      },
      "execution_count": null,
      "outputs": [
        {
          "output_type": "execute_result",
          "data": {
            "text/plain": [
              "'A'"
            ],
            "application/vnd.google.colaboratory.intrinsic+json": {
              "type": "string"
            }
          },
          "metadata": {},
          "execution_count": 10
        }
      ]
    },
    {
      "cell_type": "code",
      "source": [
        "#UNICODE Representation -- oemga, sigma and some special character can be stored using some unique value\n",
        "\n",
        "#String!\n",
        "\n",
        "a = \"i'm a string\"\n",
        "a\n",
        "\n"
      ],
      "metadata": {
        "colab": {
          "base_uri": "https://localhost:8080/",
          "height": 35
        },
        "id": "y_rP2qemKt-D",
        "outputId": "eb18e1a7-1fb3-4dd4-e6c5-d97e65cf8506"
      },
      "execution_count": null,
      "outputs": [
        {
          "output_type": "execute_result",
          "data": {
            "text/plain": [
              "\"i'm a string\""
            ],
            "application/vnd.google.colaboratory.intrinsic+json": {
              "type": "string"
            }
          },
          "metadata": {},
          "execution_count": 11
        }
      ]
    },
    {
      "cell_type": "code",
      "source": [
        "A = '''I am string\n",
        "i have to concatenate multiple lines'''\n",
        "A"
      ],
      "metadata": {
        "colab": {
          "base_uri": "https://localhost:8080/",
          "height": 35
        },
        "id": "8fDJQQBkQRFM",
        "outputId": "49fc1162-4d7e-4343-d052-216e7f7ce782"
      },
      "execution_count": null,
      "outputs": [
        {
          "output_type": "execute_result",
          "data": {
            "text/plain": [
              "'I am string\\ni have to concatenate multiple lines'"
            ],
            "application/vnd.google.colaboratory.intrinsic+json": {
              "type": "string"
            }
          },
          "metadata": {},
          "execution_count": 12
        }
      ]
    },
    {
      "cell_type": "code",
      "source": [
        "str_a = ''' A string \"can\" be written like this '''\n",
        "str_a"
      ],
      "metadata": {
        "colab": {
          "base_uri": "https://localhost:8080/",
          "height": 35
        },
        "id": "ci1wgGktQbQ9",
        "outputId": "47c9cb17-6209-4bc2-886d-70b7e285f135"
      },
      "execution_count": null,
      "outputs": [
        {
          "output_type": "execute_result",
          "data": {
            "text/plain": [
              "' A string \"can\" be written like this '"
            ],
            "application/vnd.google.colaboratory.intrinsic+json": {
              "type": "string"
            }
          },
          "metadata": {},
          "execution_count": 14
        }
      ]
    },
    {
      "cell_type": "code",
      "source": [
        "#Concatenation of 2 strings.\n",
        "a = 'am a string-1'\n",
        "b = 'am second string'\n",
        "\n",
        "c = a + \" \" + b\n",
        "c"
      ],
      "metadata": {
        "colab": {
          "base_uri": "https://localhost:8080/",
          "height": 35
        },
        "id": "CEtO3IYJRGVk",
        "outputId": "c74d9676-499f-42ed-ca6f-82a2220d65e4"
      },
      "execution_count": null,
      "outputs": [
        {
          "output_type": "execute_result",
          "data": {
            "text/plain": [
              "'am a string-1 am second string'"
            ],
            "application/vnd.google.colaboratory.intrinsic+json": {
              "type": "string"
            }
          },
          "metadata": {},
          "execution_count": 17
        }
      ]
    },
    {
      "cell_type": "code",
      "source": [
        "'hello' + ' world'"
      ],
      "metadata": {
        "colab": {
          "base_uri": "https://localhost:8080/",
          "height": 35
        },
        "id": "J4AvEtKwVdZn",
        "outputId": "04536263-2bec-4b3c-c530-01556868eb22"
      },
      "execution_count": null,
      "outputs": [
        {
          "output_type": "execute_result",
          "data": {
            "text/plain": [
              "'hello world'"
            ],
            "application/vnd.google.colaboratory.intrinsic+json": {
              "type": "string"
            }
          },
          "metadata": {},
          "execution_count": 23
        }
      ]
    },
    {
      "cell_type": "code",
      "source": [
        "abs = 'Navodayan'\n",
        "abs[3:6]"
      ],
      "metadata": {
        "colab": {
          "base_uri": "https://localhost:8080/",
          "height": 35
        },
        "id": "GizMJG6rXAqC",
        "outputId": "b140f218-3af9-421b-915f-06e8e6d83490"
      },
      "execution_count": null,
      "outputs": [
        {
          "output_type": "execute_result",
          "data": {
            "text/plain": [
              "'oda'"
            ],
            "application/vnd.google.colaboratory.intrinsic+json": {
              "type": "string"
            }
          },
          "metadata": {},
          "execution_count": 30
        }
      ]
    },
    {
      "cell_type": "code",
      "source": [
        "length = len(abs)\n",
        "length"
      ],
      "metadata": {
        "colab": {
          "base_uri": "https://localhost:8080/"
        },
        "id": "koNRHfbZXZqa",
        "outputId": "19ea5557-e0e0-416e-e2d2-05d252fd6858"
      },
      "execution_count": null,
      "outputs": [
        {
          "output_type": "execute_result",
          "data": {
            "text/plain": [
              "9"
            ]
          },
          "metadata": {},
          "execution_count": 31
        }
      ]
    },
    {
      "cell_type": "code",
      "source": [
        "abs[:-1]"
      ],
      "metadata": {
        "colab": {
          "base_uri": "https://localhost:8080/",
          "height": 35
        },
        "id": "KcgYxJFiXgup",
        "outputId": "e3fd7928-d842-4dd6-dc0f-0964841625e1"
      },
      "execution_count": null,
      "outputs": [
        {
          "output_type": "execute_result",
          "data": {
            "text/plain": [
              "'Navodaya'"
            ],
            "application/vnd.google.colaboratory.intrinsic+json": {
              "type": "string"
            }
          },
          "metadata": {},
          "execution_count": 33
        }
      ]
    },
    {
      "cell_type": "code",
      "source": [
        "abs[:-8]"
      ],
      "metadata": {
        "id": "-whc_8RuXupL",
        "outputId": "cdd2125e-7410-4cd2-98fd-bd2a6a082716",
        "colab": {
          "base_uri": "https://localhost:8080/",
          "height": 35
        }
      },
      "execution_count": null,
      "outputs": [
        {
          "output_type": "execute_result",
          "data": {
            "text/plain": [
              "'N'"
            ],
            "application/vnd.google.colaboratory.intrinsic+json": {
              "type": "string"
            }
          },
          "metadata": {},
          "execution_count": 35
        }
      ]
    },
    {
      "cell_type": "code",
      "source": [
        "a = \"apt\"\n",
        "a.replace(\"apt\",\"apartment\")\n"
      ],
      "metadata": {
        "colab": {
          "base_uri": "https://localhost:8080/",
          "height": 36
        },
        "id": "JM-aDZyvK_9D",
        "outputId": "c3b25e15-8dac-4e5b-e474-5d5adeec139c"
      },
      "execution_count": null,
      "outputs": [
        {
          "output_type": "execute_result",
          "data": {
            "text/plain": [
              "'apartment'"
            ],
            "application/vnd.google.colaboratory.intrinsic+json": {
              "type": "string"
            }
          },
          "metadata": {},
          "execution_count": 4
        }
      ]
    },
    {
      "cell_type": "code",
      "source": [
        "A = \"BRB,TTLY\"\n",
        "A.replace(\"BRB\",\"Be right back\").replace(\"TTLY\",\"Talk to you later\")"
      ],
      "metadata": {
        "colab": {
          "base_uri": "https://localhost:8080/",
          "height": 36
        },
        "id": "xd3YFZSZLqP-",
        "outputId": "ada98012-a034-4747-9622-c656c2e1763f"
      },
      "execution_count": null,
      "outputs": [
        {
          "output_type": "execute_result",
          "data": {
            "text/plain": [
              "'Be right back,Talk to you later'"
            ],
            "application/vnd.google.colaboratory.intrinsic+json": {
              "type": "string"
            }
          },
          "metadata": {},
          "execution_count": 6
        }
      ]
    },
    {
      "cell_type": "code",
      "source": [
        "a = \"hello World !\"\n",
        "# a.lower() #hello world !\n",
        "a.upper() #HELLO WORLD !\n",
        "# a.capitalize() #Hello world !\n",
        "# a.title() #Hello World !\n",
        "# a.swapcase() #HELLO wORLD !"
      ],
      "metadata": {
        "colab": {
          "base_uri": "https://localhost:8080/",
          "height": 36
        },
        "id": "b76Kb5VVMIjq",
        "outputId": "768d5087-db1d-4db5-c4e8-8c1085f06389"
      },
      "execution_count": null,
      "outputs": [
        {
          "output_type": "execute_result",
          "data": {
            "text/plain": [
              "'HELLO WORLD !'"
            ],
            "application/vnd.google.colaboratory.intrinsic+json": {
              "type": "string"
            }
          },
          "metadata": {},
          "execution_count": 10
        }
      ]
    },
    {
      "cell_type": "code",
      "source": [
        "#Search in string\n",
        "\n",
        "String = \"I am a professsional Software Engineer\"\n",
        "\n",
        "\"software\" in String"
      ],
      "metadata": {
        "colab": {
          "base_uri": "https://localhost:8080/"
        },
        "id": "EEMO45WgMwiu",
        "outputId": "56f3136a-0e56-4da8-80aa-ebd8d9c592fa"
      },
      "execution_count": null,
      "outputs": [
        {
          "output_type": "execute_result",
          "data": {
            "text/plain": [
              "False"
            ]
          },
          "metadata": {},
          "execution_count": 14
        }
      ]
    },
    {
      "cell_type": "code",
      "source": [
        "Search = \"I am Navodayan\"\n",
        "search_word = \"navodayan\"\n",
        "\n",
        "if search_word in Search:\n",
        "  print(\"Found successfully - 1\")\n",
        "elif search_word.lower() in Search.lower():\n",
        "  print(\"Found successfully - 2\")\n",
        "elif search_word.upper() in Search.upper():\n",
        "  print(\"Found successfully - 3\")\n",
        "else:\n",
        "  print(\"Not Found\")"
      ],
      "metadata": {
        "colab": {
          "base_uri": "https://localhost:8080/"
        },
        "id": "TX1zz2GWNQbp",
        "outputId": "946f009d-35c2-4cda-ad35-c81682dff838"
      },
      "execution_count": null,
      "outputs": [
        {
          "output_type": "stream",
          "name": "stdout",
          "text": [
            "Found successfully - 2\n"
          ]
        }
      ]
    },
    {
      "cell_type": "code",
      "source": [
        "#Check validation rule for email\n",
        "\n",
        "Email = 'Shivauppe@gmail.com'\n",
        "if '@' in Email and '.com' in Email:\n",
        "  print(\"Valid Email and enter the password\")\n",
        "else:\n",
        "  print(\"Invalid Email\")\n",
        "\n"
      ],
      "metadata": {
        "id": "hYnE93dHOLpT",
        "colab": {
          "base_uri": "https://localhost:8080/"
        },
        "outputId": "aa479e63-83b5-47c7-bae5-c942cbbb2b58"
      },
      "execution_count": null,
      "outputs": [
        {
          "output_type": "stream",
          "name": "stdout",
          "text": [
            "Valid Email and enter the password\n"
          ]
        }
      ]
    },
    {
      "cell_type": "code",
      "source": [
        "#Sort\n",
        "\n",
        "a = [\"Shiva\",\"Anusha\",\"Pooja\",\"Anushka\"]\n",
        "sorted(a)"
      ],
      "metadata": {
        "colab": {
          "base_uri": "https://localhost:8080/"
        },
        "id": "UfSAlYHXV6au",
        "outputId": "0c3e606c-c005-474a-d915-f6503dad91cb"
      },
      "execution_count": null,
      "outputs": [
        {
          "output_type": "execute_result",
          "data": {
            "text/plain": [
              "['Anusha', 'Anushka', 'Pooja', 'Shiva']"
            ]
          },
          "metadata": {},
          "execution_count": 10
        }
      ]
    },
    {
      "cell_type": "code",
      "source": [
        "#string format\n",
        "name = \"Shivanand\"\n",
        "greetings = f\"Hello {name}, How are you ?\"\n",
        "greetings"
      ],
      "metadata": {
        "colab": {
          "base_uri": "https://localhost:8080/",
          "height": 36
        },
        "id": "tzBnlhgkYoG9",
        "outputId": "61adc278-502c-4c18-c2f6-1e98534e7fb7"
      },
      "execution_count": 1,
      "outputs": [
        {
          "output_type": "execute_result",
          "data": {
            "text/plain": [
              "'Hello Shivanand, How are you ?'"
            ],
            "application/vnd.google.colaboratory.intrinsic+json": {
              "type": "string"
            }
          },
          "metadata": {},
          "execution_count": 1
        }
      ]
    },
    {
      "cell_type": "code",
      "source": [
        "playlist = []\n",
        "playlist.append(\"Ae mere watan ke logo\")\n",
        "playlist.append(\"jara aashiqui\")\n",
        "playlist.append(\"Raabta\")\n",
        "print(playlist)"
      ],
      "metadata": {
        "colab": {
          "base_uri": "https://localhost:8080/"
        },
        "id": "m9fLhoTAvOYA",
        "outputId": "3c20ff5d-4721-4876-8c19-7341f6872b66"
      },
      "execution_count": 2,
      "outputs": [
        {
          "output_type": "stream",
          "name": "stdout",
          "text": [
            "['Ae mere watan ke logo', 'jara aashiqui', 'Raabta']\n"
          ]
        }
      ]
    },
    {
      "cell_type": "code",
      "source": [
        "#list is mutable\n",
        "a = [1,2,3,\"AAAAAA\",\"BBBBBB\"]\n",
        "a[3] = \"Shivanand\"\n",
        "a"
      ],
      "metadata": {
        "colab": {
          "base_uri": "https://localhost:8080/"
        },
        "id": "cqRQUFxkwAea",
        "outputId": "bec50117-e434-45ab-fca5-d7be5875587f"
      },
      "execution_count": 3,
      "outputs": [
        {
          "output_type": "execute_result",
          "data": {
            "text/plain": [
              "[1, 2, 3, 'Shivanand', 'BBBBBB']"
            ]
          },
          "metadata": {},
          "execution_count": 3
        }
      ]
    },
    {
      "cell_type": "code",
      "source": [
        "# a.insert(0,\"Anand\")\n",
        "a"
      ],
      "metadata": {
        "colab": {
          "base_uri": "https://localhost:8080/"
        },
        "id": "JKM0TP7ywPtK",
        "outputId": "a9df0fa4-bf36-402d-f98e-93b709c26a44"
      },
      "execution_count": 6,
      "outputs": [
        {
          "output_type": "execute_result",
          "data": {
            "text/plain": [
              "['Anand', 'Anand', 1, 2, 3, 'Shivanand', 'BBBBBB']"
            ]
          },
          "metadata": {},
          "execution_count": 6
        }
      ]
    },
    {
      "cell_type": "code",
      "source": [
        "#extend - append two lists\n",
        "\n",
        "a = [1,2,3]\n",
        "b = [4,5,6]\n",
        "a.extend(b)\n",
        "a"
      ],
      "metadata": {
        "colab": {
          "base_uri": "https://localhost:8080/"
        },
        "id": "u-vX-RDpwgZZ",
        "outputId": "bc85ab1c-65aa-4839-a661-375b3e3cb883"
      },
      "execution_count": 7,
      "outputs": [
        {
          "output_type": "execute_result",
          "data": {
            "text/plain": [
              "[1, 2, 3, 4, 5, 6]"
            ]
          },
          "metadata": {},
          "execution_count": 7
        }
      ]
    },
    {
      "cell_type": "code",
      "source": [
        "a = [\"Jai shree Ram\",\"Jai Shree Ram\",\"Jai Shree Ram\"]\n",
        "a.count(\"Jai Shree Ram\")"
      ],
      "metadata": {
        "colab": {
          "base_uri": "https://localhost:8080/"
        },
        "id": "alCk4-Sywl53",
        "outputId": "5f9a5892-149f-413f-c5a8-9e9de4c82ab3"
      },
      "execution_count": 8,
      "outputs": [
        {
          "output_type": "execute_result",
          "data": {
            "text/plain": [
              "2"
            ]
          },
          "metadata": {},
          "execution_count": 8
        }
      ]
    },
    {
      "cell_type": "code",
      "source": [
        "A = [\"Shivanand is powerfull Developer\"]\n",
        "A.index(\"Shivanand is powerfull Developer\")"
      ],
      "metadata": {
        "colab": {
          "base_uri": "https://localhost:8080/"
        },
        "id": "bXL1mOc-wyov",
        "outputId": "bf6863b5-3ab8-4cff-a97d-ba1fbd8a0c11"
      },
      "execution_count": 9,
      "outputs": [
        {
          "output_type": "execute_result",
          "data": {
            "text/plain": [
              "0"
            ]
          },
          "metadata": {},
          "execution_count": 9
        }
      ]
    },
    {
      "cell_type": "code",
      "source": [
        "A = [\"Shivanand is powerfull Developer\"]\n",
        "A.pop()"
      ],
      "metadata": {
        "colab": {
          "base_uri": "https://localhost:8080/",
          "height": 36
        },
        "id": "0tDY-oZLw69_",
        "outputId": "f864e567-3a3b-450d-ac9b-8104a50864d6"
      },
      "execution_count": 10,
      "outputs": [
        {
          "output_type": "execute_result",
          "data": {
            "text/plain": [
              "'Shivanand is powerfull Developer'"
            ],
            "application/vnd.google.colaboratory.intrinsic+json": {
              "type": "string"
            }
          },
          "metadata": {},
          "execution_count": 10
        }
      ]
    },
    {
      "cell_type": "code",
      "source": [
        "A"
      ],
      "metadata": {
        "colab": {
          "base_uri": "https://localhost:8080/"
        },
        "id": "A1iGzqkfw_BD",
        "outputId": "29682041-eb8f-4aa0-f5e2-057769e648a2"
      },
      "execution_count": 11,
      "outputs": [
        {
          "output_type": "execute_result",
          "data": {
            "text/plain": [
              "[]"
            ]
          },
          "metadata": {},
          "execution_count": 11
        }
      ]
    },
    {
      "cell_type": "code",
      "source": [
        "A = [\"Shivanand is powerfull Developer\"]\n",
        "A.remove(\"Shivanand is powerfull Developer\")\n",
        "A"
      ],
      "metadata": {
        "colab": {
          "base_uri": "https://localhost:8080/"
        },
        "id": "DZM3Xvf7xAx_",
        "outputId": "47b36ec4-d490-46c8-c8a3-8723df09525d"
      },
      "execution_count": 12,
      "outputs": [
        {
          "output_type": "execute_result",
          "data": {
            "text/plain": [
              "[]"
            ]
          },
          "metadata": {},
          "execution_count": 12
        }
      ]
    },
    {
      "cell_type": "code",
      "source": [
        "#check given string is empty or not, if empty add a string using input else keep by default\n",
        "a = \"\"\n",
        "if not a:\n",
        "  a = input(\"Enter the string\")\n",
        "a"
      ],
      "metadata": {
        "colab": {
          "base_uri": "https://localhost:8080/",
          "height": 54
        },
        "id": "_JpbZolHxGrg",
        "outputId": "8510a86e-9921-43b9-fc6e-f2cf0d4b193b"
      },
      "execution_count": 13,
      "outputs": [
        {
          "name": "stdout",
          "output_type": "stream",
          "text": [
            "Enter the stringShiva\n"
          ]
        },
        {
          "output_type": "execute_result",
          "data": {
            "text/plain": [
              "'Shiva'"
            ],
            "application/vnd.google.colaboratory.intrinsic+json": {
              "type": "string"
            }
          },
          "metadata": {},
          "execution_count": 13
        }
      ]
    },
    {
      "cell_type": "code",
      "source": [
        "#type\n",
        "\n",
        "type(a)"
      ],
      "metadata": {
        "colab": {
          "base_uri": "https://localhost:8080/"
        },
        "id": "n9DY-WJpxfrG",
        "outputId": "6185b6ec-7399-477b-fef4-d08f0860fd80"
      },
      "execution_count": 14,
      "outputs": [
        {
          "output_type": "execute_result",
          "data": {
            "text/plain": [
              "str"
            ]
          },
          "metadata": {},
          "execution_count": 14
        }
      ]
    },
    {
      "cell_type": "code",
      "source": [
        "my_list = [1,2,3,4,5]\n",
        "my_fav_list = [10,20,30,40,50]\n",
        "\n",
        "# my_list + my_fav_list\n",
        "my_list.extend(my_fav_list)\n",
        "my_list\n"
      ],
      "metadata": {
        "colab": {
          "base_uri": "https://localhost:8080/"
        },
        "id": "kjmmaT_4xiux",
        "outputId": "2a36d211-b073-4249-8b71-cd6320c6a1c0"
      },
      "execution_count": 16,
      "outputs": [
        {
          "output_type": "execute_result",
          "data": {
            "text/plain": [
              "[1, 2, 3, 4, 5, 10, 20, 30, 40, 50]"
            ]
          },
          "metadata": {},
          "execution_count": 16
        }
      ]
    },
    {
      "cell_type": "code",
      "source": [
        "#repetation operator\n",
        "\n",
        "\"     1   \" * 2"
      ],
      "metadata": {
        "colab": {
          "base_uri": "https://localhost:8080/",
          "height": 36
        },
        "id": "69sCBg0QysEB",
        "outputId": "ea431859-1a53-445d-a88f-4d37f5c198e7"
      },
      "execution_count": 21,
      "outputs": [
        {
          "output_type": "execute_result",
          "data": {
            "text/plain": [
              "'     1        1   '"
            ],
            "application/vnd.google.colaboratory.intrinsic+json": {
              "type": "string"
            }
          },
          "metadata": {},
          "execution_count": 21
        }
      ]
    },
    {
      "cell_type": "code",
      "source": [
        "'**' * 10"
      ],
      "metadata": {
        "colab": {
          "base_uri": "https://localhost:8080/",
          "height": 36
        },
        "id": "WDaPUlHmy9BM",
        "outputId": "e491ab61-7e6b-4382-e0e6-ca7e17b7ab11"
      },
      "execution_count": 24,
      "outputs": [
        {
          "output_type": "execute_result",
          "data": {
            "text/plain": [
              "'********************'"
            ],
            "application/vnd.google.colaboratory.intrinsic+json": {
              "type": "string"
            }
          },
          "metadata": {},
          "execution_count": 24
        }
      ]
    },
    {
      "cell_type": "code",
      "source": [
        "Msg = \"Alaram tick tok \\n\"\n",
        "print(Msg * 8)\n",
        "# print(Msg)"
      ],
      "metadata": {
        "colab": {
          "base_uri": "https://localhost:8080/"
        },
        "id": "jZt6L23Ozevv",
        "outputId": "8018342c-a80b-47fa-c0c8-cee9af82ceeb"
      },
      "execution_count": 28,
      "outputs": [
        {
          "output_type": "stream",
          "name": "stdout",
          "text": [
            "Alaram tick tok \n",
            "Alaram tick tok \n",
            "Alaram tick tok \n",
            "Alaram tick tok \n",
            "Alaram tick tok \n",
            "Alaram tick tok \n",
            "Alaram tick tok \n",
            "Alaram tick tok \n",
            "\n"
          ]
        }
      ]
    },
    {
      "cell_type": "code",
      "source": [
        "#Check the list\n",
        "\n",
        "Mobiles = [\"Apple\",\"Samsung\",\"Oppo\",\"Oneplus\"]\n",
        "for i in Mobiles:\n",
        "  print(i,end = \" \")"
      ],
      "metadata": {
        "colab": {
          "base_uri": "https://localhost:8080/"
        },
        "id": "jKjCM38ez4CA",
        "outputId": "68a7374f-b1d1-468a-f72d-1d38c72c3023"
      },
      "execution_count": 36,
      "outputs": [
        {
          "output_type": "stream",
          "name": "stdout",
          "text": [
            "Apple Samsung Oppo Oneplus "
          ]
        }
      ]
    },
    {
      "cell_type": "code",
      "source": [
        "#shallow copy and deep copy\n",
        "\n",
        "#shallow copy --> Value will change with change in other list\n",
        "# Mobiles\n",
        "Mobiles_copy = Mobiles\n",
        "# Mobiles_copy\n",
        "\n",
        "# Mobiles_copy[0] = \"Nokia\"\n",
        "Mobiles"
      ],
      "metadata": {
        "colab": {
          "base_uri": "https://localhost:8080/"
        },
        "id": "-4se3A2c4U27",
        "outputId": "bd1617d7-64e1-4661-b85c-80dccdbcae97"
      },
      "execution_count": 44,
      "outputs": [
        {
          "output_type": "execute_result",
          "data": {
            "text/plain": [
              "['Nokia', 'Samsung', 'Oppo', 'Oneplus']"
            ]
          },
          "metadata": {},
          "execution_count": 44
        }
      ]
    },
    {
      "cell_type": "code",
      "source": [
        "#shallow copy --> Value will change with change in other list\n",
        "\n",
        "Mobiles[0] = \"Oppo\"\n",
        "# Mobiles\n",
        "\n",
        "Mobiles_copy"
      ],
      "metadata": {
        "colab": {
          "base_uri": "https://localhost:8080/"
        },
        "id": "HEJxsh24-TBW",
        "outputId": "19b6fd52-6b7d-4654-af69-3673b20705f6"
      },
      "execution_count": 52,
      "outputs": [
        {
          "output_type": "execute_result",
          "data": {
            "text/plain": [
              "['Oppo', 'Samsung', 'Oppo', 'Oneplus']"
            ]
          },
          "metadata": {},
          "execution_count": 52
        }
      ]
    },
    {
      "cell_type": "code",
      "source": [
        "#deep copy -- > will not change the value in another list\n",
        "\n",
        "Mobiles_copy1 = Mobiles.copy()\n",
        "Mobiles_copy1\n",
        "\n"
      ],
      "metadata": {
        "colab": {
          "base_uri": "https://localhost:8080/"
        },
        "id": "qJiV6TiO_Jx-",
        "outputId": "71c7aa0c-0bc3-4a5c-ff56-7760341585ae"
      },
      "execution_count": 53,
      "outputs": [
        {
          "output_type": "execute_result",
          "data": {
            "text/plain": [
              "['Oppo', 'Samsung', 'Oppo', 'Oneplus']"
            ]
          },
          "metadata": {},
          "execution_count": 53
        }
      ]
    },
    {
      "cell_type": "code",
      "source": [
        "Mobiles_copy1[0] = \"Nokia\"\n",
        "# Mobiles_copy1\n",
        "Mobiles_copy"
      ],
      "metadata": {
        "colab": {
          "base_uri": "https://localhost:8080/"
        },
        "id": "GQvX8Uiv_e7F",
        "outputId": "113f505f-a572-4b60-cef7-08d0286d466b"
      },
      "execution_count": 55,
      "outputs": [
        {
          "output_type": "execute_result",
          "data": {
            "text/plain": [
              "['Oppo', 'Samsung', 'Oppo', 'Oneplus']"
            ]
          },
          "metadata": {},
          "execution_count": 55
        }
      ]
    }
  ]
}