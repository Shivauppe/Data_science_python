{
  "nbformat": 4,
  "nbformat_minor": 0,
  "metadata": {
    "colab": {
      "provenance": [],
      "authorship_tag": "ABX9TyPpRwpW6BJpJmoj9daptKZt",
      "include_colab_link": true
    },
    "kernelspec": {
      "name": "python3",
      "display_name": "Python 3"
    },
    "language_info": {
      "name": "python"
    }
  },
  "cells": [
    {
      "cell_type": "markdown",
      "metadata": {
        "id": "view-in-github",
        "colab_type": "text"
      },
      "source": [
        "<a href=\"https://colab.research.google.com/github/Shivauppe/Data_science_python/blob/main/Datastructure.ipynb\" target=\"_parent\"><img src=\"https://colab.research.google.com/assets/colab-badge.svg\" alt=\"Open In Colab\"/></a>"
      ]
    },
    {
      "cell_type": "code",
      "execution_count": null,
      "metadata": {
        "id": "2abbEkpe8KVJ"
      },
      "outputs": [],
      "source": []
    },
    {
      "cell_type": "markdown",
      "source": [
        "**Data Structure is a way of organising and storing the Data so that it can be accessed and manipulated effectively**"
      ],
      "metadata": {
        "id": "Ca1or8Qv8WHw"
      }
    },
    {
      "cell_type": "code",
      "source": [
        "a = \"Shivanand\"\n",
        "type(a)"
      ],
      "metadata": {
        "colab": {
          "base_uri": "https://localhost:8080/"
        },
        "id": "4_0HSldj8e3Y",
        "outputId": "6dadaa16-7ab6-4087-8b4a-b4e726e5c051"
      },
      "execution_count": null,
      "outputs": [
        {
          "output_type": "execute_result",
          "data": {
            "text/plain": [
              "str"
            ]
          },
          "metadata": {},
          "execution_count": 1
        }
      ]
    },
    {
      "cell_type": "markdown",
      "source": [
        "list, Dictionary,Set, tuples,Array\n"
      ],
      "metadata": {
        "id": "zxBo66ladQoi"
      }
    },
    {
      "cell_type": "code",
      "source": [
        "#List\n",
        "\n",
        "A = [1,2,3,-4,0,\"Shivanand\"]\n",
        "\n",
        "A[0]"
      ],
      "metadata": {
        "colab": {
          "base_uri": "https://localhost:8080/"
        },
        "id": "NbuDy9xGd0Qi",
        "outputId": "503a6294-3354-4a90-b8e0-2883d4b190f6"
      },
      "execution_count": null,
      "outputs": [
        {
          "output_type": "execute_result",
          "data": {
            "text/plain": [
              "1"
            ]
          },
          "metadata": {},
          "execution_count": 5
        }
      ]
    },
    {
      "cell_type": "code",
      "source": [
        "#List is mutable\n",
        "\n",
        "A[1] = 5\n",
        "A"
      ],
      "metadata": {
        "colab": {
          "base_uri": "https://localhost:8080/"
        },
        "id": "2HusoC-keIaZ",
        "outputId": "37a8f32a-1d0f-4edc-9e33-36ef682eee45"
      },
      "execution_count": null,
      "outputs": [
        {
          "output_type": "execute_result",
          "data": {
            "text/plain": [
              "[1, 5, 3, -4, 0, 'Shivanand']"
            ]
          },
          "metadata": {},
          "execution_count": 6
        }
      ]
    },
    {
      "cell_type": "code",
      "source": [
        "#Adding one more item to the list\n",
        "\n",
        "A.append(\"Shivanand\")\n",
        "# A.remove(\"Shivanand\")\n",
        "A"
      ],
      "metadata": {
        "colab": {
          "base_uri": "https://localhost:8080/"
        },
        "id": "lf9xpUb_xcXh",
        "outputId": "3676c1b1-3a41-46ca-9025-28962be79428"
      },
      "execution_count": null,
      "outputs": [
        {
          "output_type": "execute_result",
          "data": {
            "text/plain": [
              "[1, 5, 3, -4, 0, 'Shivanand']"
            ]
          },
          "metadata": {},
          "execution_count": 23
        }
      ]
    },
    {
      "cell_type": "code",
      "source": [
        "#remove item from list\n",
        "\n",
        "A.remove(\"Shivanand\")\n",
        "A"
      ],
      "metadata": {
        "colab": {
          "base_uri": "https://localhost:8080/"
        },
        "id": "OZme4EK1Hn4K",
        "outputId": "e67783ed-3617-4dc7-b6c4-5950c2bdb8a2"
      },
      "execution_count": null,
      "outputs": [
        {
          "output_type": "execute_result",
          "data": {
            "text/plain": [
              "[1, 5, 3, -4, 0]"
            ]
          },
          "metadata": {},
          "execution_count": 24
        }
      ]
    },
    {
      "cell_type": "code",
      "source": [
        "B = [(1,2,3),(4,5,6),(7,8,9),(10,11,12)]\n",
        "\n",
        "# B.append(12) #adds the item at the end of list\n",
        "# B.remove(12) # removes the specified item\n",
        "B.reverse() # reverses the order from last to first\n",
        "B\n"
      ],
      "metadata": {
        "colab": {
          "base_uri": "https://localhost:8080/"
        },
        "id": "QM3sP0YrHxFQ",
        "outputId": "3bf5bdbe-b3a6-403f-80ac-0c7ba019b344"
      },
      "execution_count": null,
      "outputs": [
        {
          "output_type": "execute_result",
          "data": {
            "text/plain": [
              "[(10, 11, 12), (7, 8, 9), (4, 5, 6), (1, 2, 3)]"
            ]
          },
          "metadata": {},
          "execution_count": 30
        }
      ]
    },
    {
      "cell_type": "code",
      "source": [
        "B[1:3] #Including 1st Index and excluding 3 Index"
      ],
      "metadata": {
        "colab": {
          "base_uri": "https://localhost:8080/"
        },
        "id": "vEznqZZfItRq",
        "outputId": "91aeab99-b028-4322-87e8-ec22d80a23c2"
      },
      "execution_count": null,
      "outputs": [
        {
          "output_type": "execute_result",
          "data": {
            "text/plain": [
              "[(7, 8, 9), (4, 5, 6)]"
            ]
          },
          "metadata": {},
          "execution_count": 35
        }
      ]
    },
    {
      "cell_type": "code",
      "source": [
        "B[0][2] #accesing the 2d array"
      ],
      "metadata": {
        "colab": {
          "base_uri": "https://localhost:8080/"
        },
        "id": "J-q04dbFJJUK",
        "outputId": "0bfc899f-c8db-4e2f-b247-4113040472a4"
      },
      "execution_count": null,
      "outputs": [
        {
          "output_type": "execute_result",
          "data": {
            "text/plain": [
              "12"
            ]
          },
          "metadata": {},
          "execution_count": 36
        }
      ]
    },
    {
      "cell_type": "code",
      "source": [
        "list_shopping = ['Apple','Samsung','Oppo','Oneplus']\n",
        "for item in list_shopping:\n",
        "  print(item, end = \" \")"
      ],
      "metadata": {
        "colab": {
          "base_uri": "https://localhost:8080/"
        },
        "id": "6fQFgC1NJnnI",
        "outputId": "1e51b8df-05f3-4f0d-c7a6-c5e2fcff8cac"
      },
      "execution_count": null,
      "outputs": [
        {
          "output_type": "stream",
          "name": "stdout",
          "text": [
            "Apple Samsung Oppo Oneplus "
          ]
        }
      ]
    },
    {
      "cell_type": "code",
      "source": [
        "##############################################################################\n",
        "#Tuple#\n",
        "##############################################################################\n",
        "\n",
        "point= (2,3)\n",
        "# point\n",
        "type(point)"
      ],
      "metadata": {
        "colab": {
          "base_uri": "https://localhost:8080/"
        },
        "id": "9xmGoaBnKFUO",
        "outputId": "b5f7caa9-46a6-4bf9-d06a-2d83e212ee8a"
      },
      "execution_count": null,
      "outputs": [
        {
          "output_type": "execute_result",
          "data": {
            "text/plain": [
              "tuple"
            ]
          },
          "metadata": {},
          "execution_count": 41
        }
      ]
    },
    {
      "cell_type": "code",
      "source": [
        "#tuple real time examples\n",
        "tup = (1,2,3,4,5)\n",
        "tup"
      ],
      "metadata": {
        "id": "Z_mx901JLEbC",
        "colab": {
          "base_uri": "https://localhost:8080/"
        },
        "outputId": "41603384-3db3-409f-938c-0b15b533f848"
      },
      "execution_count": null,
      "outputs": [
        {
          "output_type": "execute_result",
          "data": {
            "text/plain": [
              "(1, 2, 3, 4, 5)"
            ]
          },
          "metadata": {},
          "execution_count": 1
        }
      ]
    },
    {
      "cell_type": "code",
      "source": [
        "#Can store heterogeneous Data in Tuple\n",
        "\n",
        "a = ('shivanand',1+2j,2.3)\n",
        "a"
      ],
      "metadata": {
        "colab": {
          "base_uri": "https://localhost:8080/"
        },
        "id": "eJqVbelnq1mQ",
        "outputId": "7decd25c-1cab-442c-a0a1-f2197e265f0d"
      },
      "execution_count": null,
      "outputs": [
        {
          "output_type": "execute_result",
          "data": {
            "text/plain": [
              "('shivanand', (1+2j), 2.3)"
            ]
          },
          "metadata": {},
          "execution_count": 3
        }
      ]
    },
    {
      "cell_type": "code",
      "source": [
        "#tuple can be access but cant be altered.\n",
        "a[0]"
      ],
      "metadata": {
        "colab": {
          "base_uri": "https://localhost:8080/",
          "height": 35
        },
        "id": "vV_AKTXFrCSm",
        "outputId": "d1f06ed4-4683-4d13-f7bf-36631f634c0d"
      },
      "execution_count": null,
      "outputs": [
        {
          "output_type": "execute_result",
          "data": {
            "text/plain": [
              "'shivanand'"
            ],
            "application/vnd.google.colaboratory.intrinsic+json": {
              "type": "string"
            }
          },
          "metadata": {},
          "execution_count": 6
        }
      ]
    },
    {
      "cell_type": "code",
      "source": [
        "#type of a\n",
        "\n",
        "type(a)"
      ],
      "metadata": {
        "colab": {
          "base_uri": "https://localhost:8080/"
        },
        "id": "OCVhdxCbrcDp",
        "outputId": "202cedd2-65a7-48c5-ef35-21b3abbc263e"
      },
      "execution_count": null,
      "outputs": [
        {
          "output_type": "execute_result",
          "data": {
            "text/plain": [
              "tuple"
            ]
          },
          "metadata": {},
          "execution_count": 7
        }
      ]
    },
    {
      "cell_type": "code",
      "source": [
        "#tuples are immutable\n",
        "a[0] = 'Shivanand1'\n",
        "a"
      ],
      "metadata": {
        "colab": {
          "base_uri": "https://localhost:8080/",
          "height": 176
        },
        "id": "1HVPbeGAroNO",
        "outputId": "b1aaa6d6-ad16-4ce6-b7f4-cdd9eb5b72d3"
      },
      "execution_count": null,
      "outputs": [
        {
          "output_type": "error",
          "ename": "TypeError",
          "evalue": "'tuple' object does not support item assignment",
          "traceback": [
            "\u001b[0;31m---------------------------------------------------------------------------\u001b[0m",
            "\u001b[0;31mTypeError\u001b[0m                                 Traceback (most recent call last)",
            "\u001b[0;32m<ipython-input-8-8781961534a1>\u001b[0m in \u001b[0;36m<cell line: 2>\u001b[0;34m()\u001b[0m\n\u001b[1;32m      1\u001b[0m \u001b[0;31m#tuples are immutable\u001b[0m\u001b[0;34m\u001b[0m\u001b[0;34m\u001b[0m\u001b[0m\n\u001b[0;32m----> 2\u001b[0;31m \u001b[0ma\u001b[0m\u001b[0;34m[\u001b[0m\u001b[0;36m0\u001b[0m\u001b[0;34m]\u001b[0m \u001b[0;34m=\u001b[0m \u001b[0;34m'Shivanand1'\u001b[0m\u001b[0;34m\u001b[0m\u001b[0;34m\u001b[0m\u001b[0m\n\u001b[0m\u001b[1;32m      3\u001b[0m \u001b[0ma\u001b[0m\u001b[0;34m\u001b[0m\u001b[0;34m\u001b[0m\u001b[0m\n",
            "\u001b[0;31mTypeError\u001b[0m: 'tuple' object does not support item assignment"
          ]
        }
      ]
    },
    {
      "cell_type": "code",
      "source": [
        "#multiple tuples\n",
        "A = (9,10,11,12)\n",
        "B = (13,14,15,16)\n",
        "C = (A,B)\n",
        "# C\n",
        "# A + (B)\n",
        "\n",
        "for i1 in C:\n",
        "    print(i1,end = \" \")\n"
      ],
      "metadata": {
        "colab": {
          "base_uri": "https://localhost:8080/"
        },
        "id": "CRaNDuEjrxL2",
        "outputId": "c95332df-3738-479c-b7a2-43209992eb56"
      },
      "execution_count": null,
      "outputs": [
        {
          "output_type": "stream",
          "name": "stdout",
          "text": [
            "(9, 10, 11, 12) (13, 14, 15, 16) "
          ]
        }
      ]
    },
    {
      "cell_type": "markdown",
      "source": [
        "### **Set is unordered collection of unique elements**"
      ],
      "metadata": {
        "id": "KauGOq_PtSlI"
      }
    },
    {
      "cell_type": "code",
      "source": [
        "s = {1,2,'Shivanand',1.2,1+2j}\n",
        "# s\n",
        "type(s)"
      ],
      "metadata": {
        "colab": {
          "base_uri": "https://localhost:8080/"
        },
        "id": "Xl27TEqptcE3",
        "outputId": "14c28b00-9136-43b3-defb-0f8870fbc0ec"
      },
      "execution_count": null,
      "outputs": [
        {
          "output_type": "execute_result",
          "data": {
            "text/plain": [
              "set"
            ]
          },
          "metadata": {},
          "execution_count": 20
        }
      ]
    },
    {
      "cell_type": "code",
      "source": [
        "#Sets are non indexable\n",
        "\n",
        "S = {1,2,2,2,2,3,3,3,3,3,3,4,5,6}\n",
        "# S[0] -- throws error\n",
        "S\n"
      ],
      "metadata": {
        "colab": {
          "base_uri": "https://localhost:8080/"
        },
        "id": "aZA1hzUCuZjI",
        "outputId": "0833f413-636c-432a-c1cf-64a1830f7005"
      },
      "execution_count": null,
      "outputs": [
        {
          "output_type": "execute_result",
          "data": {
            "text/plain": [
              "{1, 2, 3, 4, 5, 6}"
            ]
          },
          "metadata": {},
          "execution_count": 21
        }
      ]
    },
    {
      "cell_type": "code",
      "source": [
        "#in SET Syou can add elements and remove elements - it makes Immutable\n",
        "\n",
        "#use case - get the unique elements\n",
        "\n",
        "# S.add(7)\n",
        "S.remove(7)\n",
        "S"
      ],
      "metadata": {
        "colab": {
          "base_uri": "https://localhost:8080/"
        },
        "id": "TPvwphh7u82o",
        "outputId": "b4868cd2-fa4b-44ff-d135-410bd1a46d7e"
      },
      "execution_count": null,
      "outputs": [
        {
          "output_type": "execute_result",
          "data": {
            "text/plain": [
              "{1, 2, 3, 4, 5, 6}"
            ]
          },
          "metadata": {},
          "execution_count": 23
        }
      ]
    },
    {
      "cell_type": "code",
      "source": [
        "#application of SETS\n",
        "\n",
        "groceries_list = {\"Banana\",\"Apple\",\"Orange\",\"Banana\"}\n",
        "groceries_list"
      ],
      "metadata": {
        "colab": {
          "base_uri": "https://localhost:8080/"
        },
        "id": "3Q9pSr0PvgrQ",
        "outputId": "87931f4d-3475-48fc-974c-3296a8375804"
      },
      "execution_count": null,
      "outputs": [
        {
          "output_type": "execute_result",
          "data": {
            "text/plain": [
              "{'Apple', 'Banana', 'Orange'}"
            ]
          },
          "metadata": {},
          "execution_count": 24
        }
      ]
    },
    {
      "cell_type": "markdown",
      "source": [
        "### **Dictionary - Data is stored in the form of key pair**\n"
      ],
      "metadata": {
        "id": "e2Cjgf8Iv7tA"
      }
    },
    {
      "cell_type": "code",
      "source": [
        "my_dict = {}\n",
        "my_dict"
      ],
      "metadata": {
        "colab": {
          "base_uri": "https://localhost:8080/"
        },
        "id": "6PndyCJNwRu4",
        "outputId": "f92a3ee8-f30c-4734-9a09-9999d31261d7"
      },
      "execution_count": null,
      "outputs": [
        {
          "output_type": "execute_result",
          "data": {
            "text/plain": [
              "{}"
            ]
          },
          "metadata": {},
          "execution_count": 25
        }
      ]
    },
    {
      "cell_type": "code",
      "source": [
        "my_dict = {'Coursname' : 'Python', 'Rating' : 4.9}\n",
        "my_dict"
      ],
      "metadata": {
        "colab": {
          "base_uri": "https://localhost:8080/"
        },
        "id": "g_p-K__LwVup",
        "outputId": "007e8170-1cfb-4489-bea5-782ff593c882"
      },
      "execution_count": null,
      "outputs": [
        {
          "output_type": "execute_result",
          "data": {
            "text/plain": [
              "{'Coursname': 'Python', 'Rating': 4.9}"
            ]
          },
          "metadata": {},
          "execution_count": 28
        }
      ]
    },
    {
      "cell_type": "code",
      "source": [
        "my_dict = {'College_name' : 'Dr.AIT','Location' : 'Bangalore','Stream' : 'Computer Science'}\n",
        "\n",
        "my_dict"
      ],
      "metadata": {
        "colab": {
          "base_uri": "https://localhost:8080/"
        },
        "id": "V4cfsjnrw1-B",
        "outputId": "cc4f9f9b-95c5-4ecd-a28a-2ee22dee07aa"
      },
      "execution_count": null,
      "outputs": [
        {
          "output_type": "execute_result",
          "data": {
            "text/plain": [
              "{'College_name': 'Dr.AIT',\n",
              " 'Location': 'Bangalore',\n",
              " 'Stream': 'Computer Science'}"
            ]
          },
          "metadata": {},
          "execution_count": 29
        }
      ]
    },
    {
      "cell_type": "code",
      "source": [
        "phone_book = {'Akash' : 9742429833,'Shivanand' : 9732232323}\n",
        "phone_book['Akash']"
      ],
      "metadata": {
        "colab": {
          "base_uri": "https://localhost:8080/"
        },
        "id": "OTF5w7v_x0mN",
        "outputId": "13f298d0-8c69-4661-840c-bf0eadf75d27"
      },
      "execution_count": null,
      "outputs": [
        {
          "output_type": "execute_result",
          "data": {
            "text/plain": [
              "9742429833"
            ]
          },
          "metadata": {},
          "execution_count": 31
        }
      ]
    },
    {
      "cell_type": "code",
      "source": [
        "phone_book.keys()"
      ],
      "metadata": {
        "colab": {
          "base_uri": "https://localhost:8080/"
        },
        "id": "MmPy0kdMzNDY",
        "outputId": "cde5d01f-31aa-4276-9027-819db1632fe6"
      },
      "execution_count": null,
      "outputs": [
        {
          "output_type": "execute_result",
          "data": {
            "text/plain": [
              "dict_keys(['Akash', 'Shivanand'])"
            ]
          },
          "metadata": {},
          "execution_count": 33
        }
      ]
    },
    {
      "cell_type": "code",
      "source": [
        "phone_book.values()"
      ],
      "metadata": {
        "colab": {
          "base_uri": "https://localhost:8080/"
        },
        "id": "XpJamu3vzUQ7",
        "outputId": "0e4d986a-30a2-41bd-a28e-83c1f46ba54f"
      },
      "execution_count": null,
      "outputs": [
        {
          "output_type": "execute_result",
          "data": {
            "text/plain": [
              "dict_values([9742429833, 9732232323])"
            ]
          },
          "metadata": {},
          "execution_count": 34
        }
      ]
    }
  ]
}